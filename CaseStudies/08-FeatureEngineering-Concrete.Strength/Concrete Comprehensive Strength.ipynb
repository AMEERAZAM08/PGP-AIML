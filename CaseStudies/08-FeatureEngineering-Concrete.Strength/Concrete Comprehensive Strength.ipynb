{
 "cells": [
  {
   "cell_type": "markdown",
   "metadata": {},
   "source": [
    "# <center>Feature Engineering - Concrete Comprehensive Strength</center>\n",
    "### Abstract\n",
    "Concrete is the most important material in civil engineering. The concrete compressive strength is a highly nonlinear function of age and ingredients. These ingredients include cement, blast furnace slag, fly ash, water, superplasticizer, coarse aggregate, and fine aggregate.\n",
    "\n",
    "### Data Characteristics    \n",
    "The actual concrete compressive strength (MPa) for a given mixture under a specific age (days) was determined from laboratory. Data is in raw form (not scaled).\n",
    "\n",
    "**Summary Statistics:**<br/>\n",
    "Number of instances (observations): 1030<br/>\n",
    "Number of Attributes: 9<br/>\n",
    "Attribute breakdown: 8 quantitative input variables, and 1 quantitative output variable\n",
    "\n",
    "**Variable Information:** Given is the variable name, variable type, the measurement unit and a brief description. The concrete compressive strength is the regression problem. The order of this listing corresponds to the order of numerals along the rows of the database. \n",
    "- **Cement** - kg in a m3 mixture\n",
    "- **Blast Furnace Slag** - kg in a m3 mixture\n",
    "- **Fly Ash** - kg in a m3 mixture\n",
    "- **Water** - kg in a m3 mixture\n",
    "- **Superplasticizer** - kg in a m3 mixture\n",
    "- **Coarse Aggregate** - kg in a m3 mixture\n",
    "- **Fine Aggregate** - kg in a m3 mixture\n",
    "- **Age** - Day (1~365)\n",
    "- **Concrete compressive strength** (Target variable) - MPa\n",
    "\n",
    "### Objective\n",
    "Using the data availble in the **concrete.csv** file, apply Feature Engineering methods to obtain 85% to 95% accuracy with 95% confidence level."
   ]
  }
 ],
 "metadata": {
  "kernelspec": {
   "display_name": "Python 3",
   "language": "python",
   "name": "python3"
  },
  "language_info": {
   "codemirror_mode": {
    "name": "ipython",
    "version": 3
   },
   "file_extension": ".py",
   "mimetype": "text/x-python",
   "name": "python",
   "nbconvert_exporter": "python",
   "pygments_lexer": "ipython3",
   "version": "3.6.5"
  }
 },
 "nbformat": 4,
 "nbformat_minor": 2
}
