{
 "cells": [
  {
   "cell_type": "code",
   "execution_count": 1,
   "metadata": {},
   "outputs": [
    {
     "name": "stderr",
     "output_type": "stream",
     "text": [
      "Using TensorFlow backend.\n"
     ]
    }
   ],
   "source": [
    "# Utilities\n",
    "import sys\n",
    "import h5py\n",
    "import zipfile\n",
    "import warnings\n",
    "from time import time\n",
    "\n",
    "# Numerical calculation\n",
    "import scipy\n",
    "import numpy as np\n",
    "\n",
    "# Data Visualization\n",
    "import matplotlib.pyplot as plt\n",
    "import seaborn as sns\n",
    "\n",
    "# Neural Network\n",
    "import tensorflow, keras\n",
    "from tensorflow.keras import utils, losses, optimizers, callbacks\n",
    "from tensorflow.keras.models import Sequential\n",
    "from tensorflow.keras.layers import Dropout, ReLU, Dense, BatchNormalization"
   ]
  },
  {
   "cell_type": "code",
   "execution_count": 2,
   "metadata": {},
   "outputs": [
    {
     "name": "stdout",
     "output_type": "stream",
     "text": [
      "Tensorflow version 1.15.0\n",
      "Keras version 2.2.4\n",
      "Scipy version 1.2.1\n"
     ]
    }
   ],
   "source": [
    "print('Tensorflow version', tensorflow.__version__)\n",
    "print('Keras version', keras.__version__)\n",
    "print('Scipy version', scipy.__version__)"
   ]
  },
  {
   "cell_type": "code",
   "execution_count": 3,
   "metadata": {},
   "outputs": [],
   "source": [
    "# Configure for any default setting of any library\n",
    "np.random.seed(5)\n",
    "warnings.filterwarnings('ignore')\n",
    "%matplotlib inline"
   ]
  },
  {
   "cell_type": "markdown",
   "metadata": {
    "colab_type": "text",
    "id": "IgJNvpw9SnZq"
   },
   "source": [
    "#### In this problem we use \"Transfer Learning\" of an Object Detector model to detect any object according to the problem in hand.\n",
    "\n",
    "Here, We are particularly interested in detecting faces in a given image.\n",
    "\n",
    "#### To use the model first, we need to import the model and its supporting files for the model to function. \n",
    "\n",
    "We see the below steps to import the model."
   ]
  },
  {
   "cell_type": "code",
   "execution_count": 4,
   "metadata": {
    "colab": {
     "base_uri": "https://localhost:8080/",
     "height": 128
    },
    "colab_type": "code",
    "id": "B3NdNn8BoS4y",
    "outputId": "866def55-49d8-47b3-a173-b8ae50553149"
   },
   "outputs": [
    {
     "ename": "KeyboardInterrupt",
     "evalue": "",
     "output_type": "error",
     "traceback": [
      "\u001b[1;31m---------------------------------------------------------------------------\u001b[0m",
      "\u001b[1;31mKeyboardInterrupt\u001b[0m                         Traceback (most recent call last)",
      "\u001b[1;32m<ipython-input-4-95f71866f27c>\u001b[0m in \u001b[0;36m<module>\u001b[1;34m\u001b[0m\n\u001b[0;32m     27\u001b[0m \u001b[1;33m\u001b[0m\u001b[0m\n\u001b[0;32m     28\u001b[0m     \u001b[0mtrainimg_arch\u001b[0m \u001b[1;33m=\u001b[0m \u001b[0mzipfile\u001b[0m\u001b[1;33m.\u001b[0m\u001b[0mZipFile\u001b[0m\u001b[1;33m(\u001b[0m\u001b[1;34m'WIDER_train.zip'\u001b[0m\u001b[1;33m,\u001b[0m \u001b[1;34m'r'\u001b[0m\u001b[1;33m)\u001b[0m\u001b[1;33m\u001b[0m\u001b[1;33m\u001b[0m\u001b[0m\n\u001b[1;32m---> 29\u001b[1;33m     \u001b[0mtrainimg_arch\u001b[0m\u001b[1;33m.\u001b[0m\u001b[0mextractall\u001b[0m\u001b[1;33m(\u001b[0m\u001b[1;33m)\u001b[0m\u001b[1;33m\u001b[0m\u001b[1;33m\u001b[0m\u001b[0m\n\u001b[0m\u001b[0;32m     30\u001b[0m     \u001b[0mtestimg_arch\u001b[0m \u001b[1;33m=\u001b[0m \u001b[0mzipfile\u001b[0m\u001b[1;33m.\u001b[0m\u001b[0mZipFile\u001b[0m\u001b[1;33m(\u001b[0m\u001b[1;34m'WIDER_val.zip'\u001b[0m\u001b[1;33m,\u001b[0m \u001b[1;34m'r'\u001b[0m\u001b[1;33m)\u001b[0m\u001b[1;33m\u001b[0m\u001b[1;33m\u001b[0m\u001b[0m\n\u001b[0;32m     31\u001b[0m     \u001b[0mtestimg_arch\u001b[0m\u001b[1;33m.\u001b[0m\u001b[0mextractall\u001b[0m\u001b[1;33m(\u001b[0m\u001b[1;33m)\u001b[0m\u001b[1;33m\u001b[0m\u001b[1;33m\u001b[0m\u001b[0m\n",
      "\u001b[1;32m~\\Anaconda3\\lib\\zipfile.py\u001b[0m in \u001b[0;36mextractall\u001b[1;34m(self, path, members, pwd)\u001b[0m\n\u001b[0;32m   1614\u001b[0m \u001b[1;33m\u001b[0m\u001b[0m\n\u001b[0;32m   1615\u001b[0m         \u001b[1;32mfor\u001b[0m \u001b[0mzipinfo\u001b[0m \u001b[1;32min\u001b[0m \u001b[0mmembers\u001b[0m\u001b[1;33m:\u001b[0m\u001b[1;33m\u001b[0m\u001b[1;33m\u001b[0m\u001b[0m\n\u001b[1;32m-> 1616\u001b[1;33m             \u001b[0mself\u001b[0m\u001b[1;33m.\u001b[0m\u001b[0m_extract_member\u001b[0m\u001b[1;33m(\u001b[0m\u001b[0mzipinfo\u001b[0m\u001b[1;33m,\u001b[0m \u001b[0mpath\u001b[0m\u001b[1;33m,\u001b[0m \u001b[0mpwd\u001b[0m\u001b[1;33m)\u001b[0m\u001b[1;33m\u001b[0m\u001b[1;33m\u001b[0m\u001b[0m\n\u001b[0m\u001b[0;32m   1617\u001b[0m \u001b[1;33m\u001b[0m\u001b[0m\n\u001b[0;32m   1618\u001b[0m     \u001b[1;33m@\u001b[0m\u001b[0mclassmethod\u001b[0m\u001b[1;33m\u001b[0m\u001b[1;33m\u001b[0m\u001b[0m\n",
      "\u001b[1;32m~\\Anaconda3\\lib\\zipfile.py\u001b[0m in \u001b[0;36m_extract_member\u001b[1;34m(self, member, targetpath, pwd)\u001b[0m\n\u001b[0;32m   1669\u001b[0m         \u001b[1;32mwith\u001b[0m \u001b[0mself\u001b[0m\u001b[1;33m.\u001b[0m\u001b[0mopen\u001b[0m\u001b[1;33m(\u001b[0m\u001b[0mmember\u001b[0m\u001b[1;33m,\u001b[0m \u001b[0mpwd\u001b[0m\u001b[1;33m=\u001b[0m\u001b[0mpwd\u001b[0m\u001b[1;33m)\u001b[0m \u001b[1;32mas\u001b[0m \u001b[0msource\u001b[0m\u001b[1;33m,\u001b[0m\u001b[0;31m \u001b[0m\u001b[0;31m\\\u001b[0m\u001b[1;33m\u001b[0m\u001b[1;33m\u001b[0m\u001b[0m\n\u001b[0;32m   1670\u001b[0m              \u001b[0mopen\u001b[0m\u001b[1;33m(\u001b[0m\u001b[0mtargetpath\u001b[0m\u001b[1;33m,\u001b[0m \u001b[1;34m\"wb\"\u001b[0m\u001b[1;33m)\u001b[0m \u001b[1;32mas\u001b[0m \u001b[0mtarget\u001b[0m\u001b[1;33m:\u001b[0m\u001b[1;33m\u001b[0m\u001b[1;33m\u001b[0m\u001b[0m\n\u001b[1;32m-> 1671\u001b[1;33m             \u001b[0mshutil\u001b[0m\u001b[1;33m.\u001b[0m\u001b[0mcopyfileobj\u001b[0m\u001b[1;33m(\u001b[0m\u001b[0msource\u001b[0m\u001b[1;33m,\u001b[0m \u001b[0mtarget\u001b[0m\u001b[1;33m)\u001b[0m\u001b[1;33m\u001b[0m\u001b[1;33m\u001b[0m\u001b[0m\n\u001b[0m\u001b[0;32m   1672\u001b[0m \u001b[1;33m\u001b[0m\u001b[0m\n\u001b[0;32m   1673\u001b[0m         \u001b[1;32mreturn\u001b[0m \u001b[0mtargetpath\u001b[0m\u001b[1;33m\u001b[0m\u001b[1;33m\u001b[0m\u001b[0m\n",
      "\u001b[1;32m~\\Anaconda3\\lib\\shutil.py\u001b[0m in \u001b[0;36mcopyfileobj\u001b[1;34m(fsrc, fdst, length)\u001b[0m\n\u001b[0;32m     77\u001b[0m     \u001b[1;34m\"\"\"copy data from file-like object fsrc to file-like object fdst\"\"\"\u001b[0m\u001b[1;33m\u001b[0m\u001b[1;33m\u001b[0m\u001b[0m\n\u001b[0;32m     78\u001b[0m     \u001b[1;32mwhile\u001b[0m \u001b[1;36m1\u001b[0m\u001b[1;33m:\u001b[0m\u001b[1;33m\u001b[0m\u001b[1;33m\u001b[0m\u001b[0m\n\u001b[1;32m---> 79\u001b[1;33m         \u001b[0mbuf\u001b[0m \u001b[1;33m=\u001b[0m \u001b[0mfsrc\u001b[0m\u001b[1;33m.\u001b[0m\u001b[0mread\u001b[0m\u001b[1;33m(\u001b[0m\u001b[0mlength\u001b[0m\u001b[1;33m)\u001b[0m\u001b[1;33m\u001b[0m\u001b[1;33m\u001b[0m\u001b[0m\n\u001b[0m\u001b[0;32m     80\u001b[0m         \u001b[1;32mif\u001b[0m \u001b[1;32mnot\u001b[0m \u001b[0mbuf\u001b[0m\u001b[1;33m:\u001b[0m\u001b[1;33m\u001b[0m\u001b[1;33m\u001b[0m\u001b[0m\n\u001b[0;32m     81\u001b[0m             \u001b[1;32mbreak\u001b[0m\u001b[1;33m\u001b[0m\u001b[1;33m\u001b[0m\u001b[0m\n",
      "\u001b[1;32m~\\Anaconda3\\lib\\zipfile.py\u001b[0m in \u001b[0;36mread\u001b[1;34m(self, n)\u001b[0m\n\u001b[0;32m    897\u001b[0m         \u001b[0mself\u001b[0m\u001b[1;33m.\u001b[0m\u001b[0m_offset\u001b[0m \u001b[1;33m=\u001b[0m \u001b[1;36m0\u001b[0m\u001b[1;33m\u001b[0m\u001b[1;33m\u001b[0m\u001b[0m\n\u001b[0;32m    898\u001b[0m         \u001b[1;32mwhile\u001b[0m \u001b[0mn\u001b[0m \u001b[1;33m>\u001b[0m \u001b[1;36m0\u001b[0m \u001b[1;32mand\u001b[0m \u001b[1;32mnot\u001b[0m \u001b[0mself\u001b[0m\u001b[1;33m.\u001b[0m\u001b[0m_eof\u001b[0m\u001b[1;33m:\u001b[0m\u001b[1;33m\u001b[0m\u001b[1;33m\u001b[0m\u001b[0m\n\u001b[1;32m--> 899\u001b[1;33m             \u001b[0mdata\u001b[0m \u001b[1;33m=\u001b[0m \u001b[0mself\u001b[0m\u001b[1;33m.\u001b[0m\u001b[0m_read1\u001b[0m\u001b[1;33m(\u001b[0m\u001b[0mn\u001b[0m\u001b[1;33m)\u001b[0m\u001b[1;33m\u001b[0m\u001b[1;33m\u001b[0m\u001b[0m\n\u001b[0m\u001b[0;32m    900\u001b[0m             \u001b[1;32mif\u001b[0m \u001b[0mn\u001b[0m \u001b[1;33m<\u001b[0m \u001b[0mlen\u001b[0m\u001b[1;33m(\u001b[0m\u001b[0mdata\u001b[0m\u001b[1;33m)\u001b[0m\u001b[1;33m:\u001b[0m\u001b[1;33m\u001b[0m\u001b[1;33m\u001b[0m\u001b[0m\n\u001b[0;32m    901\u001b[0m                 \u001b[0mself\u001b[0m\u001b[1;33m.\u001b[0m\u001b[0m_readbuffer\u001b[0m \u001b[1;33m=\u001b[0m \u001b[0mdata\u001b[0m\u001b[1;33m\u001b[0m\u001b[1;33m\u001b[0m\u001b[0m\n",
      "\u001b[1;32m~\\Anaconda3\\lib\\zipfile.py\u001b[0m in \u001b[0;36m_read1\u001b[1;34m(self, n)\u001b[0m\n\u001b[0;32m    965\u001b[0m             \u001b[0mdata\u001b[0m \u001b[1;33m=\u001b[0m \u001b[0mself\u001b[0m\u001b[1;33m.\u001b[0m\u001b[0m_decompressor\u001b[0m\u001b[1;33m.\u001b[0m\u001b[0munconsumed_tail\u001b[0m\u001b[1;33m\u001b[0m\u001b[1;33m\u001b[0m\u001b[0m\n\u001b[0;32m    966\u001b[0m             \u001b[1;32mif\u001b[0m \u001b[0mn\u001b[0m \u001b[1;33m>\u001b[0m \u001b[0mlen\u001b[0m\u001b[1;33m(\u001b[0m\u001b[0mdata\u001b[0m\u001b[1;33m)\u001b[0m\u001b[1;33m:\u001b[0m\u001b[1;33m\u001b[0m\u001b[1;33m\u001b[0m\u001b[0m\n\u001b[1;32m--> 967\u001b[1;33m                 \u001b[0mdata\u001b[0m \u001b[1;33m+=\u001b[0m \u001b[0mself\u001b[0m\u001b[1;33m.\u001b[0m\u001b[0m_read2\u001b[0m\u001b[1;33m(\u001b[0m\u001b[0mn\u001b[0m \u001b[1;33m-\u001b[0m \u001b[0mlen\u001b[0m\u001b[1;33m(\u001b[0m\u001b[0mdata\u001b[0m\u001b[1;33m)\u001b[0m\u001b[1;33m)\u001b[0m\u001b[1;33m\u001b[0m\u001b[1;33m\u001b[0m\u001b[0m\n\u001b[0m\u001b[0;32m    968\u001b[0m         \u001b[1;32melse\u001b[0m\u001b[1;33m:\u001b[0m\u001b[1;33m\u001b[0m\u001b[1;33m\u001b[0m\u001b[0m\n\u001b[0;32m    969\u001b[0m             \u001b[0mdata\u001b[0m \u001b[1;33m=\u001b[0m \u001b[0mself\u001b[0m\u001b[1;33m.\u001b[0m\u001b[0m_read2\u001b[0m\u001b[1;33m(\u001b[0m\u001b[0mn\u001b[0m\u001b[1;33m)\u001b[0m\u001b[1;33m\u001b[0m\u001b[1;33m\u001b[0m\u001b[0m\n",
      "\u001b[1;32m~\\Anaconda3\\lib\\zipfile.py\u001b[0m in \u001b[0;36m_read2\u001b[1;34m(self, n)\u001b[0m\n\u001b[0;32m    997\u001b[0m         \u001b[0mn\u001b[0m \u001b[1;33m=\u001b[0m \u001b[0mmin\u001b[0m\u001b[1;33m(\u001b[0m\u001b[0mn\u001b[0m\u001b[1;33m,\u001b[0m \u001b[0mself\u001b[0m\u001b[1;33m.\u001b[0m\u001b[0m_compress_left\u001b[0m\u001b[1;33m)\u001b[0m\u001b[1;33m\u001b[0m\u001b[1;33m\u001b[0m\u001b[0m\n\u001b[0;32m    998\u001b[0m \u001b[1;33m\u001b[0m\u001b[0m\n\u001b[1;32m--> 999\u001b[1;33m         \u001b[0mdata\u001b[0m \u001b[1;33m=\u001b[0m \u001b[0mself\u001b[0m\u001b[1;33m.\u001b[0m\u001b[0m_fileobj\u001b[0m\u001b[1;33m.\u001b[0m\u001b[0mread\u001b[0m\u001b[1;33m(\u001b[0m\u001b[0mn\u001b[0m\u001b[1;33m)\u001b[0m\u001b[1;33m\u001b[0m\u001b[1;33m\u001b[0m\u001b[0m\n\u001b[0m\u001b[0;32m   1000\u001b[0m         \u001b[0mself\u001b[0m\u001b[1;33m.\u001b[0m\u001b[0m_compress_left\u001b[0m \u001b[1;33m-=\u001b[0m \u001b[0mlen\u001b[0m\u001b[1;33m(\u001b[0m\u001b[0mdata\u001b[0m\u001b[1;33m)\u001b[0m\u001b[1;33m\u001b[0m\u001b[1;33m\u001b[0m\u001b[0m\n\u001b[0;32m   1001\u001b[0m         \u001b[1;32mif\u001b[0m \u001b[1;32mnot\u001b[0m \u001b[0mdata\u001b[0m\u001b[1;33m:\u001b[0m\u001b[1;33m\u001b[0m\u001b[1;33m\u001b[0m\u001b[0m\n",
      "\u001b[1;32m~\\Anaconda3\\lib\\zipfile.py\u001b[0m in \u001b[0;36mread\u001b[1;34m(self, n)\u001b[0m\n\u001b[0;32m    740\u001b[0m                         \"Close the writing handle before trying to read.\")\n\u001b[0;32m    741\u001b[0m             \u001b[0mself\u001b[0m\u001b[1;33m.\u001b[0m\u001b[0m_file\u001b[0m\u001b[1;33m.\u001b[0m\u001b[0mseek\u001b[0m\u001b[1;33m(\u001b[0m\u001b[0mself\u001b[0m\u001b[1;33m.\u001b[0m\u001b[0m_pos\u001b[0m\u001b[1;33m)\u001b[0m\u001b[1;33m\u001b[0m\u001b[1;33m\u001b[0m\u001b[0m\n\u001b[1;32m--> 742\u001b[1;33m             \u001b[0mdata\u001b[0m \u001b[1;33m=\u001b[0m \u001b[0mself\u001b[0m\u001b[1;33m.\u001b[0m\u001b[0m_file\u001b[0m\u001b[1;33m.\u001b[0m\u001b[0mread\u001b[0m\u001b[1;33m(\u001b[0m\u001b[0mn\u001b[0m\u001b[1;33m)\u001b[0m\u001b[1;33m\u001b[0m\u001b[1;33m\u001b[0m\u001b[0m\n\u001b[0m\u001b[0;32m    743\u001b[0m             \u001b[0mself\u001b[0m\u001b[1;33m.\u001b[0m\u001b[0m_pos\u001b[0m \u001b[1;33m=\u001b[0m \u001b[0mself\u001b[0m\u001b[1;33m.\u001b[0m\u001b[0m_file\u001b[0m\u001b[1;33m.\u001b[0m\u001b[0mtell\u001b[0m\u001b[1;33m(\u001b[0m\u001b[1;33m)\u001b[0m\u001b[1;33m\u001b[0m\u001b[1;33m\u001b[0m\u001b[0m\n\u001b[0;32m    744\u001b[0m             \u001b[1;32mreturn\u001b[0m \u001b[0mdata\u001b[0m\u001b[1;33m\u001b[0m\u001b[1;33m\u001b[0m\u001b[0m\n",
      "\u001b[1;31mKeyboardInterrupt\u001b[0m: "
     ]
    }
   ],
   "source": [
    "# Block which runs on both Google Colab and Local PC without any modification\n",
    "zip_file = 'Files_required_for_face_detection.zip'\n",
    "if 'google.colab' in sys.modules:    \n",
    "    # Google Colab lib\n",
    "    from google.colab import drive\n",
    "    # Mount the drive\n",
    "    drive.mount('/content/drive/', force_remount=True)\n",
    "    # Open the drive file as readonly\n",
    "    proj_path = input(prompt='Enter the drive path: ') + '/'\n",
    "    proj_path = proj_path if proj_path.startswith('/content/drive/') else '/content/drive/' + proj_path\n",
    "    # Open the drive file as readonly\n",
    "    archive = zipfile.ZipFile(proj_path + zip_file, 'r')\n",
    "    archive.extractall()\n",
    "\n",
    "    train_images_path = proj_path + 'WIDER_train.zip'\n",
    "    trainimg_arch = zipfile.ZipFile(train_images_path, 'r')\n",
    "    trainimg_arch.extractall()\n",
    "    test_images_path = proj_path + 'WIDER_val.zip'\n",
    "    testimg_arch = zipfile.ZipFile(test_images_path, 'r')\n",
    "    testimg_arch.extractall()\n",
    "\n",
    "    sys.path.append(proj_path)\n",
    "else:\n",
    "    # Open the local file as readonly\n",
    "    archive = zipfile.ZipFile(zip_file, 'r')\n",
    "    archive.extractall()\n",
    "\n",
    "    trainimg_arch = zipfile.ZipFile('WIDER_train.zip', 'r')\n",
    "    trainimg_arch.extractall()\n",
    "    testimg_arch = zipfile.ZipFile('WIDER_val.zip', 'r')\n",
    "    testimg_arch.extractall()\n",
    "\n",
    "# Let's look at the sys path\n",
    "sys.path"
   ]
  },
  {
   "cell_type": "markdown",
   "metadata": {
    "colab_type": "text",
    "id": "ayg3Af037u5j"
   },
   "source": [
    "Set files_zip_path to the location in the drive where you have the new `'Files_required_for_face_detection.zip'` file. This block will extract all the files to the current working directory. You should be seeing the list of all files inside the zip files as the output of this block after the final `!ls` command is executed. "
   ]
  },
  {
   "cell_type": "markdown",
   "metadata": {
    "colab_type": "text",
    "id": "HtnH8CujQfxM"
   },
   "source": [
    "### Import MobileNet model given in file `mn_model.py`"
   ]
  },
  {
   "cell_type": "code",
   "execution_count": 4,
   "metadata": {
    "colab": {
     "base_uri": "https://localhost:8080/",
     "height": 35
    },
    "colab_type": "code",
    "id": "FtnDz1qkQESM",
    "outputId": "76325828-e2f4-464a-f682-7d1c5639201a"
   },
   "outputs": [],
   "source": [
    "### Import MobileNet model given in file `mn_model.py`\n",
    "#Make sure you have the files required for face detection in the same folder as the code. If using Google Colabs upload\n",
    "# them in the files section in the left panel\n",
    "from mn_model import mn_model\n",
    "\n",
    "#### Import the BatchGenerator and SSDLoss functions as well, used in MobileNet model\n",
    "# !pip install bs4 # use this if bs4 is not installed\n",
    "from face_generator import BatchGenerator\n",
    "from keras_ssd_loss import SSDLoss\n",
    "from ssd_box_encode_decode_utils import SSDBoxEncoder, decode_y, decode_y2\n",
    "\n",
    "### Other Imports\n",
    "from keras.optimizers import Adam, SGD, Nadam\n",
    "from keras.callbacks import ModelCheckpoint, EarlyStopping, ReduceLROnPlateau, TensorBoard, LearningRateScheduler\n",
    "from keras.callbacks import Callback\n",
    "from keras import backend as K \n",
    "from keras.models import load_model\n",
    "from math import ceil \n",
    "import numpy as np \n",
    "from termcolor import colored\n",
    "\n",
    "from mn_model import mn_model\n",
    "from face_generator import BatchGenerator\n",
    "from keras_ssd_loss import SSDLoss\n",
    "from ssd_box_encode_decode_utils import SSDBoxEncoder, decode_y, decode_y2\n",
    "\n",
    "# training parameters\n",
    "from keras import backend as K\n",
    "import scipy.misc as sm"
   ]
  },
  {
   "cell_type": "markdown",
   "metadata": {
    "colab_type": "text",
    "id": "dwNy4u8zQk1H"
   },
   "source": [
    "### Import the BatchGenerator and SSDLoss functions in given files `face_generator.py`, `keras_ssd_loss` and `ssd_box_encode_decode_utils.py` as well, used in MobileNet model"
   ]
  },
  {
   "cell_type": "markdown",
   "metadata": {
    "colab_type": "text",
    "id": "UqyWOSGJRB18"
   },
   "source": [
    "## Set the parameters for the model\n",
    "\n",
    "#### We need to customize the model parameters according to our problem as given below.\n",
    "\n",
    "#### Set n_classes (no.of classes) = 2, as we are interested in only face detection. \n",
    "#### `Face` will be one class and everything else comes under other class (we can call it as `background`)\n",
    "\n",
    "#### Set class_names = [\"background\", \"face\"]"
   ]
  },
  {
   "cell_type": "code",
   "execution_count": 5,
   "metadata": {
    "colab": {},
    "colab_type": "code",
    "id": "bcoBM5wlfHgZ"
   },
   "outputs": [
    {
     "name": "stderr",
     "output_type": "stream",
     "text": [
      "A subdirectory or file Weights already exists.\n"
     ]
    }
   ],
   "source": [
    "img_height =512\n",
    "img_width = 512\n",
    "\n",
    "img_channels = 3\n",
    "\n",
    "n_classes =2 \n",
    "class_names = [\"background\",\"face\"]\n",
    "\n",
    "scales = [0.07, 0.15, 0.33, 0.51, 0.69, 0.87, 1.05] # anchorboxes for coco dataset\n",
    "aspect_ratios = [[0.5, 1.0, 2.0],\n",
    "                 [1.0/3.0, 0.5, 1.0, 2.0, 3.0],\n",
    "                 [1.0/3.0, 0.5, 1.0, 2.0, 3.0],\n",
    "                 [1.0/3.0, 0.5, 1.0, 2.0, 3.0],\n",
    "                 [0.5, 1.0, 2.0],\n",
    "                 [0.5, 1.0, 2.0]] # The anchor box aspect ratios used in the original SSD300\n",
    "two_boxes_for_ar1 = True\n",
    "limit_boxes = True # Whether or not you want to limit the anchor boxes to lie entirely within the image boundaries\n",
    "variances = [0.1, 0.1, 0.2, 0.2] # The variances by which the encoded target coordinates are scaled as in the original implementation\n",
    "coords = 'centroids' # Whether the box coordinates to be used as targets for the model should be in the 'centroids' or 'minmax' format, see documentation\n",
    "normalize_coords = True\n",
    "\n",
    "#Path where you want to save the weights, model and checkpoints\n",
    "det_model_path = \"Weights/\"\n",
    "%mkdir Weights"
   ]
  },
  {
   "cell_type": "markdown",
   "metadata": {
    "colab_type": "text",
    "id": "z7vX1GJjTg0v"
   },
   "source": [
    "### Now, we have imported the model and its dependencies. The next thing is to import the dataset for the model to train on. For this, we are using the WIDER FACE dataset. \n",
    "\n",
    "#### To make the dataset available follow the steps given below.\n",
    "\n",
    "\n",
    "1. Create a folder in your google drive for this project. \n",
    "\n",
    "2. Download the train and test dataset files given in .zip format into your drive folder you created for the project in step-1.\n",
    "\n",
    "3. Set the project path variable according to the folders you created to use for this project in your google drive. \n",
    "\n",
    "      `project_path = \"/content/drive/My Drive/DLCP/\"`\n",
    "\n",
    "4. Now, as we mount the drive the images will be available to use for training and testing but in zip format.\n",
    "\n",
    "5. So, lets extract the images from the zipfiles by using the code given of zipfile module.\n",
    "\n",
    "\n",
    "\n",
    "\n",
    "\n"
   ]
  },
  {
   "cell_type": "markdown",
   "metadata": {
    "colab_type": "text",
    "id": "-iCibT8AYiJ7"
   },
   "source": [
    "### Now, the images are available. The next thing we need is to get the labels for these images, so that we can use this information while training for detecting faces with the given model using transfer learning. \n",
    "\n",
    "#### Follow the below steps to get those labels available.\n",
    "\n",
    "\n",
    "Load the  '' `wider_train_small.npy`'' file given to check the information given about the dataset. In this file you can see the information about each image in the dataset in a list with following elemets:\n",
    "      \n",
    "\n",
    "        1.   Image filename (str)\n",
    "        2.   Image filename (str)\n",
    "        3.   Image size (list) [height, width]\n",
    "        4.   List of bounding box co-ordinates and Class label (list) [[a,b,c,d], Class label, ...]\n",
    "        \n",
    "        where,\n",
    "        a,b,c,d are the four co-ordinates of the bounding box\n",
    "        Class label is the position of object as mentioned in `class_names` list above."
   ]
  },
  {
   "cell_type": "code",
   "execution_count": 6,
   "metadata": {
    "colab": {},
    "colab_type": "code",
    "id": "nub3I0LPmlfk"
   },
   "outputs": [],
   "source": [
    "data = np.load('wider_train_small.npy', allow_pickle=True).item()"
   ]
  },
  {
   "cell_type": "code",
   "execution_count": 7,
   "metadata": {
    "colab": {
     "base_uri": "https://localhost:8080/",
     "height": 71
    },
    "colab_type": "code",
    "id": "Q2Fd8RY3pCJS",
    "outputId": "b9bbd88c-8772-4753-e12c-3b724adcada8"
   },
   "outputs": [
    {
     "name": "stdout",
     "output_type": "stream",
     "text": [
      "52--Photographers/52_Photographers_photographertakingphoto_52_582.jpg\n",
      "['WIDER_train/images/52--Photographers/52_Photographers_photographertakingphoto_52_582.jpg', 'WIDER_train/images/52--Photographers/52_Photographers_photographertakingphoto_52_582.jpg', [300, 300], [[21, 667, 9, 655], 1]]\n"
     ]
    }
   ],
   "source": [
    "### Printed first element to check the above given information.\n",
    "# data contains lot of keys\n",
    "for key in data:\n",
    "    print(key)\n",
    "    print(data[key])\n",
    "    #Breaking after printing first key and its value\n",
    "    break"
   ]
  },
  {
   "cell_type": "markdown",
   "metadata": {
    "colab_type": "text",
    "id": "vlTpXziHZwws"
   },
   "source": [
    " As we can see from the above output all the information mentioned above is there for all the images."
   ]
  },
  {
   "cell_type": "markdown",
   "metadata": {
    "colab_type": "text",
    "id": "m2NBAZGqaec9"
   },
   "source": [
    "### Now, load the files `wider_trian.npy` and `wider_val.npy`"
   ]
  },
  {
   "cell_type": "code",
   "execution_count": 8,
   "metadata": {
    "colab": {},
    "colab_type": "code",
    "id": "_kfX49vXas4f"
   },
   "outputs": [],
   "source": [
    "train_data = 'wider_train_small.npy'\n",
    "test_data = 'wider_val_small.npy'\n",
    "\n",
    "x = np.load(train_data, allow_pickle=True)"
   ]
  },
  {
   "cell_type": "markdown",
   "metadata": {
    "colab_type": "text",
    "id": "v2KdmbvGblC3"
   },
   "source": [
    "### Now, call the imported model with the given parameters and freeze all the layers in the model with names not having ''`detection`'' word as prefix.\n",
    "\n",
    "As we are not training the model from scratch, we are freezing all the above layers in the model having only last few layers while training to update their weights according to the problem in hand. This is called as **Transfer Learning**."
   ]
  },
  {
   "cell_type": "code",
   "execution_count": 9,
   "metadata": {
    "colab": {},
    "colab_type": "code",
    "id": "cHwplT2ggR-1"
   },
   "outputs": [
    {
     "name": "stdout",
     "output_type": "stream",
     "text": [
      "WARNING:tensorflow:From C:\\Users\\aksha\\Anaconda3\\envs\\DLCP\\lib\\site-packages\\keras\\backend\\tensorflow_backend.py:95: The name tf.reset_default_graph is deprecated. Please use tf.compat.v1.reset_default_graph instead.\n",
      "\n",
      "WARNING:tensorflow:From C:\\Users\\aksha\\Anaconda3\\envs\\DLCP\\lib\\site-packages\\keras\\backend\\tensorflow_backend.py:98: The name tf.placeholder_with_default is deprecated. Please use tf.compat.v1.placeholder_with_default instead.\n",
      "\n",
      "WARNING:tensorflow:From C:\\Users\\aksha\\Anaconda3\\envs\\DLCP\\lib\\site-packages\\keras\\backend\\tensorflow_backend.py:102: The name tf.get_default_graph is deprecated. Please use tf.compat.v1.get_default_graph instead.\n",
      "\n",
      "====> Model Specific data\n",
      "====> Height, Width, Channels : 512 512 3\n",
      "WARNING:tensorflow:From C:\\Users\\aksha\\Anaconda3\\envs\\DLCP\\lib\\site-packages\\keras\\backend\\tensorflow_backend.py:517: The name tf.placeholder is deprecated. Please use tf.compat.v1.placeholder instead.\n",
      "\n",
      "WARNING:tensorflow:From C:\\Users\\aksha\\Anaconda3\\envs\\DLCP\\lib\\site-packages\\keras\\backend\\tensorflow_backend.py:4138: The name tf.random_uniform is deprecated. Please use tf.random.uniform instead.\n",
      "\n",
      "WARNING:tensorflow:From C:\\Users\\aksha\\Anaconda3\\envs\\DLCP\\lib\\site-packages\\keras\\backend\\tensorflow_backend.py:174: The name tf.get_default_session is deprecated. Please use tf.compat.v1.get_default_session instead.\n",
      "\n",
      "WARNING:tensorflow:From C:\\Users\\aksha\\Anaconda3\\envs\\DLCP\\lib\\site-packages\\keras\\backend\\tensorflow_backend.py:181: The name tf.ConfigProto is deprecated. Please use tf.compat.v1.ConfigProto instead.\n",
      "\n",
      "WARNING:tensorflow:From C:\\Users\\aksha\\Anaconda3\\envs\\DLCP\\lib\\site-packages\\keras\\backend\\tensorflow_backend.py:186: The name tf.Session is deprecated. Please use tf.compat.v1.Session instead.\n",
      "\n",
      "WARNING:tensorflow:From C:\\Users\\aksha\\Anaconda3\\envs\\DLCP\\lib\\site-packages\\keras\\backend\\tensorflow_backend.py:190: The name tf.global_variables is deprecated. Please use tf.compat.v1.global_variables instead.\n",
      "\n",
      "WARNING:tensorflow:From C:\\Users\\aksha\\Anaconda3\\envs\\DLCP\\lib\\site-packages\\keras\\backend\\tensorflow_backend.py:199: The name tf.is_variable_initialized is deprecated. Please use tf.compat.v1.is_variable_initialized instead.\n",
      "\n",
      "WARNING:tensorflow:From C:\\Users\\aksha\\Anaconda3\\envs\\DLCP\\lib\\site-packages\\keras\\backend\\tensorflow_backend.py:206: The name tf.variables_initializer is deprecated. Please use tf.compat.v1.variables_initializer instead.\n",
      "\n",
      "WARNING:tensorflow:From C:\\Users\\aksha\\Anaconda3\\envs\\DLCP\\lib\\site-packages\\keras\\backend\\tensorflow_backend.py:1834: The name tf.nn.fused_batch_norm is deprecated. Please use tf.compat.v1.nn.fused_batch_norm instead.\n",
      "\n",
      "__________________________________________________________________________________________________\n",
      "Layer (type)                    Output Shape         Param #     Connected to                     \n",
      "==================================================================================================\n",
      "input_1 (InputLayer)            (None, 512, 512, 3)  0                                            \n",
      "__________________________________________________________________________________________________\n",
      "lambda1 (Lambda)                (None, 512, 512, 3)  0           input_1[0][0]                    \n",
      "__________________________________________________________________________________________________\n",
      "lambda2 (Lambda)                (None, 512, 512, 3)  0           lambda1[0][0]                    \n",
      "__________________________________________________________________________________________________\n",
      "lambda3 (Lambda)                (None, 512, 512, 3)  0           lambda2[0][0]                    \n",
      "__________________________________________________________________________________________________\n",
      "conv1 (Conv2D)                  (None, 256, 256, 32) 864         lambda3[0][0]                    \n",
      "__________________________________________________________________________________________________\n",
      "conv1_bn (BatchNormalization)   (None, 256, 256, 32) 128         conv1[0][0]                      \n",
      "__________________________________________________________________________________________________\n",
      "conv1_relu (Activation)         (None, 256, 256, 32) 0           conv1_bn[0][0]                   \n",
      "__________________________________________________________________________________________________\n",
      "conv_dw_1 (DepthwiseConv2D)     (None, 256, 256, 32) 288         conv1_relu[0][0]                 \n",
      "__________________________________________________________________________________________________\n",
      "conv_dw_1_bn (BatchNormalizatio (None, 256, 256, 32) 128         conv_dw_1[0][0]                  \n",
      "__________________________________________________________________________________________________\n",
      "conv_dw_1_relu (Activation)     (None, 256, 256, 32) 0           conv_dw_1_bn[0][0]               \n",
      "__________________________________________________________________________________________________\n",
      "conv_pw_1 (Conv2D)              (None, 256, 256, 64) 2048        conv_dw_1_relu[0][0]             \n",
      "__________________________________________________________________________________________________\n",
      "conv_pw_1_bn (BatchNormalizatio (None, 256, 256, 64) 256         conv_pw_1[0][0]                  \n",
      "__________________________________________________________________________________________________\n",
      "conv_pw_1_relu (Activation)     (None, 256, 256, 64) 0           conv_pw_1_bn[0][0]               \n",
      "__________________________________________________________________________________________________\n",
      "conv_dw_2 (DepthwiseConv2D)     (None, 128, 128, 64) 576         conv_pw_1_relu[0][0]             \n",
      "__________________________________________________________________________________________________\n",
      "conv_dw_2_bn (BatchNormalizatio (None, 128, 128, 64) 256         conv_dw_2[0][0]                  \n",
      "__________________________________________________________________________________________________\n",
      "conv_dw_2_relu (Activation)     (None, 128, 128, 64) 0           conv_dw_2_bn[0][0]               \n",
      "__________________________________________________________________________________________________\n",
      "conv_pw_2 (Conv2D)              (None, 128, 128, 128 8192        conv_dw_2_relu[0][0]             \n",
      "__________________________________________________________________________________________________\n",
      "conv_pw_2_bn (BatchNormalizatio (None, 128, 128, 128 512         conv_pw_2[0][0]                  \n",
      "__________________________________________________________________________________________________\n",
      "conv_pw_2_relu (Activation)     (None, 128, 128, 128 0           conv_pw_2_bn[0][0]               \n",
      "__________________________________________________________________________________________________\n",
      "conv_dw_3 (DepthwiseConv2D)     (None, 128, 128, 128 1152        conv_pw_2_relu[0][0]             \n",
      "__________________________________________________________________________________________________\n",
      "conv_dw_3_bn (BatchNormalizatio (None, 128, 128, 128 512         conv_dw_3[0][0]                  \n",
      "__________________________________________________________________________________________________\n",
      "conv_dw_3_relu (Activation)     (None, 128, 128, 128 0           conv_dw_3_bn[0][0]               \n",
      "__________________________________________________________________________________________________\n",
      "conv_pw_3 (Conv2D)              (None, 128, 128, 128 16384       conv_dw_3_relu[0][0]             \n",
      "__________________________________________________________________________________________________\n",
      "conv_pw_3_bn (BatchNormalizatio (None, 128, 128, 128 512         conv_pw_3[0][0]                  \n",
      "__________________________________________________________________________________________________\n",
      "conv_pw_3_relu (Activation)     (None, 128, 128, 128 0           conv_pw_3_bn[0][0]               \n",
      "__________________________________________________________________________________________________\n",
      "conv_dw_4 (DepthwiseConv2D)     (None, 64, 64, 128)  1152        conv_pw_3_relu[0][0]             \n",
      "__________________________________________________________________________________________________\n",
      "conv_dw_4_bn (BatchNormalizatio (None, 64, 64, 128)  512         conv_dw_4[0][0]                  \n",
      "__________________________________________________________________________________________________\n",
      "conv_dw_4_relu (Activation)     (None, 64, 64, 128)  0           conv_dw_4_bn[0][0]               \n",
      "__________________________________________________________________________________________________\n",
      "conv_pw_4 (Conv2D)              (None, 64, 64, 256)  32768       conv_dw_4_relu[0][0]             \n",
      "__________________________________________________________________________________________________\n",
      "conv_pw_4_bn (BatchNormalizatio (None, 64, 64, 256)  1024        conv_pw_4[0][0]                  \n",
      "__________________________________________________________________________________________________\n",
      "conv_pw_4_relu (Activation)     (None, 64, 64, 256)  0           conv_pw_4_bn[0][0]               \n",
      "__________________________________________________________________________________________________\n",
      "conv_dw_5 (DepthwiseConv2D)     (None, 64, 64, 256)  2304        conv_pw_4_relu[0][0]             \n",
      "__________________________________________________________________________________________________\n",
      "conv_dw_5_bn (BatchNormalizatio (None, 64, 64, 256)  1024        conv_dw_5[0][0]                  \n",
      "__________________________________________________________________________________________________\n",
      "conv_dw_5_relu (Activation)     (None, 64, 64, 256)  0           conv_dw_5_bn[0][0]               \n",
      "__________________________________________________________________________________________________\n",
      "conv_pw_5 (Conv2D)              (None, 64, 64, 256)  65536       conv_dw_5_relu[0][0]             \n",
      "__________________________________________________________________________________________________\n",
      "conv_pw_5_bn (BatchNormalizatio (None, 64, 64, 256)  1024        conv_pw_5[0][0]                  \n",
      "__________________________________________________________________________________________________\n",
      "conv_pw_5_relu (Activation)     (None, 64, 64, 256)  0           conv_pw_5_bn[0][0]               \n",
      "__________________________________________________________________________________________________\n",
      "conv_dw_6 (DepthwiseConv2D)     (None, 32, 32, 256)  2304        conv_pw_5_relu[0][0]             \n",
      "__________________________________________________________________________________________________\n",
      "conv_dw_6_bn (BatchNormalizatio (None, 32, 32, 256)  1024        conv_dw_6[0][0]                  \n",
      "__________________________________________________________________________________________________\n",
      "conv_dw_6_relu (Activation)     (None, 32, 32, 256)  0           conv_dw_6_bn[0][0]               \n",
      "__________________________________________________________________________________________________\n",
      "conv_pw_6 (Conv2D)              (None, 32, 32, 512)  131072      conv_dw_6_relu[0][0]             \n",
      "__________________________________________________________________________________________________\n",
      "conv_pw_6_bn (BatchNormalizatio (None, 32, 32, 512)  2048        conv_pw_6[0][0]                  \n",
      "__________________________________________________________________________________________________\n",
      "conv_pw_6_relu (Activation)     (None, 32, 32, 512)  0           conv_pw_6_bn[0][0]               \n",
      "__________________________________________________________________________________________________\n",
      "conv_dw_7 (DepthwiseConv2D)     (None, 32, 32, 512)  4608        conv_pw_6_relu[0][0]             \n",
      "__________________________________________________________________________________________________\n",
      "conv_dw_7_bn (BatchNormalizatio (None, 32, 32, 512)  2048        conv_dw_7[0][0]                  \n",
      "__________________________________________________________________________________________________\n",
      "conv_dw_7_relu (Activation)     (None, 32, 32, 512)  0           conv_dw_7_bn[0][0]               \n",
      "__________________________________________________________________________________________________\n",
      "conv_pw_7 (Conv2D)              (None, 32, 32, 512)  262144      conv_dw_7_relu[0][0]             \n",
      "__________________________________________________________________________________________________\n",
      "conv_pw_7_bn (BatchNormalizatio (None, 32, 32, 512)  2048        conv_pw_7[0][0]                  \n",
      "__________________________________________________________________________________________________\n",
      "conv_pw_7_relu (Activation)     (None, 32, 32, 512)  0           conv_pw_7_bn[0][0]               \n",
      "__________________________________________________________________________________________________\n",
      "conv_dw_8 (DepthwiseConv2D)     (None, 32, 32, 512)  4608        conv_pw_7_relu[0][0]             \n",
      "__________________________________________________________________________________________________\n",
      "conv_dw_8_bn (BatchNormalizatio (None, 32, 32, 512)  2048        conv_dw_8[0][0]                  \n",
      "__________________________________________________________________________________________________\n",
      "conv_dw_8_relu (Activation)     (None, 32, 32, 512)  0           conv_dw_8_bn[0][0]               \n",
      "__________________________________________________________________________________________________\n",
      "conv_pw_8 (Conv2D)              (None, 32, 32, 512)  262144      conv_dw_8_relu[0][0]             \n",
      "__________________________________________________________________________________________________\n",
      "conv_pw_8_bn (BatchNormalizatio (None, 32, 32, 512)  2048        conv_pw_8[0][0]                  \n",
      "__________________________________________________________________________________________________\n",
      "conv_pw_8_relu (Activation)     (None, 32, 32, 512)  0           conv_pw_8_bn[0][0]               \n",
      "__________________________________________________________________________________________________\n",
      "conv_dw_9 (DepthwiseConv2D)     (None, 32, 32, 512)  4608        conv_pw_8_relu[0][0]             \n",
      "__________________________________________________________________________________________________\n",
      "conv_dw_9_bn (BatchNormalizatio (None, 32, 32, 512)  2048        conv_dw_9[0][0]                  \n",
      "__________________________________________________________________________________________________\n",
      "conv_dw_9_relu (Activation)     (None, 32, 32, 512)  0           conv_dw_9_bn[0][0]               \n",
      "__________________________________________________________________________________________________\n",
      "conv_pw_9 (Conv2D)              (None, 32, 32, 512)  262144      conv_dw_9_relu[0][0]             \n",
      "__________________________________________________________________________________________________\n",
      "conv_pw_9_bn (BatchNormalizatio (None, 32, 32, 512)  2048        conv_pw_9[0][0]                  \n",
      "__________________________________________________________________________________________________\n",
      "conv_pw_9_relu (Activation)     (None, 32, 32, 512)  0           conv_pw_9_bn[0][0]               \n",
      "__________________________________________________________________________________________________\n",
      "conv_dw_10 (DepthwiseConv2D)    (None, 32, 32, 512)  4608        conv_pw_9_relu[0][0]             \n",
      "__________________________________________________________________________________________________\n",
      "conv_dw_10_bn (BatchNormalizati (None, 32, 32, 512)  2048        conv_dw_10[0][0]                 \n",
      "__________________________________________________________________________________________________\n",
      "conv_dw_10_relu (Activation)    (None, 32, 32, 512)  0           conv_dw_10_bn[0][0]              \n",
      "__________________________________________________________________________________________________\n",
      "conv_pw_10 (Conv2D)             (None, 32, 32, 512)  262144      conv_dw_10_relu[0][0]            \n",
      "__________________________________________________________________________________________________\n",
      "conv_pw_10_bn (BatchNormalizati (None, 32, 32, 512)  2048        conv_pw_10[0][0]                 \n",
      "__________________________________________________________________________________________________\n",
      "conv_pw_10_relu (Activation)    (None, 32, 32, 512)  0           conv_pw_10_bn[0][0]              \n",
      "__________________________________________________________________________________________________\n",
      "conv_dw_11 (DepthwiseConv2D)    (None, 32, 32, 512)  4608        conv_pw_10_relu[0][0]            \n",
      "__________________________________________________________________________________________________\n",
      "conv_dw_11_bn (BatchNormalizati (None, 32, 32, 512)  2048        conv_dw_11[0][0]                 \n",
      "__________________________________________________________________________________________________\n",
      "conv_dw_11_relu (Activation)    (None, 32, 32, 512)  0           conv_dw_11_bn[0][0]              \n",
      "__________________________________________________________________________________________________\n",
      "conv_pw_11 (Conv2D)             (None, 32, 32, 512)  262144      conv_dw_11_relu[0][0]            \n",
      "__________________________________________________________________________________________________\n",
      "conv_pw_11_bn (BatchNormalizati (None, 32, 32, 512)  2048        conv_pw_11[0][0]                 \n",
      "__________________________________________________________________________________________________\n",
      "conv_pw_11_relu (Activation)    (None, 32, 32, 512)  0           conv_pw_11_bn[0][0]              \n",
      "__________________________________________________________________________________________________\n",
      "conv_dw_12 (DepthwiseConv2D)    (None, 16, 16, 512)  4608        conv_pw_11_relu[0][0]            \n",
      "__________________________________________________________________________________________________\n",
      "conv_dw_12_bn (BatchNormalizati (None, 16, 16, 512)  2048        conv_dw_12[0][0]                 \n",
      "__________________________________________________________________________________________________\n",
      "conv_dw_12_relu (Activation)    (None, 16, 16, 512)  0           conv_dw_12_bn[0][0]              \n",
      "__________________________________________________________________________________________________\n",
      "conv_pw_12 (Conv2D)             (None, 16, 16, 1024) 524288      conv_dw_12_relu[0][0]            \n",
      "__________________________________________________________________________________________________\n",
      "conv_pw_12_bn (BatchNormalizati (None, 16, 16, 1024) 4096        conv_pw_12[0][0]                 \n",
      "__________________________________________________________________________________________________\n",
      "conv_pw_12_relu (Activation)    (None, 16, 16, 1024) 0           conv_pw_12_bn[0][0]              \n",
      "__________________________________________________________________________________________________\n",
      "conv_dw_13 (DepthwiseConv2D)    (None, 16, 16, 1024) 9216        conv_pw_12_relu[0][0]            \n",
      "__________________________________________________________________________________________________\n",
      "conv_dw_13_bn (BatchNormalizati (None, 16, 16, 1024) 4096        conv_dw_13[0][0]                 \n",
      "__________________________________________________________________________________________________\n",
      "conv_dw_13_relu (Activation)    (None, 16, 16, 1024) 0           conv_dw_13_bn[0][0]              \n",
      "__________________________________________________________________________________________________\n",
      "conv_pw_13 (Conv2D)             (None, 16, 16, 1024) 1048576     conv_dw_13_relu[0][0]            \n",
      "__________________________________________________________________________________________________\n",
      "conv_pw_13_bn (BatchNormalizati (None, 16, 16, 1024) 4096        conv_pw_13[0][0]                 \n",
      "__________________________________________________________________________________________________\n",
      "conv_pw_13_relu (Activation)    (None, 16, 16, 1024) 0           conv_pw_13_bn[0][0]              \n",
      "__________________________________________________________________________________________________\n",
      "detection_conv6_1 (Conv2D)      (None, 16, 16, 256)  262400      conv_pw_13_relu[0][0]            \n",
      "__________________________________________________________________________________________________\n",
      "detection_conv6_1_bn (BatchNorm (None, 16, 16, 256)  1024        detection_conv6_1[0][0]          \n",
      "__________________________________________________________________________________________________\n",
      "detection_conv6_1_nonlin (Lambd (None, 16, 16, 256)  0           detection_conv6_1_bn[0][0]       \n",
      "__________________________________________________________________________________________________\n",
      "detection_conv6_2_conv_dw_1 (De (None, 8, 8, 256)    2304        detection_conv6_1_nonlin[0][0]   \n",
      "__________________________________________________________________________________________________\n",
      "detection_conv6_2_conv_dw_1_bn  (None, 8, 8, 256)    1024        detection_conv6_2_conv_dw_1[0][0]\n",
      "__________________________________________________________________________________________________\n",
      "detection_conv6_2_conv_dw_1_rel (None, 8, 8, 256)    0           detection_conv6_2_conv_dw_1_bn[0]\n",
      "__________________________________________________________________________________________________\n",
      "detection_conv6_2_conv_pw_1 (Co (None, 8, 8, 512)    131072      detection_conv6_2_conv_dw_1_relu[\n",
      "__________________________________________________________________________________________________\n",
      "detection_conv6_2_conv_pw_1_bn  (None, 8, 8, 512)    2048        detection_conv6_2_conv_pw_1[0][0]\n",
      "__________________________________________________________________________________________________\n",
      "detection_conv6_2_conv_pw_1_rel (None, 8, 8, 512)    0           detection_conv6_2_conv_pw_1_bn[0]\n",
      "__________________________________________________________________________________________________\n",
      "detection_conv7_1 (Conv2D)      (None, 8, 8, 128)    65664       detection_conv6_2_conv_pw_1_relu[\n",
      "__________________________________________________________________________________________________\n",
      "detection_conv7_1_bn (BatchNorm (None, 8, 8, 128)    512         detection_conv7_1[0][0]          \n",
      "__________________________________________________________________________________________________\n",
      "detection_conv7_1_nonlin (Lambd (None, 8, 8, 128)    0           detection_conv7_1_bn[0][0]       \n",
      "__________________________________________________________________________________________________\n",
      "detection_conv7_2_conv_dw_2 (De (None, 4, 4, 128)    1152        detection_conv7_1_nonlin[0][0]   \n",
      "__________________________________________________________________________________________________\n",
      "detection_conv7_2_conv_dw_2_bn  (None, 4, 4, 128)    512         detection_conv7_2_conv_dw_2[0][0]\n",
      "__________________________________________________________________________________________________\n",
      "detection_conv7_2_conv_dw_2_rel (None, 4, 4, 128)    0           detection_conv7_2_conv_dw_2_bn[0]\n",
      "__________________________________________________________________________________________________\n",
      "detection_conv7_2_conv_pw_2 (Co (None, 4, 4, 256)    32768       detection_conv7_2_conv_dw_2_relu[\n",
      "__________________________________________________________________________________________________\n",
      "detection_conv7_2_conv_pw_2_bn  (None, 4, 4, 256)    1024        detection_conv7_2_conv_pw_2[0][0]\n",
      "__________________________________________________________________________________________________\n",
      "detection_conv7_2_conv_pw_2_rel (None, 4, 4, 256)    0           detection_conv7_2_conv_pw_2_bn[0]\n",
      "__________________________________________________________________________________________________\n",
      "detection_conv8_1 (Conv2D)      (None, 4, 4, 128)    32896       detection_conv7_2_conv_pw_2_relu[\n",
      "__________________________________________________________________________________________________\n",
      "detection_conv8_1_bn (BatchNorm (None, 4, 4, 128)    512         detection_conv8_1[0][0]          \n",
      "__________________________________________________________________________________________________\n",
      "detection_conv8_1_nonlin (Lambd (None, 4, 4, 128)    0           detection_conv8_1_bn[0][0]       \n",
      "__________________________________________________________________________________________________\n",
      "detection_conv8_2_conv_dw_3 (De (None, 2, 2, 128)    1152        detection_conv8_1_nonlin[0][0]   \n",
      "__________________________________________________________________________________________________\n",
      "detection_conv8_2_conv_dw_3_bn  (None, 2, 2, 128)    512         detection_conv8_2_conv_dw_3[0][0]\n",
      "__________________________________________________________________________________________________\n",
      "detection_conv8_2_conv_dw_3_rel (None, 2, 2, 128)    0           detection_conv8_2_conv_dw_3_bn[0]\n",
      "__________________________________________________________________________________________________\n",
      "detection_conv8_2_conv_pw_3 (Co (None, 2, 2, 256)    32768       detection_conv8_2_conv_dw_3_relu[\n",
      "__________________________________________________________________________________________________\n",
      "detection_conv8_2_conv_pw_3_bn  (None, 2, 2, 256)    1024        detection_conv8_2_conv_pw_3[0][0]\n",
      "__________________________________________________________________________________________________\n",
      "detection_conv8_2_conv_pw_3_rel (None, 2, 2, 256)    0           detection_conv8_2_conv_pw_3_bn[0]\n",
      "__________________________________________________________________________________________________\n",
      "detection_conv9_1 (Conv2D)      (None, 2, 2, 64)     16448       detection_conv8_2_conv_pw_3_relu[\n",
      "__________________________________________________________________________________________________\n",
      "detection_conv9_1_bn (BatchNorm (None, 2, 2, 64)     256         detection_conv9_1[0][0]          \n",
      "__________________________________________________________________________________________________\n",
      "detection_conv9_1_nonlin (Lambd (None, 2, 2, 64)     0           detection_conv9_1_bn[0][0]       \n",
      "__________________________________________________________________________________________________\n",
      "detection_conv9_2_conv_dw_4 (De (None, 1, 1, 64)     576         detection_conv9_1_nonlin[0][0]   \n",
      "__________________________________________________________________________________________________\n",
      "detection_conv9_2_conv_dw_4_bn  (None, 1, 1, 64)     256         detection_conv9_2_conv_dw_4[0][0]\n",
      "__________________________________________________________________________________________________\n",
      "detection_conv9_2_conv_dw_4_rel (None, 1, 1, 64)     0           detection_conv9_2_conv_dw_4_bn[0]\n",
      "__________________________________________________________________________________________________\n",
      "detection_conv9_2_conv_pw_4 (Co (None, 1, 1, 256)    16384       detection_conv9_2_conv_dw_4_relu[\n",
      "__________________________________________________________________________________________________\n",
      "detection_conv9_2_conv_pw_4_bn  (None, 1, 1, 256)    1024        detection_conv9_2_conv_pw_4[0][0]\n",
      "__________________________________________________________________________________________________\n",
      "detection_conv4_3_norm (L2Norma (None, 32, 32, 512)  512         conv_pw_11_relu[0][0]            \n",
      "__________________________________________________________________________________________________\n",
      "detection_conv9_2_conv_pw_4_rel (None, 1, 1, 256)    0           detection_conv9_2_conv_pw_4_bn[0]\n",
      "__________________________________________________________________________________________________\n",
      "detection_conv4_3_norm_mbox_con (None, 32, 32, 512)  4608        detection_conv4_3_norm[0][0]     \n",
      "__________________________________________________________________________________________________\n",
      "detection_fc7_mbox_conf_conv_dw (None, 16, 16, 1024) 9216        conv_pw_13_relu[0][0]            \n",
      "__________________________________________________________________________________________________\n",
      "detection_conv6_2_mbox_conf_con (None, 8, 8, 512)    4608        detection_conv6_2_conv_pw_1_relu[\n",
      "__________________________________________________________________________________________________\n",
      "detection_conv7_2_mbox_conf_con (None, 4, 4, 256)    2304        detection_conv7_2_conv_pw_2_relu[\n",
      "__________________________________________________________________________________________________\n",
      "detection_conv8_2_mbox_conf_con (None, 2, 2, 256)    2304        detection_conv8_2_conv_pw_3_relu[\n",
      "__________________________________________________________________________________________________\n",
      "detection_conv9_2_mbox_conf_con (None, 1, 1, 256)    2304        detection_conv9_2_conv_pw_4_relu[\n",
      "__________________________________________________________________________________________________\n",
      "detection_conv4_3_norm_mbox_con (None, 32, 32, 512)  2048        detection_conv4_3_norm_mbox_conf_\n",
      "__________________________________________________________________________________________________\n",
      "detection_fc7_mbox_conf_conv_dw (None, 16, 16, 1024) 4096        detection_fc7_mbox_conf_conv_dw_2\n",
      "__________________________________________________________________________________________________\n",
      "detection_conv6_2_mbox_conf_con (None, 8, 8, 512)    2048        detection_conv6_2_mbox_conf_conv_\n",
      "__________________________________________________________________________________________________\n",
      "detection_conv7_2_mbox_conf_con (None, 4, 4, 256)    1024        detection_conv7_2_mbox_conf_conv_\n",
      "__________________________________________________________________________________________________\n",
      "detection_conv8_2_mbox_conf_con (None, 2, 2, 256)    1024        detection_conv8_2_mbox_conf_conv_\n",
      "__________________________________________________________________________________________________\n",
      "detection_conv9_2_mbox_conf_con (None, 1, 1, 256)    1024        detection_conv9_2_mbox_conf_conv_\n",
      "__________________________________________________________________________________________________\n",
      "detection_conv4_3_norm_mbox_loc (None, 32, 32, 512)  4608        detection_conv4_3_norm[0][0]     \n",
      "__________________________________________________________________________________________________\n",
      "detection_fc7_mbox_loc_conv_dw_ (None, 16, 16, 1024) 9216        conv_pw_13_relu[0][0]            \n",
      "__________________________________________________________________________________________________\n",
      "detection_conv6_2_mbox_loc_conv (None, 8, 8, 512)    4608        detection_conv6_2_conv_pw_1_relu[\n",
      "__________________________________________________________________________________________________\n",
      "detection_conv7_2_mbox_loc_conv (None, 4, 4, 256)    2304        detection_conv7_2_conv_pw_2_relu[\n",
      "__________________________________________________________________________________________________\n",
      "detection_conv8_2_mbox_loc_conv (None, 2, 2, 256)    2304        detection_conv8_2_conv_pw_3_relu[\n",
      "__________________________________________________________________________________________________\n",
      "detection_conv9_2_mbox_loc_conv (None, 1, 1, 256)    2304        detection_conv9_2_conv_pw_4_relu[\n",
      "__________________________________________________________________________________________________\n",
      "detection_conv4_3_norm_mbox_con (None, 32, 32, 512)  0           detection_conv4_3_norm_mbox_conf_\n",
      "__________________________________________________________________________________________________\n",
      "detection_fc7_mbox_conf_conv_dw (None, 16, 16, 1024) 0           detection_fc7_mbox_conf_conv_dw_2\n",
      "__________________________________________________________________________________________________\n",
      "detection_conv6_2_mbox_conf_con (None, 8, 8, 512)    0           detection_conv6_2_mbox_conf_conv_\n",
      "__________________________________________________________________________________________________\n",
      "detection_conv7_2_mbox_conf_con (None, 4, 4, 256)    0           detection_conv7_2_mbox_conf_conv_\n",
      "__________________________________________________________________________________________________\n",
      "detection_conv8_2_mbox_conf_con (None, 2, 2, 256)    0           detection_conv8_2_mbox_conf_conv_\n",
      "__________________________________________________________________________________________________\n",
      "detection_conv9_2_mbox_conf_con (None, 1, 1, 256)    0           detection_conv9_2_mbox_conf_conv_\n",
      "__________________________________________________________________________________________________\n",
      "detection_conv4_3_norm_mbox_loc (None, 32, 32, 512)  2048        detection_conv4_3_norm_mbox_loc_c\n",
      "__________________________________________________________________________________________________\n",
      "detection_fc7_mbox_loc_conv_dw_ (None, 16, 16, 1024) 4096        detection_fc7_mbox_loc_conv_dw_2[\n",
      "__________________________________________________________________________________________________\n",
      "detection_conv6_2_mbox_loc_conv (None, 8, 8, 512)    2048        detection_conv6_2_mbox_loc_conv_d\n",
      "__________________________________________________________________________________________________\n",
      "detection_conv7_2_mbox_loc_conv (None, 4, 4, 256)    1024        detection_conv7_2_mbox_loc_conv_d\n",
      "__________________________________________________________________________________________________\n",
      "detection_conv8_2_mbox_loc_conv (None, 2, 2, 256)    1024        detection_conv8_2_mbox_loc_conv_d\n",
      "__________________________________________________________________________________________________\n",
      "detection_conv9_2_mbox_loc_conv (None, 1, 1, 256)    1024        detection_conv9_2_mbox_loc_conv_d\n",
      "__________________________________________________________________________________________________\n",
      "detection_conv4_3_norm_mbox_con (None, 32, 32, 8)    4096        detection_conv4_3_norm_mbox_conf_\n",
      "__________________________________________________________________________________________________\n",
      "detection_fc7_mbox_conf_conv_pw (None, 16, 16, 12)   12288       detection_fc7_mbox_conf_conv_dw_2\n",
      "__________________________________________________________________________________________________\n",
      "detection_conv6_2_mbox_conf_con (None, 8, 8, 12)     6144        detection_conv6_2_mbox_conf_conv_\n",
      "__________________________________________________________________________________________________\n",
      "detection_conv7_2_mbox_conf_con (None, 4, 4, 12)     3072        detection_conv7_2_mbox_conf_conv_\n",
      "__________________________________________________________________________________________________\n",
      "detection_conv8_2_mbox_conf_con (None, 2, 2, 8)      2048        detection_conv8_2_mbox_conf_conv_\n",
      "__________________________________________________________________________________________________\n",
      "detection_conv9_2_mbox_conf_con (None, 1, 1, 8)      2048        detection_conv9_2_mbox_conf_conv_\n",
      "__________________________________________________________________________________________________\n",
      "detection_conv4_3_norm_mbox_loc (None, 32, 32, 512)  0           detection_conv4_3_norm_mbox_loc_c\n",
      "__________________________________________________________________________________________________\n",
      "detection_fc7_mbox_loc_conv_dw_ (None, 16, 16, 1024) 0           detection_fc7_mbox_loc_conv_dw_2_\n",
      "__________________________________________________________________________________________________\n",
      "detection_conv6_2_mbox_loc_conv (None, 8, 8, 512)    0           detection_conv6_2_mbox_loc_conv_d\n",
      "__________________________________________________________________________________________________\n",
      "detection_conv7_2_mbox_loc_conv (None, 4, 4, 256)    0           detection_conv7_2_mbox_loc_conv_d\n",
      "__________________________________________________________________________________________________\n",
      "detection_conv8_2_mbox_loc_conv (None, 2, 2, 256)    0           detection_conv8_2_mbox_loc_conv_d\n",
      "__________________________________________________________________________________________________\n",
      "detection_conv9_2_mbox_loc_conv (None, 1, 1, 256)    0           detection_conv9_2_mbox_loc_conv_d\n",
      "__________________________________________________________________________________________________\n",
      "detection_conv4_3_norm_mbox_con (None, 32, 32, 8)    32          detection_conv4_3_norm_mbox_conf_\n",
      "__________________________________________________________________________________________________\n",
      "detection_fc7_mbox_conf_conv_pw (None, 16, 16, 12)   48          detection_fc7_mbox_conf_conv_pw_2\n",
      "__________________________________________________________________________________________________\n",
      "detection_conv6_2_mbox_conf_con (None, 8, 8, 12)     48          detection_conv6_2_mbox_conf_conv_\n",
      "__________________________________________________________________________________________________\n",
      "detection_conv7_2_mbox_conf_con (None, 4, 4, 12)     48          detection_conv7_2_mbox_conf_conv_\n",
      "__________________________________________________________________________________________________\n",
      "detection_conv8_2_mbox_conf_con (None, 2, 2, 8)      32          detection_conv8_2_mbox_conf_conv_\n",
      "__________________________________________________________________________________________________\n",
      "detection_conv9_2_mbox_conf_con (None, 1, 1, 8)      32          detection_conv9_2_mbox_conf_conv_\n",
      "__________________________________________________________________________________________________\n",
      "detection_conv4_3_norm_mbox_loc (None, 32, 32, 16)   8192        detection_conv4_3_norm_mbox_loc_c\n",
      "__________________________________________________________________________________________________\n",
      "detection_fc7_mbox_loc_conv_pw_ (None, 16, 16, 24)   24576       detection_fc7_mbox_loc_conv_dw_2_\n",
      "__________________________________________________________________________________________________\n",
      "detection_conv6_2_mbox_loc_conv (None, 8, 8, 24)     12288       detection_conv6_2_mbox_loc_conv_d\n",
      "__________________________________________________________________________________________________\n",
      "detection_conv7_2_mbox_loc_conv (None, 4, 4, 24)     6144        detection_conv7_2_mbox_loc_conv_d\n",
      "__________________________________________________________________________________________________\n",
      "detection_conv8_2_mbox_loc_conv (None, 2, 2, 16)     4096        detection_conv8_2_mbox_loc_conv_d\n",
      "__________________________________________________________________________________________________\n",
      "detection_conv9_2_mbox_loc_conv (None, 1, 1, 16)     4096        detection_conv9_2_mbox_loc_conv_d\n",
      "__________________________________________________________________________________________________\n",
      "detection_conv4_3_norm_mbox_con (None, 32, 32, 8)    0           detection_conv4_3_norm_mbox_conf_\n",
      "__________________________________________________________________________________________________\n",
      "detection_fc7_mbox_conf_conv_pw (None, 16, 16, 12)   0           detection_fc7_mbox_conf_conv_pw_2\n",
      "__________________________________________________________________________________________________\n",
      "detection_conv6_2_mbox_conf_con (None, 8, 8, 12)     0           detection_conv6_2_mbox_conf_conv_\n",
      "__________________________________________________________________________________________________\n",
      "detection_conv7_2_mbox_conf_con (None, 4, 4, 12)     0           detection_conv7_2_mbox_conf_conv_\n",
      "__________________________________________________________________________________________________\n",
      "detection_conv8_2_mbox_conf_con (None, 2, 2, 8)      0           detection_conv8_2_mbox_conf_conv_\n",
      "__________________________________________________________________________________________________\n",
      "detection_conv9_2_mbox_conf_con (None, 1, 1, 8)      0           detection_conv9_2_mbox_conf_conv_\n",
      "__________________________________________________________________________________________________\n",
      "detection_conv4_3_norm_mbox_loc (None, 32, 32, 16)   64          detection_conv4_3_norm_mbox_loc_c\n",
      "__________________________________________________________________________________________________\n",
      "detection_fc7_mbox_loc_conv_pw_ (None, 16, 16, 24)   96          detection_fc7_mbox_loc_conv_pw_2[\n",
      "__________________________________________________________________________________________________\n",
      "detection_conv6_2_mbox_loc_conv (None, 8, 8, 24)     96          detection_conv6_2_mbox_loc_conv_p\n",
      "__________________________________________________________________________________________________\n",
      "detection_conv7_2_mbox_loc_conv (None, 4, 4, 24)     96          detection_conv7_2_mbox_loc_conv_p\n",
      "__________________________________________________________________________________________________\n",
      "detection_conv8_2_mbox_loc_conv (None, 2, 2, 16)     64          detection_conv8_2_mbox_loc_conv_p\n",
      "__________________________________________________________________________________________________\n",
      "detection_conv9_2_mbox_loc_conv (None, 1, 1, 16)     64          detection_conv9_2_mbox_loc_conv_p\n",
      "__________________________________________________________________________________________________\n",
      "detection_conv4_3_norm_mbox_con (None, 4096, 2)      0           detection_conv4_3_norm_mbox_conf_\n",
      "__________________________________________________________________________________________________\n",
      "detection_fc7_mbox_conf_reshape (None, 1536, 2)      0           detection_fc7_mbox_conf_conv_pw_2\n",
      "__________________________________________________________________________________________________\n",
      "detection_conv6_2_mbox_conf_res (None, 384, 2)       0           detection_conv6_2_mbox_conf_conv_\n",
      "__________________________________________________________________________________________________\n",
      "detection_conv7_2_mbox_conf_res (None, 96, 2)        0           detection_conv7_2_mbox_conf_conv_\n",
      "__________________________________________________________________________________________________\n",
      "detection_conv8_2_mbox_conf_res (None, 16, 2)        0           detection_conv8_2_mbox_conf_conv_\n",
      "__________________________________________________________________________________________________\n",
      "detection_conv9_2_mbox_conf_res (None, 4, 2)         0           detection_conv9_2_mbox_conf_conv_\n",
      "__________________________________________________________________________________________________\n",
      "detection_conv4_3_norm_mbox_loc (None, 32, 32, 16)   0           detection_conv4_3_norm_mbox_loc_c\n",
      "__________________________________________________________________________________________________\n",
      "detection_fc7_mbox_loc_conv_pw_ (None, 16, 16, 24)   0           detection_fc7_mbox_loc_conv_pw_2_\n",
      "__________________________________________________________________________________________________\n",
      "detection_conv6_2_mbox_loc_conv (None, 8, 8, 24)     0           detection_conv6_2_mbox_loc_conv_p\n",
      "__________________________________________________________________________________________________\n",
      "detection_conv7_2_mbox_loc_conv (None, 4, 4, 24)     0           detection_conv7_2_mbox_loc_conv_p\n",
      "__________________________________________________________________________________________________\n",
      "detection_conv8_2_mbox_loc_conv (None, 2, 2, 16)     0           detection_conv8_2_mbox_loc_conv_p\n",
      "__________________________________________________________________________________________________\n",
      "detection_conv9_2_mbox_loc_conv (None, 1, 1, 16)     0           detection_conv9_2_mbox_loc_conv_p\n",
      "__________________________________________________________________________________________________\n",
      "detection_conv4_3_norm_mbox_pri (None, 32, 32, 4, 8) 0           detection_conv4_3_norm[0][0]     \n",
      "__________________________________________________________________________________________________\n",
      "detection_fc7_mbox_priorbox (An (None, 16, 16, 6, 8) 0           conv_pw_13_relu[0][0]            \n",
      "__________________________________________________________________________________________________\n",
      "detection_conv6_2_mbox_priorbox (None, 8, 8, 6, 8)   0           detection_conv6_2_conv_pw_1_relu[\n",
      "__________________________________________________________________________________________________\n",
      "detection_conv7_2_mbox_priorbox (None, 4, 4, 6, 8)   0           detection_conv7_2_conv_pw_2_relu[\n",
      "__________________________________________________________________________________________________\n",
      "detection_conv8_2_mbox_priorbox (None, 2, 2, 4, 8)   0           detection_conv8_2_conv_pw_3_relu[\n",
      "__________________________________________________________________________________________________\n",
      "detection_conv9_2_mbox_priorbox (None, 1, 1, 4, 8)   0           detection_conv9_2_conv_pw_4_relu[\n",
      "__________________________________________________________________________________________________\n",
      "detection_mbox_conf (Concatenat (None, 6132, 2)      0           detection_conv4_3_norm_mbox_conf_\n",
      "                                                                 detection_fc7_mbox_conf_reshape[0\n",
      "                                                                 detection_conv6_2_mbox_conf_resha\n",
      "                                                                 detection_conv7_2_mbox_conf_resha\n",
      "                                                                 detection_conv8_2_mbox_conf_resha\n",
      "                                                                 detection_conv9_2_mbox_conf_resha\n",
      "__________________________________________________________________________________________________\n",
      "detection_conv4_3_norm_mbox_loc (None, 4096, 4)      0           detection_conv4_3_norm_mbox_loc_c\n",
      "__________________________________________________________________________________________________\n",
      "detection_fc7_mbox_loc_reshape  (None, 1536, 4)      0           detection_fc7_mbox_loc_conv_pw_2_\n",
      "__________________________________________________________________________________________________\n",
      "detection_conv6_2_mbox_loc_resh (None, 384, 4)       0           detection_conv6_2_mbox_loc_conv_p\n",
      "__________________________________________________________________________________________________\n",
      "detection_conv7_2_mbox_loc_resh (None, 96, 4)        0           detection_conv7_2_mbox_loc_conv_p\n",
      "__________________________________________________________________________________________________\n",
      "detection_conv8_2_mbox_loc_resh (None, 16, 4)        0           detection_conv8_2_mbox_loc_conv_p\n",
      "__________________________________________________________________________________________________\n",
      "detection_conv9_2_mbox_loc_resh (None, 4, 4)         0           detection_conv9_2_mbox_loc_conv_p\n",
      "__________________________________________________________________________________________________\n",
      "detection_conv4_3_norm_mbox_pri (None, 4096, 8)      0           detection_conv4_3_norm_mbox_prior\n",
      "__________________________________________________________________________________________________\n",
      "detection_fc7_mbox_priorbox_res (None, 1536, 8)      0           detection_fc7_mbox_priorbox[0][0]\n",
      "__________________________________________________________________________________________________\n",
      "detection_conv6_2_mbox_priorbox (None, 384, 8)       0           detection_conv6_2_mbox_priorbox[0\n",
      "__________________________________________________________________________________________________\n",
      "detection_conv7_2_mbox_priorbox (None, 96, 8)        0           detection_conv7_2_mbox_priorbox[0\n",
      "__________________________________________________________________________________________________\n",
      "detection_conv8_2_mbox_priorbox (None, 16, 8)        0           detection_conv8_2_mbox_priorbox[0\n",
      "__________________________________________________________________________________________________\n",
      "detection_conv9_2_mbox_priorbox (None, 4, 8)         0           detection_conv9_2_mbox_priorbox[0\n",
      "__________________________________________________________________________________________________\n",
      "detection_mbox_conf_softmax (Ac (None, 6132, 2)      0           detection_mbox_conf[0][0]        \n",
      "__________________________________________________________________________________________________\n",
      "detection_mbox_loc (Concatenate (None, 6132, 4)      0           detection_conv4_3_norm_mbox_loc_r\n",
      "                                                                 detection_fc7_mbox_loc_reshape[0]\n",
      "                                                                 detection_conv6_2_mbox_loc_reshap\n",
      "                                                                 detection_conv7_2_mbox_loc_reshap\n",
      "                                                                 detection_conv8_2_mbox_loc_reshap\n",
      "                                                                 detection_conv9_2_mbox_loc_reshap\n",
      "__________________________________________________________________________________________________\n",
      "detection_mbox_priorbox (Concat (None, 6132, 8)      0           detection_conv4_3_norm_mbox_prior\n",
      "                                                                 detection_fc7_mbox_priorbox_resha\n",
      "                                                                 detection_conv6_2_mbox_priorbox_r\n",
      "                                                                 detection_conv7_2_mbox_priorbox_r\n",
      "                                                                 detection_conv8_2_mbox_priorbox_r\n",
      "                                                                 detection_conv9_2_mbox_priorbox_r\n",
      "__________________________________________________________________________________________________\n",
      "detection_predictions (Concaten (None, 6132, 14)     0           detection_mbox_conf_softmax[0][0]\n",
      "                                                                 detection_mbox_loc[0][0]         \n",
      "                                                                 detection_mbox_priorbox[0][0]    \n",
      "==================================================================================================\n",
      "Total params: 3,997,712\n",
      "Trainable params: 3,959,336\n",
      "Non-trainable params: 38,376\n",
      "__________________________________________________________________________________________________\n"
     ]
    }
   ],
   "source": [
    "# build the keras model\n",
    "# this model is not pre-trained, we are doing it from scratch \n",
    "\n",
    "K.clear_session()\n",
    "#The following function returns you multiple things. The \"model\" is the Keras model that has to be trained \n",
    "model, model_layer, img_input, predictor_sizes = mn_model(image_size=(img_height, img_width, img_channels), \n",
    "                                                                      n_classes = n_classes,\n",
    "                                                                      min_scale = None, \n",
    "                                                                      max_scale = None, \n",
    "                                                                      scales = scales, \n",
    "                                                                      aspect_ratios_global = None, \n",
    "                                                                      aspect_ratios_per_layer = aspect_ratios, \n",
    "                                                                      two_boxes_for_ar1= two_boxes_for_ar1, \n",
    "                                                                      limit_boxes=limit_boxes, \n",
    "                                                                      variances= variances, \n",
    "                                                                      coords=coords, \n",
    "                                                                      normalize_coords=normalize_coords)\n",
    "\n",
    "model.summary()"
   ]
  },
  {
   "cell_type": "markdown",
   "metadata": {
    "colab_type": "text",
    "id": "FfC4yNb_uCdT"
   },
   "source": [
    "#### Write code to freeze all the layers in the above model with names not having ''`detection`'' word as prefix.  - 5 Points"
   ]
  },
  {
   "cell_type": "code",
   "execution_count": 10,
   "metadata": {
    "colab": {},
    "colab_type": "code",
    "id": "snOulB0wt7_t"
   },
   "outputs": [
    {
     "name": "stdout",
     "output_type": "stream",
     "text": [
      "Freezing classification layers\n",
      "\u001b[32mclassification layers freezed\u001b[0m\n"
     ]
    }
   ],
   "source": [
    "print(\"Freezing classification layers\")\n",
    "#Freeze layers\n",
    "for layer_key in model_layer:\n",
    "    if('detection'  not in layer_key): #prefix detection to freeze layers which does not have detection\n",
    "        model_layer[layer_key].trainable = False\n",
    "print(colored(\"classification layers freezed\", 'green'))"
   ]
  },
  {
   "cell_type": "markdown",
   "metadata": {
    "colab_type": "text",
    "id": "n1IIGWM2c3x-"
   },
   "source": [
    "### After making the model ready for transfer learning, load the weights of the model given in file ''`mobilenet_1_0_224_tf.h5`'' - 5 points\n",
    "Note: You have to pass an extra parameter **'by_name=True'** to the load_weights function. This ensures that the weights are only loaded for the names present in both the weights file and the model. Otherwise You will get an error saying the number of weights in the file and the number of layers in the model as mismatched as your weightfile only consists of the weights needed. "
   ]
  },
  {
   "cell_type": "code",
   "execution_count": 11,
   "metadata": {
    "colab": {},
    "colab_type": "code",
    "id": "lmCmRr2Rc2Sv"
   },
   "outputs": [
    {
     "name": "stdout",
     "output_type": "stream",
     "text": [
      "loading classification weights\n"
     ]
    }
   ],
   "source": [
    "print (\"loading classification weights\")\n",
    "classification_model = 'mobilenet_1_0_224_tf.h5'\n",
    "model.load_weights(classification_model,  by_name= True)"
   ]
  },
  {
   "cell_type": "markdown",
   "metadata": {
    "colab_type": "text",
    "id": "73KNzDSCf6Rh"
   },
   "source": [
    "#### Using the functions given in the model, we are trying to divide the dataset into train and validation samples. Run the below code."
   ]
  },
  {
   "cell_type": "code",
   "execution_count": 12,
   "metadata": {
    "colab": {
     "base_uri": "https://localhost:8080/",
     "height": 221
    },
    "colab_type": "code",
    "id": "4_pZEU8TfBoR",
    "outputId": "6490ca74-d3f7-463d-f98a-f337d9fb6433"
   },
   "outputs": [
    {
     "name": "stdout",
     "output_type": "stream",
     "text": [
      "==>TRAINING DATA\n",
      "==> Parsing XML files ...\n",
      "==>Parsing XML Finished.\n",
      "==>Generate training batches...\n",
      "==>Training batch generation complete\n",
      "==>Total number of training samples = 128\n",
      "==>VALIDATION\n",
      "==> Parsing XML files ...\n",
      "==>Parsing XML Finished.\n",
      "==>Generate training batches...\n",
      "==>Training batch generation complete\n",
      "==>Total number of validation samples = 60\n"
     ]
    }
   ],
   "source": [
    "batch_size = 32\n",
    "ssd_box_encoder = SSDBoxEncoder(img_height=img_height,\n",
    "                                img_width=img_width,\n",
    "                                n_classes=n_classes, \n",
    "                                predictor_sizes=predictor_sizes,\n",
    "                                min_scale=None,\n",
    "                                max_scale=None,\n",
    "                                scales=scales,\n",
    "                                aspect_ratios_global=None,\n",
    "                                aspect_ratios_per_layer=aspect_ratios,\n",
    "                                two_boxes_for_ar1=two_boxes_for_ar1,\n",
    "                                limit_boxes=limit_boxes,\n",
    "                                variances=variances,\n",
    "                                pos_iou_threshold=0.5,\n",
    "                                neg_iou_threshold=0.2,\n",
    "                                coords=coords,\n",
    "                                normalize_coords=normalize_coords)\n",
    "\n",
    "train_dataset = BatchGenerator(images_path=train_data, \n",
    "                include_classes='all', \n",
    "                box_output_format = ['class_id', 'xmin', 'xmax', 'ymin', 'ymax'])\n",
    "\n",
    "print (\"==>TRAINING DATA\")\n",
    "print (\"==> Parsing XML files ...\")\n",
    "\n",
    "train_dataset.parse_xml(\n",
    "                  annotations_path=train_data,\n",
    "                  image_set_path='None',\n",
    "                  image_set='None',\n",
    "                  classes = class_names, \n",
    "                  exclude_truncated=False,\n",
    "                  exclude_difficult=False,\n",
    "                  ret=False, \n",
    "                  debug = False)\n",
    "print(\"==>Parsing XML Finished.\")\n",
    "\n",
    "print (\"==>Generate training batches...\")\n",
    "train_generator = train_dataset.generate(\n",
    "                 batch_size=batch_size,\n",
    "                 train=True,\n",
    "                 ssd_box_encoder=ssd_box_encoder,\n",
    "                 equalize=True,\n",
    "                 brightness=(0.5,2,0.5),\n",
    "                 flip=0.5,\n",
    "                 translate=((0, 20), (0, 30), 0.5),\n",
    "                 scale=(0.75, 1.2, 0.5),\n",
    "                 crop=False,\n",
    "                 #random_crop = (img_height,img_width,1,3), \n",
    "                 random_crop=False,\n",
    "                 resize=(img_height, img_width),\n",
    "                 #resize=False,\n",
    "                 gray=False,\n",
    "                 limit_boxes=True,\n",
    "                 include_thresh=0.4,\n",
    "                 diagnostics=False)\n",
    "\n",
    "print (\"==>Training batch generation complete\")\n",
    "\n",
    "n_train_samples = train_dataset.get_n_samples()\n",
    "\n",
    "print (\"==>Total number of training samples = {}\".format(n_train_samples))\n",
    "\n",
    "# Now repeat above steps for validation data \n",
    "\n",
    "print (\"==>VALIDATION\")\n",
    "\n",
    "val_dataset = BatchGenerator(images_path=test_data, include_classes='all', \n",
    "                box_output_format = ['class_id', 'xmin', 'xmax', 'ymin', 'ymax'])\n",
    "\n",
    "print (\"==> Parsing XML files ...\")\n",
    "\n",
    "\n",
    "val_dataset.parse_xml(\n",
    "                  annotations_path=test_data,\n",
    "                  image_set_path='None',\n",
    "                  image_set='None',\n",
    "                  classes = class_names, \n",
    "                  exclude_truncated=False,\n",
    "                  exclude_difficult=False,\n",
    "                  ret=False, \n",
    "                  debug = False)\n",
    "\n",
    "\n",
    "print(\"==>Parsing XML Finished.\")\n",
    "\n",
    "\n",
    "print (\"==>Generate training batches...\")\n",
    "val_generator = val_dataset.generate(\n",
    "                 batch_size=batch_size,\n",
    "                 train=True,\n",
    "                 ssd_box_encoder=ssd_box_encoder,\n",
    "                 equalize=False,\n",
    "                 brightness=False,\n",
    "                 flip=False,\n",
    "                 translate=False,\n",
    "                 scale=False,\n",
    "                 crop=False,\n",
    "                 #random_crop = (img_height,img_width,1,3), \n",
    "                 random_crop=False, \n",
    "                 resize=(img_height, img_width), \n",
    "                 #resize=False, \n",
    "                 gray=False,\n",
    "                 limit_boxes=True,\n",
    "                 include_thresh=0.4,\n",
    "                 diagnostics=False)\n",
    "\n",
    "\n",
    "print (\"==>Training batch generation complete\")\n",
    "\n",
    "n_val_samples = val_dataset.get_n_samples()\n",
    "\n",
    "print (\"==>Total number of validation samples = {}\".format(n_val_samples))"
   ]
  },
  {
   "cell_type": "markdown",
   "metadata": {
    "colab_type": "text",
    "id": "4KtkdFTQhKlE"
   },
   "source": [
    "### Now, lets setup things for training by initilaizing required variables like learning rate, epochs, optimizer and loss function(SSDLoss) to compile the model"
   ]
  },
  {
   "cell_type": "code",
   "execution_count": 14,
   "metadata": {
    "colab": {},
    "colab_type": "code",
    "id": "g1-3OOPmgmxk"
   },
   "outputs": [
    {
     "name": "stdout",
     "output_type": "stream",
     "text": [
      "WARNING:tensorflow:From C:\\Users\\aksha\\Anaconda3\\envs\\DLCP\\lib\\site-packages\\keras\\optimizers.py:790: The name tf.train.Optimizer is deprecated. Please use tf.compat.v1.train.Optimizer instead.\n",
      "\n",
      "WARNING:tensorflow:From D:\\Hands-On\\PGP-AIML\\CaseStudies\\11-Convolution.Neural.Network-Face.Detection\\keras_ssd_loss.py:97: The name tf.log is deprecated. Please use tf.math.log instead.\n",
      "\n",
      "WARNING:tensorflow:From D:\\Hands-On\\PGP-AIML\\CaseStudies\\11-Convolution.Neural.Network-Face.Detection\\keras_ssd_loss.py:129: to_float (from tensorflow.python.ops.math_ops) is deprecated and will be removed in a future version.\n",
      "Instructions for updating:\n",
      "Use `tf.cast` instead.\n",
      "WARNING:tensorflow:From D:\\Hands-On\\PGP-AIML\\CaseStudies\\11-Convolution.Neural.Network-Face.Detection\\keras_ssd_loss.py:76: where (from tensorflow.python.ops.array_ops) is deprecated and will be removed in a future version.\n",
      "Instructions for updating:\n",
      "Use tf.where in 2.0, which has the same broadcast rule as np.where\n",
      "WARNING:tensorflow:From D:\\Hands-On\\PGP-AIML\\CaseStudies\\11-Convolution.Neural.Network-Face.Detection\\keras_ssd_loss.py:162: to_int32 (from tensorflow.python.ops.math_ops) is deprecated and will be removed in a future version.\n",
      "Instructions for updating:\n",
      "Use `tf.cast` instead.\n"
     ]
    }
   ],
   "source": [
    "# setting up training \n",
    "\n",
    "# batch_size and no.of epochs\n",
    "\n",
    "batch_size = 16\n",
    "num_epochs = 10\n",
    "\n",
    "#Learning rate\n",
    "base_lr = 0.002\n",
    "\n",
    "# Optimizer\n",
    "adam = Adam(lr=base_lr, beta_1=0.9, beta_2=0.999, epsilon=1e-6, decay = 0.0)\n",
    "\n",
    "# Loss\n",
    "ssd_loss = SSDLoss(neg_pos_ratio=2, n_neg_min=0, alpha=1.0, beta = 1.0)\n",
    "\n",
    "# Compile\n",
    "model.compile(optimizer=adam, loss=ssd_loss.compute_loss)"
   ]
  },
  {
   "cell_type": "markdown",
   "metadata": {
    "colab_type": "text",
    "id": "vt_RxSHJitPR"
   },
   "source": [
    "### Lets add early stopping and model checkpoint layers on validation loss with some patience values and using fit_generator function to train the model on data generated batch-by-batch by a Python generator, `train_generator` object as generator.\n",
    "\n",
    "\n",
    "We are using checkpoint to save the best model based on validation accuracy."
   ]
  },
  {
   "cell_type": "markdown",
   "metadata": {
    "colab_type": "text",
    "id": "ugJ68M7_vDqy"
   },
   "source": [
    "#### Write code for early_stopping and model_checkpoint layers. Using model.fit_generator train the model and save the best weight file. - 10 Points"
   ]
  },
  {
   "cell_type": "code",
   "execution_count": 15,
   "metadata": {
    "colab": {},
    "colab_type": "code",
    "id": "EeO-T9jwi8be",
    "scrolled": false
   },
   "outputs": [
    {
     "name": "stdout",
     "output_type": "stream",
     "text": [
      "training starting...\n",
      "WARNING:tensorflow:From C:\\Users\\aksha\\Anaconda3\\envs\\DLCP\\lib\\site-packages\\keras\\backend\\tensorflow_backend.py:986: The name tf.assign_add is deprecated. Please use tf.compat.v1.assign_add instead.\n",
      "\n",
      "WARNING:tensorflow:From C:\\Users\\aksha\\Anaconda3\\envs\\DLCP\\lib\\site-packages\\keras\\backend\\tensorflow_backend.py:973: The name tf.assign is deprecated. Please use tf.compat.v1.assign instead.\n",
      "\n",
      "Epoch 1/10\n"
     ]
    },
    {
     "ename": "UnknownError",
     "evalue": "2 root error(s) found.\n  (0) Unknown: Failed to get convolution algorithm. This is probably because cuDNN failed to initialize, so try looking to see if a warning log message was printed above.\n\t [[{{node conv1/convolution}}]]\n\t [[loss/mul/_2519]]\n  (1) Unknown: Failed to get convolution algorithm. This is probably because cuDNN failed to initialize, so try looking to see if a warning log message was printed above.\n\t [[{{node conv1/convolution}}]]\n0 successful operations.\n0 derived errors ignored.",
     "output_type": "error",
     "traceback": [
      "\u001b[1;31m---------------------------------------------------------------------------\u001b[0m",
      "\u001b[1;31mUnknownError\u001b[0m                              Traceback (most recent call last)",
      "\u001b[1;32m<ipython-input-15-06037e6ea9b9>\u001b[0m in \u001b[0;36m<module>\u001b[1;34m\u001b[0m\n\u001b[0;32m     31\u001b[0m                               \u001b[0mcallbacks\u001b[0m \u001b[1;33m=\u001b[0m \u001b[1;33m[\u001b[0m\u001b[0mmodel_checkpoint\u001b[0m\u001b[1;33m,\u001b[0m \u001b[0mearly_stopping\u001b[0m\u001b[1;33m]\u001b[0m\u001b[1;33m,\u001b[0m\u001b[1;33m\u001b[0m\u001b[1;33m\u001b[0m\u001b[0m\n\u001b[0;32m     32\u001b[0m                               \u001b[0mvalidation_data\u001b[0m \u001b[1;33m=\u001b[0m \u001b[0mval_generator\u001b[0m\u001b[1;33m,\u001b[0m\u001b[1;33m\u001b[0m\u001b[1;33m\u001b[0m\u001b[0m\n\u001b[1;32m---> 33\u001b[1;33m                               validation_steps = ceil(n_val_samples/batch_size))\n\u001b[0m\u001b[0;32m     34\u001b[0m \u001b[1;33m\u001b[0m\u001b[0m\n\u001b[0;32m     35\u001b[0m \u001b[0mmodel\u001b[0m\u001b[1;33m.\u001b[0m\u001b[0msave_weights\u001b[0m\u001b[1;33m(\u001b[0m\u001b[0mdet_model_path\u001b[0m \u001b[1;33m+\u001b[0m \u001b[1;34m'ssd_mobilenet_weights_epoch_{}.h5'\u001b[0m\u001b[1;33m.\u001b[0m\u001b[0mformat\u001b[0m\u001b[1;33m(\u001b[0m\u001b[0mnum_epochs\u001b[0m\u001b[1;33m)\u001b[0m\u001b[1;33m)\u001b[0m\u001b[1;33m\u001b[0m\u001b[1;33m\u001b[0m\u001b[0m\n",
      "\u001b[1;32m~\\Anaconda3\\envs\\DLCP\\lib\\site-packages\\keras\\legacy\\interfaces.py\u001b[0m in \u001b[0;36mwrapper\u001b[1;34m(*args, **kwargs)\u001b[0m\n\u001b[0;32m     89\u001b[0m                 warnings.warn('Update your `' + object_name + '` call to the ' +\n\u001b[0;32m     90\u001b[0m                               'Keras 2 API: ' + signature, stacklevel=2)\n\u001b[1;32m---> 91\u001b[1;33m             \u001b[1;32mreturn\u001b[0m \u001b[0mfunc\u001b[0m\u001b[1;33m(\u001b[0m\u001b[1;33m*\u001b[0m\u001b[0margs\u001b[0m\u001b[1;33m,\u001b[0m \u001b[1;33m**\u001b[0m\u001b[0mkwargs\u001b[0m\u001b[1;33m)\u001b[0m\u001b[1;33m\u001b[0m\u001b[1;33m\u001b[0m\u001b[0m\n\u001b[0m\u001b[0;32m     92\u001b[0m         \u001b[0mwrapper\u001b[0m\u001b[1;33m.\u001b[0m\u001b[0m_original_function\u001b[0m \u001b[1;33m=\u001b[0m \u001b[0mfunc\u001b[0m\u001b[1;33m\u001b[0m\u001b[1;33m\u001b[0m\u001b[0m\n\u001b[0;32m     93\u001b[0m         \u001b[1;32mreturn\u001b[0m \u001b[0mwrapper\u001b[0m\u001b[1;33m\u001b[0m\u001b[1;33m\u001b[0m\u001b[0m\n",
      "\u001b[1;32m~\\Anaconda3\\envs\\DLCP\\lib\\site-packages\\keras\\engine\\training.py\u001b[0m in \u001b[0;36mfit_generator\u001b[1;34m(self, generator, steps_per_epoch, epochs, verbose, callbacks, validation_data, validation_steps, class_weight, max_queue_size, workers, use_multiprocessing, shuffle, initial_epoch)\u001b[0m\n\u001b[0;32m   1416\u001b[0m             \u001b[0muse_multiprocessing\u001b[0m\u001b[1;33m=\u001b[0m\u001b[0muse_multiprocessing\u001b[0m\u001b[1;33m,\u001b[0m\u001b[1;33m\u001b[0m\u001b[1;33m\u001b[0m\u001b[0m\n\u001b[0;32m   1417\u001b[0m             \u001b[0mshuffle\u001b[0m\u001b[1;33m=\u001b[0m\u001b[0mshuffle\u001b[0m\u001b[1;33m,\u001b[0m\u001b[1;33m\u001b[0m\u001b[1;33m\u001b[0m\u001b[0m\n\u001b[1;32m-> 1418\u001b[1;33m             initial_epoch=initial_epoch)\n\u001b[0m\u001b[0;32m   1419\u001b[0m \u001b[1;33m\u001b[0m\u001b[0m\n\u001b[0;32m   1420\u001b[0m     \u001b[1;33m@\u001b[0m\u001b[0minterfaces\u001b[0m\u001b[1;33m.\u001b[0m\u001b[0mlegacy_generator_methods_support\u001b[0m\u001b[1;33m\u001b[0m\u001b[1;33m\u001b[0m\u001b[0m\n",
      "\u001b[1;32m~\\Anaconda3\\envs\\DLCP\\lib\\site-packages\\keras\\engine\\training_generator.py\u001b[0m in \u001b[0;36mfit_generator\u001b[1;34m(model, generator, steps_per_epoch, epochs, verbose, callbacks, validation_data, validation_steps, class_weight, max_queue_size, workers, use_multiprocessing, shuffle, initial_epoch)\u001b[0m\n\u001b[0;32m    215\u001b[0m                 outs = model.train_on_batch(x, y,\n\u001b[0;32m    216\u001b[0m                                             \u001b[0msample_weight\u001b[0m\u001b[1;33m=\u001b[0m\u001b[0msample_weight\u001b[0m\u001b[1;33m,\u001b[0m\u001b[1;33m\u001b[0m\u001b[1;33m\u001b[0m\u001b[0m\n\u001b[1;32m--> 217\u001b[1;33m                                             class_weight=class_weight)\n\u001b[0m\u001b[0;32m    218\u001b[0m \u001b[1;33m\u001b[0m\u001b[0m\n\u001b[0;32m    219\u001b[0m                 \u001b[0mouts\u001b[0m \u001b[1;33m=\u001b[0m \u001b[0mto_list\u001b[0m\u001b[1;33m(\u001b[0m\u001b[0mouts\u001b[0m\u001b[1;33m)\u001b[0m\u001b[1;33m\u001b[0m\u001b[1;33m\u001b[0m\u001b[0m\n",
      "\u001b[1;32m~\\Anaconda3\\envs\\DLCP\\lib\\site-packages\\keras\\engine\\training.py\u001b[0m in \u001b[0;36mtrain_on_batch\u001b[1;34m(self, x, y, sample_weight, class_weight)\u001b[0m\n\u001b[0;32m   1215\u001b[0m             \u001b[0mins\u001b[0m \u001b[1;33m=\u001b[0m \u001b[0mx\u001b[0m \u001b[1;33m+\u001b[0m \u001b[0my\u001b[0m \u001b[1;33m+\u001b[0m \u001b[0msample_weights\u001b[0m\u001b[1;33m\u001b[0m\u001b[1;33m\u001b[0m\u001b[0m\n\u001b[0;32m   1216\u001b[0m         \u001b[0mself\u001b[0m\u001b[1;33m.\u001b[0m\u001b[0m_make_train_function\u001b[0m\u001b[1;33m(\u001b[0m\u001b[1;33m)\u001b[0m\u001b[1;33m\u001b[0m\u001b[1;33m\u001b[0m\u001b[0m\n\u001b[1;32m-> 1217\u001b[1;33m         \u001b[0moutputs\u001b[0m \u001b[1;33m=\u001b[0m \u001b[0mself\u001b[0m\u001b[1;33m.\u001b[0m\u001b[0mtrain_function\u001b[0m\u001b[1;33m(\u001b[0m\u001b[0mins\u001b[0m\u001b[1;33m)\u001b[0m\u001b[1;33m\u001b[0m\u001b[1;33m\u001b[0m\u001b[0m\n\u001b[0m\u001b[0;32m   1218\u001b[0m         \u001b[1;32mreturn\u001b[0m \u001b[0munpack_singleton\u001b[0m\u001b[1;33m(\u001b[0m\u001b[0moutputs\u001b[0m\u001b[1;33m)\u001b[0m\u001b[1;33m\u001b[0m\u001b[1;33m\u001b[0m\u001b[0m\n\u001b[0;32m   1219\u001b[0m \u001b[1;33m\u001b[0m\u001b[0m\n",
      "\u001b[1;32m~\\Anaconda3\\envs\\DLCP\\lib\\site-packages\\keras\\backend\\tensorflow_backend.py\u001b[0m in \u001b[0;36m__call__\u001b[1;34m(self, inputs)\u001b[0m\n\u001b[0;32m   2713\u001b[0m                 \u001b[1;32mreturn\u001b[0m \u001b[0mself\u001b[0m\u001b[1;33m.\u001b[0m\u001b[0m_legacy_call\u001b[0m\u001b[1;33m(\u001b[0m\u001b[0minputs\u001b[0m\u001b[1;33m)\u001b[0m\u001b[1;33m\u001b[0m\u001b[1;33m\u001b[0m\u001b[0m\n\u001b[0;32m   2714\u001b[0m \u001b[1;33m\u001b[0m\u001b[0m\n\u001b[1;32m-> 2715\u001b[1;33m             \u001b[1;32mreturn\u001b[0m \u001b[0mself\u001b[0m\u001b[1;33m.\u001b[0m\u001b[0m_call\u001b[0m\u001b[1;33m(\u001b[0m\u001b[0minputs\u001b[0m\u001b[1;33m)\u001b[0m\u001b[1;33m\u001b[0m\u001b[1;33m\u001b[0m\u001b[0m\n\u001b[0m\u001b[0;32m   2716\u001b[0m         \u001b[1;32melse\u001b[0m\u001b[1;33m:\u001b[0m\u001b[1;33m\u001b[0m\u001b[1;33m\u001b[0m\u001b[0m\n\u001b[0;32m   2717\u001b[0m             \u001b[1;32mif\u001b[0m \u001b[0mpy_any\u001b[0m\u001b[1;33m(\u001b[0m\u001b[0mis_tensor\u001b[0m\u001b[1;33m(\u001b[0m\u001b[0mx\u001b[0m\u001b[1;33m)\u001b[0m \u001b[1;32mfor\u001b[0m \u001b[0mx\u001b[0m \u001b[1;32min\u001b[0m \u001b[0minputs\u001b[0m\u001b[1;33m)\u001b[0m\u001b[1;33m:\u001b[0m\u001b[1;33m\u001b[0m\u001b[1;33m\u001b[0m\u001b[0m\n",
      "\u001b[1;32m~\\Anaconda3\\envs\\DLCP\\lib\\site-packages\\keras\\backend\\tensorflow_backend.py\u001b[0m in \u001b[0;36m_call\u001b[1;34m(self, inputs)\u001b[0m\n\u001b[0;32m   2673\u001b[0m             \u001b[0mfetched\u001b[0m \u001b[1;33m=\u001b[0m \u001b[0mself\u001b[0m\u001b[1;33m.\u001b[0m\u001b[0m_callable_fn\u001b[0m\u001b[1;33m(\u001b[0m\u001b[1;33m*\u001b[0m\u001b[0marray_vals\u001b[0m\u001b[1;33m,\u001b[0m \u001b[0mrun_metadata\u001b[0m\u001b[1;33m=\u001b[0m\u001b[0mself\u001b[0m\u001b[1;33m.\u001b[0m\u001b[0mrun_metadata\u001b[0m\u001b[1;33m)\u001b[0m\u001b[1;33m\u001b[0m\u001b[1;33m\u001b[0m\u001b[0m\n\u001b[0;32m   2674\u001b[0m         \u001b[1;32melse\u001b[0m\u001b[1;33m:\u001b[0m\u001b[1;33m\u001b[0m\u001b[1;33m\u001b[0m\u001b[0m\n\u001b[1;32m-> 2675\u001b[1;33m             \u001b[0mfetched\u001b[0m \u001b[1;33m=\u001b[0m \u001b[0mself\u001b[0m\u001b[1;33m.\u001b[0m\u001b[0m_callable_fn\u001b[0m\u001b[1;33m(\u001b[0m\u001b[1;33m*\u001b[0m\u001b[0marray_vals\u001b[0m\u001b[1;33m)\u001b[0m\u001b[1;33m\u001b[0m\u001b[1;33m\u001b[0m\u001b[0m\n\u001b[0m\u001b[0;32m   2676\u001b[0m         \u001b[1;32mreturn\u001b[0m \u001b[0mfetched\u001b[0m\u001b[1;33m[\u001b[0m\u001b[1;33m:\u001b[0m\u001b[0mlen\u001b[0m\u001b[1;33m(\u001b[0m\u001b[0mself\u001b[0m\u001b[1;33m.\u001b[0m\u001b[0moutputs\u001b[0m\u001b[1;33m)\u001b[0m\u001b[1;33m]\u001b[0m\u001b[1;33m\u001b[0m\u001b[1;33m\u001b[0m\u001b[0m\n\u001b[0;32m   2677\u001b[0m \u001b[1;33m\u001b[0m\u001b[0m\n",
      "\u001b[1;32m~\\Anaconda3\\envs\\DLCP\\lib\\site-packages\\tensorflow_core\\python\\client\\session.py\u001b[0m in \u001b[0;36m__call__\u001b[1;34m(self, *args, **kwargs)\u001b[0m\n\u001b[0;32m   1470\u001b[0m         ret = tf_session.TF_SessionRunCallable(self._session._session,\n\u001b[0;32m   1471\u001b[0m                                                \u001b[0mself\u001b[0m\u001b[1;33m.\u001b[0m\u001b[0m_handle\u001b[0m\u001b[1;33m,\u001b[0m \u001b[0margs\u001b[0m\u001b[1;33m,\u001b[0m\u001b[1;33m\u001b[0m\u001b[1;33m\u001b[0m\u001b[0m\n\u001b[1;32m-> 1472\u001b[1;33m                                                run_metadata_ptr)\n\u001b[0m\u001b[0;32m   1473\u001b[0m         \u001b[1;32mif\u001b[0m \u001b[0mrun_metadata\u001b[0m\u001b[1;33m:\u001b[0m\u001b[1;33m\u001b[0m\u001b[1;33m\u001b[0m\u001b[0m\n\u001b[0;32m   1474\u001b[0m           \u001b[0mproto_data\u001b[0m \u001b[1;33m=\u001b[0m \u001b[0mtf_session\u001b[0m\u001b[1;33m.\u001b[0m\u001b[0mTF_GetBuffer\u001b[0m\u001b[1;33m(\u001b[0m\u001b[0mrun_metadata_ptr\u001b[0m\u001b[1;33m)\u001b[0m\u001b[1;33m\u001b[0m\u001b[1;33m\u001b[0m\u001b[0m\n",
      "\u001b[1;31mUnknownError\u001b[0m: 2 root error(s) found.\n  (0) Unknown: Failed to get convolution algorithm. This is probably because cuDNN failed to initialize, so try looking to see if a warning log message was printed above.\n\t [[{{node conv1/convolution}}]]\n\t [[loss/mul/_2519]]\n  (1) Unknown: Failed to get convolution algorithm. This is probably because cuDNN failed to initialize, so try looking to see if a warning log message was printed above.\n\t [[{{node conv1/convolution}}]]\n0 successful operations.\n0 derived errors ignored."
     ]
    }
   ],
   "source": [
    "# def scheduler(epoch):\n",
    "#   if epoch%10==0 and epoch!=0:\n",
    "#   #if epoch !=0 or epp:\n",
    "#     lr = K.get_value(model.optimizer.lr)\n",
    "#     K.set_value(model.optimizer.lr, lr*.95)\n",
    "#     print(\"lr changed to {}\".format(lr*.95))\n",
    "#   else: \n",
    "#     print(\"lr remains {}\".format(K.get_value(model.optimizer.lr)))\n",
    "\n",
    "#   return K.get_value(model.optimizer.lr)\n",
    "\n",
    "#lr_schedule = LearningRateScheduler(scheduler)\n",
    "\n",
    "# plateau = ReduceLROnPlateau(monitor='val_loss', factor = 0.3, patience =4, epsilon=0.001, cooldown=0)\n",
    "#tensorboard = TensorBoard(log_dir='./logs/trial1/', histogram_freq=1, batch_size=16, write_graph=True, write_grads=True, \n",
    "#                           write_images=True, embeddings_freq=0, embeddings_layer_names=None, embeddings_metadata=None)\n",
    "\n",
    "early_stopping = EarlyStopping(monitor='val_loss', min_delta=0.001, patience=100)\n",
    "model_checkpoint =  ModelCheckpoint(det_model_path + 'ssd_mobilenet_face_epoch_{epoch:02d}_loss{val_loss:.4f}.h5',\n",
    "                                                           monitor='val_loss',\n",
    "                                                           verbose=1,\n",
    "                                                           save_best_only=True,\n",
    "                                                           save_weights_only=True,\n",
    "                                                           mode='auto',\n",
    "                                                           period=1)\n",
    "\n",
    "print (\"training starting...\")\n",
    "history = model.fit_generator(generator = train_generator,\n",
    "                              steps_per_epoch = ceil(n_train_samples/batch_size)*2,\n",
    "                              epochs = num_epochs,\n",
    "                              callbacks = [model_checkpoint, early_stopping],                      \n",
    "                              validation_data = val_generator,\n",
    "                              validation_steps = ceil(n_val_samples/batch_size))\n",
    "\n",
    "model.save_weights(det_model_path + 'ssd_mobilenet_weights_epoch_{}.h5'.format(num_epochs))\n",
    "\n",
    "print (\"model and weight files saved at : \" + det_model_path)\n",
    "\n"
   ]
  },
  {
   "cell_type": "markdown",
   "metadata": {
    "colab_type": "text",
    "id": "U3FHrp77jdOx"
   },
   "source": [
    "### Check and load the best saved model with best Validation accuracy from above step and check predictions for test data using test_generator object to generate batches. "
   ]
  },
  {
   "cell_type": "markdown",
   "metadata": {
    "colab_type": "text",
    "id": "S7eP30cxvcEA"
   },
   "source": [
    "#### Write code in the below cell to load best saved model in the above step.  - 5 Points"
   ]
  },
  {
   "cell_type": "code",
   "execution_count": 0,
   "metadata": {
    "colab": {},
    "colab_type": "code",
    "id": "nh7tMrxFjR4B"
   },
   "outputs": [],
   "source": []
  },
  {
   "cell_type": "markdown",
   "metadata": {
    "colab_type": "text",
    "id": "6dD7q7pzqvnh"
   },
   "source": [
    "### Use the below function to plot the boundingbox in the test image to show the predictions."
   ]
  },
  {
   "cell_type": "code",
   "execution_count": 0,
   "metadata": {
    "colab": {},
    "colab_type": "code",
    "id": "h89fe5NGqwI9"
   },
   "outputs": [],
   "source": [
    "def save_bb(path, filename, results, prediction=True):\n",
    "  \n",
    "  # print filename\n",
    "\n",
    "  img = image.load_img(filename, target_size=(img_height, img_width))\n",
    "  img = image.img_to_array(img)\n",
    "\n",
    "  filename = filename.split(\"/\")[-1]\n",
    "\n",
    "  if(not prediction):\n",
    "    filename = filename[:-4] + \"_gt\" + \".jpg\"\n",
    "\n",
    "  #fig,currentAxis = plt.subplots(1)\n",
    "  currentAxis = plt.gca()\n",
    "\n",
    " # Get detections with confidence higher than 0.6.\n",
    "  colors = plt.cm.hsv(np.linspace(0, 1, len(results))).tolist()\n",
    "  color_code = len(results)\n",
    "  print (colored(\"total number of bbs: %d\" % len(results), \"yellow\"))\n",
    "  for result in results:\n",
    "    # Parse the outputs.\n",
    "\n",
    "    if(prediction):\n",
    "      det_label = result[0]\n",
    "      det_conf = result[1]\n",
    "      det_xmin = result[2]\n",
    "      det_xmax = result[3]\n",
    "      det_ymin = result[4]\n",
    "      det_ymax = result[5]\n",
    "    else :\n",
    "      det_label = result[0]\n",
    "      det_xmin = result[1]\n",
    "      det_xmax = result[2]\n",
    "      det_ymin = result[3]\n",
    "      det_ymax = result[4]\n",
    "\n",
    "    xmin = int(det_xmin)\n",
    "    ymin = int(det_ymin)\n",
    "    xmax = int(det_xmax)\n",
    "    ymax = int(det_ymax)\n",
    "\n",
    "    if(prediction):\n",
    "      score = det_conf\n",
    "    \n",
    "    plt.imshow(img / 255.)\n",
    "    \n",
    "    label = int(int(det_label))\n",
    "    label_name = class_names[label]\n",
    "    # print label_name \n",
    "    # print label\n",
    "\n",
    "    if(prediction):\n",
    "      display_txt = '{:0.2f}'.format(score)\n",
    "    else:\n",
    "      display_txt = '{}'.format(label_name)\n",
    "\n",
    "      \n",
    "    # print (xmin, ymin, ymin, ymax)\n",
    "    coords = (xmin, ymin), (xmax-xmin), (ymax-ymin)\n",
    "    color_code = color_code-1 \n",
    "    color = colors[color_code]\n",
    "    currentAxis.add_patch(plt.Rectangle(*coords, fill=False, edgecolor=color, linewidth=2))\n",
    "    currentAxis.text(xmin, ymin, display_txt, bbox={'facecolor':color, 'alpha':0.2})\n",
    "\n",
    "  # y\n",
    "  currentAxis.axes.get_yaxis().set_visible(False)\n",
    "  # x\n",
    "  currentAxis.axes.get_xaxis().set_visible(False)\n",
    "  plt.savefig(path + filename, bbox_inches='tight')\n",
    "\n",
    "  print ('saved' , path + filename)\n",
    "\n",
    "  plt.clf()\n"
   ]
  },
  {
   "cell_type": "markdown",
   "metadata": {
    "colab_type": "text",
    "id": "RrMdNhMtwE3t"
   },
   "source": [
    "#### Run the below code to create a folder with name output_test and get the predictions for the test images using model.predict()"
   ]
  },
  {
   "cell_type": "code",
   "execution_count": 0,
   "metadata": {
    "colab": {},
    "colab_type": "code",
    "id": "1Sep0lG3vR0R"
   },
   "outputs": [],
   "source": [
    "!mkdir output_test"
   ]
  },
  {
   "cell_type": "code",
   "execution_count": 0,
   "metadata": {
    "colab": {},
    "colab_type": "code",
    "id": "70s6RPuInpqo"
   },
   "outputs": [],
   "source": [
    "from keras.preprocessing import image\n",
    "from matplotlib import pyplot as plt\n",
    "\n",
    "test_size = 16\n",
    "test_generator = val_dataset.generate(\n",
    "                 batch_size=test_size,\n",
    "                 train=False,\n",
    "                 ssd_box_encoder=ssd_box_encoder,\n",
    "                 equalize=False,\n",
    "                 brightness=False,\n",
    "                 flip=False,\n",
    "                 translate=False,\n",
    "                 scale=False,\n",
    "                 crop=False,\n",
    "                 #random_crop = (img_height,img_width,1,3), \n",
    "                 random_crop=False, \n",
    "                 resize=(img_height, img_width), \n",
    "                 #resize=False,\n",
    "                 gray=False,\n",
    "                 limit_boxes=True,\n",
    "                 include_thresh=0.4,\n",
    "                 diagnostics=False)\n",
    "\n",
    "print (colored(\"done.\", \"green\"))\n",
    "\n",
    "print (colored(\"now predicting...\", \"yellow\"))\n",
    "\n",
    "_CONF = 0.60 \n",
    "_IOU = 0.15\n",
    "\n",
    "for j in range(test_size):\n",
    "  X, y, filenames = next(test_generator)\n",
    "  num_files = len(filenames)\n",
    "\n",
    "  y_pred = model.predict(X)\n",
    "\n",
    "\n",
    "  y_pred_decoded = decode_y2(y_pred,\n",
    "                             confidence_thresh=_CONF,\n",
    "                            iou_threshold=_IOU,\n",
    "                            top_k='all',\n",
    "                            input_coords=coords,\n",
    "                            normalize_coords=normalize_coords,\n",
    "                            img_height=img_height,\n",
    "                            img_width=img_width)\n",
    "\n",
    "\n",
    "  np.set_printoptions(suppress=True)\n",
    "  \n",
    "  for i in range(num_files):\n",
    "    save_bb(\"./output_test/\", filenames[i], y_pred_decoded[i])\n",
    "    save_bb(\"./output_test/\", filenames[i], y[i], prediction=False)\n"
   ]
  },
  {
   "cell_type": "markdown",
   "metadata": {
    "colab_type": "text",
    "id": "qLKgtPCJwena"
   },
   "source": [
    "In the above step all the test images along with predictions are stored in output_test folder in this notebook environment. You can check the folder in Files section of the menu to left-side of screen in colab.\n",
    "\n",
    "Each test image is used for predictions and is stored as 2 files.\n",
    "\n",
    "one file is the original ground truth with <filename_gt.jpg>\n",
    "second file is the prediction of the model on the image. with <filename.jpg>"
   ]
  },
  {
   "cell_type": "markdown",
   "metadata": {
    "colab_type": "text",
    "id": "TFzb3Vj9kDGH"
   },
   "source": [
    "### Visualize a test image to check predictions\n",
    "\n",
    "\n",
    "#### Write code to show images: Using cv2.imread() to read the output images created above and matplotlib to show any 3 test images and their predictions. The outputs of test images are present in the './output_test/' folder - 5 Points"
   ]
  },
  {
   "cell_type": "code",
   "execution_count": 0,
   "metadata": {
    "colab": {},
    "colab_type": "code",
    "id": "zA1lMnX4-edG"
   },
   "outputs": [],
   "source": []
  }
 ],
 "metadata": {
  "colab": {
   "collapsed_sections": [],
   "name": "FACE_DETECTION_Questions_Updated_1-12-2018.ipynb",
   "provenance": [],
   "toc_visible": true,
   "version": "0.3.2"
  },
  "kernelspec": {
   "display_name": "Python [conda env:DLCP]",
   "language": "python",
   "name": "conda-env-DLCP-py"
  },
  "language_info": {
   "codemirror_mode": {
    "name": "ipython",
    "version": 3
   },
   "file_extension": ".py",
   "mimetype": "text/x-python",
   "name": "python",
   "nbconvert_exporter": "python",
   "pygments_lexer": "ipython3",
   "version": "3.7.5"
  }
 },
 "nbformat": 4,
 "nbformat_minor": 1
}
