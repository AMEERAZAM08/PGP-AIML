{
 "cells": [
  {
   "cell_type": "markdown",
   "metadata": {},
   "source": [
    "# UBER Case Study for Exploratory Data Analysis (EDA)"
   ]
  },
  {
   "cell_type": "markdown",
   "metadata": {},
   "source": [
    "### Part - 1\n",
    "**Load and refine the data**\n",
    "* Import the libraries\n",
    "* Get the data and observe it\n",
    "* Check missing values, either remove it or fill it.\n",
    "* Get summary of data using python function."
   ]
  },
  {
   "cell_type": "markdown",
   "metadata": {},
   "source": [
    "**Import all the required libraries**"
   ]
  },
  {
   "cell_type": "code",
   "execution_count": 9,
   "metadata": {},
   "outputs": [],
   "source": [
    "import numpy as np\n",
    "import pandas as pd\n",
    "import matplotlib.pyplot as plt\n",
    "import seaborn as sns\n",
    "%matplotlib inline"
   ]
  },
  {
   "cell_type": "markdown",
   "metadata": {},
   "source": [
    "**Load the data into a dataframe called uber and call the head and tail of it**"
   ]
  },
  {
   "cell_type": "code",
   "execution_count": 10,
   "metadata": {},
   "outputs": [
    {
     "data": {
      "text/html": [
       "<div>\n",
       "<style scoped>\n",
       "    .dataframe tbody tr th:only-of-type {\n",
       "        vertical-align: middle;\n",
       "    }\n",
       "\n",
       "    .dataframe tbody tr th {\n",
       "        vertical-align: top;\n",
       "    }\n",
       "\n",
       "    .dataframe thead th {\n",
       "        text-align: right;\n",
       "    }\n",
       "</style>\n",
       "<table border=\"1\" class=\"dataframe\">\n",
       "  <thead>\n",
       "    <tr style=\"text-align: right;\">\n",
       "      <th></th>\n",
       "      <th>START_DATE*</th>\n",
       "      <th>END_DATE*</th>\n",
       "      <th>CATEGORY*</th>\n",
       "      <th>START*</th>\n",
       "      <th>STOP*</th>\n",
       "      <th>MILES*</th>\n",
       "      <th>PURPOSE*</th>\n",
       "    </tr>\n",
       "  </thead>\n",
       "  <tbody>\n",
       "    <tr>\n",
       "      <th>0</th>\n",
       "      <td>1/1/2016 21:11</td>\n",
       "      <td>1/1/2016 21:17</td>\n",
       "      <td>Business</td>\n",
       "      <td>Fort Pierce</td>\n",
       "      <td>Fort Pierce</td>\n",
       "      <td>5.1</td>\n",
       "      <td>Meal/Entertain</td>\n",
       "    </tr>\n",
       "    <tr>\n",
       "      <th>1</th>\n",
       "      <td>1/2/2016 1:25</td>\n",
       "      <td>1/2/2016 1:37</td>\n",
       "      <td>Business</td>\n",
       "      <td>Fort Pierce</td>\n",
       "      <td>Fort Pierce</td>\n",
       "      <td>5.0</td>\n",
       "      <td>NaN</td>\n",
       "    </tr>\n",
       "    <tr>\n",
       "      <th>2</th>\n",
       "      <td>1/2/2016 20:25</td>\n",
       "      <td>1/2/2016 20:38</td>\n",
       "      <td>Business</td>\n",
       "      <td>Fort Pierce</td>\n",
       "      <td>Fort Pierce</td>\n",
       "      <td>4.8</td>\n",
       "      <td>Errand/Supplies</td>\n",
       "    </tr>\n",
       "    <tr>\n",
       "      <th>3</th>\n",
       "      <td>1/5/2016 17:31</td>\n",
       "      <td>1/5/2016 17:45</td>\n",
       "      <td>Business</td>\n",
       "      <td>Fort Pierce</td>\n",
       "      <td>Fort Pierce</td>\n",
       "      <td>4.7</td>\n",
       "      <td>Meeting</td>\n",
       "    </tr>\n",
       "    <tr>\n",
       "      <th>4</th>\n",
       "      <td>1/6/2016 14:42</td>\n",
       "      <td>1/6/2016 15:49</td>\n",
       "      <td>Business</td>\n",
       "      <td>Fort Pierce</td>\n",
       "      <td>West Palm Beach</td>\n",
       "      <td>63.7</td>\n",
       "      <td>Customer Visit</td>\n",
       "    </tr>\n",
       "  </tbody>\n",
       "</table>\n",
       "</div>"
      ],
      "text/plain": [
       "      START_DATE*       END_DATE* CATEGORY*       START*            STOP*  \\\n",
       "0  1/1/2016 21:11  1/1/2016 21:17  Business  Fort Pierce      Fort Pierce   \n",
       "1   1/2/2016 1:25   1/2/2016 1:37  Business  Fort Pierce      Fort Pierce   \n",
       "2  1/2/2016 20:25  1/2/2016 20:38  Business  Fort Pierce      Fort Pierce   \n",
       "3  1/5/2016 17:31  1/5/2016 17:45  Business  Fort Pierce      Fort Pierce   \n",
       "4  1/6/2016 14:42  1/6/2016 15:49  Business  Fort Pierce  West Palm Beach   \n",
       "\n",
       "   MILES*         PURPOSE*  \n",
       "0     5.1   Meal/Entertain  \n",
       "1     5.0              NaN  \n",
       "2     4.8  Errand/Supplies  \n",
       "3     4.7          Meeting  \n",
       "4    63.7   Customer Visit  "
      ]
     },
     "execution_count": 10,
     "metadata": {},
     "output_type": "execute_result"
    }
   ],
   "source": [
    "uber = pd.read_csv('Uber Drives 2016.csv')\n",
    "uber.head()"
   ]
  },
  {
   "cell_type": "code",
   "execution_count": 11,
   "metadata": {},
   "outputs": [
    {
     "data": {
      "text/html": [
       "<div>\n",
       "<style scoped>\n",
       "    .dataframe tbody tr th:only-of-type {\n",
       "        vertical-align: middle;\n",
       "    }\n",
       "\n",
       "    .dataframe tbody tr th {\n",
       "        vertical-align: top;\n",
       "    }\n",
       "\n",
       "    .dataframe thead th {\n",
       "        text-align: right;\n",
       "    }\n",
       "</style>\n",
       "<table border=\"1\" class=\"dataframe\">\n",
       "  <thead>\n",
       "    <tr style=\"text-align: right;\">\n",
       "      <th></th>\n",
       "      <th>START_DATE*</th>\n",
       "      <th>END_DATE*</th>\n",
       "      <th>CATEGORY*</th>\n",
       "      <th>START*</th>\n",
       "      <th>STOP*</th>\n",
       "      <th>MILES*</th>\n",
       "      <th>PURPOSE*</th>\n",
       "    </tr>\n",
       "  </thead>\n",
       "  <tbody>\n",
       "    <tr>\n",
       "      <th>1151</th>\n",
       "      <td>12/31/2016 13:24</td>\n",
       "      <td>12/31/2016 13:42</td>\n",
       "      <td>Business</td>\n",
       "      <td>Kar?chi</td>\n",
       "      <td>Unknown Location</td>\n",
       "      <td>3.9</td>\n",
       "      <td>Temporary Site</td>\n",
       "    </tr>\n",
       "    <tr>\n",
       "      <th>1152</th>\n",
       "      <td>12/31/2016 15:03</td>\n",
       "      <td>12/31/2016 15:38</td>\n",
       "      <td>Business</td>\n",
       "      <td>Unknown Location</td>\n",
       "      <td>Unknown Location</td>\n",
       "      <td>16.2</td>\n",
       "      <td>Meeting</td>\n",
       "    </tr>\n",
       "    <tr>\n",
       "      <th>1153</th>\n",
       "      <td>12/31/2016 21:32</td>\n",
       "      <td>12/31/2016 21:50</td>\n",
       "      <td>Business</td>\n",
       "      <td>Katunayake</td>\n",
       "      <td>Gampaha</td>\n",
       "      <td>6.4</td>\n",
       "      <td>Temporary Site</td>\n",
       "    </tr>\n",
       "    <tr>\n",
       "      <th>1154</th>\n",
       "      <td>12/31/2016 22:08</td>\n",
       "      <td>12/31/2016 23:51</td>\n",
       "      <td>Business</td>\n",
       "      <td>Gampaha</td>\n",
       "      <td>Ilukwatta</td>\n",
       "      <td>48.2</td>\n",
       "      <td>Temporary Site</td>\n",
       "    </tr>\n",
       "    <tr>\n",
       "      <th>1155</th>\n",
       "      <td>Totals</td>\n",
       "      <td>NaN</td>\n",
       "      <td>NaN</td>\n",
       "      <td>NaN</td>\n",
       "      <td>NaN</td>\n",
       "      <td>12204.7</td>\n",
       "      <td>NaN</td>\n",
       "    </tr>\n",
       "  </tbody>\n",
       "</table>\n",
       "</div>"
      ],
      "text/plain": [
       "           START_DATE*         END_DATE* CATEGORY*            START*  \\\n",
       "1151  12/31/2016 13:24  12/31/2016 13:42  Business           Kar?chi   \n",
       "1152  12/31/2016 15:03  12/31/2016 15:38  Business  Unknown Location   \n",
       "1153  12/31/2016 21:32  12/31/2016 21:50  Business        Katunayake   \n",
       "1154  12/31/2016 22:08  12/31/2016 23:51  Business           Gampaha   \n",
       "1155            Totals               NaN       NaN               NaN   \n",
       "\n",
       "                 STOP*   MILES*        PURPOSE*  \n",
       "1151  Unknown Location      3.9  Temporary Site  \n",
       "1152  Unknown Location     16.2         Meeting  \n",
       "1153           Gampaha      6.4  Temporary Site  \n",
       "1154         Ilukwatta     48.2  Temporary Site  \n",
       "1155               NaN  12204.7             NaN  "
      ]
     },
     "execution_count": 11,
     "metadata": {},
     "output_type": "execute_result"
    }
   ],
   "source": [
    "uber.tail()"
   ]
  },
  {
   "cell_type": "markdown",
   "metadata": {},
   "source": [
    "**Understand the shape and size of the data**"
   ]
  },
  {
   "cell_type": "code",
   "execution_count": 12,
   "metadata": {},
   "outputs": [
    {
     "name": "stdout",
     "output_type": "stream",
     "text": [
      "(1156, 7)\n",
      "8092\n",
      "# Rows: 1156 # Columns: 7\n"
     ]
    }
   ],
   "source": [
    "print(uber.shape)\n",
    "print (uber.size)\n",
    "print('# Rows: ' + str(uber.shape[0]), '# Columns: ' + str(uber.shape[1]))"
   ]
  },
  {
   "cell_type": "markdown",
   "metadata": {},
   "source": [
    "**Get more information about data**"
   ]
  },
  {
   "cell_type": "code",
   "execution_count": 13,
   "metadata": {},
   "outputs": [
    {
     "name": "stdout",
     "output_type": "stream",
     "text": [
      "<class 'pandas.core.frame.DataFrame'>\n",
      "RangeIndex: 1156 entries, 0 to 1155\n",
      "Data columns (total 7 columns):\n",
      "START_DATE*    1156 non-null object\n",
      "END_DATE*      1155 non-null object\n",
      "CATEGORY*      1155 non-null object\n",
      "START*         1155 non-null object\n",
      "STOP*          1155 non-null object\n",
      "MILES*         1156 non-null float64\n",
      "PURPOSE*       653 non-null object\n",
      "dtypes: float64(1), object(6)\n",
      "memory usage: 63.3+ KB\n"
     ]
    }
   ],
   "source": [
    "uber.info()"
   ]
  },
  {
   "cell_type": "markdown",
   "metadata": {},
   "source": [
    "The information we get from the above .info() method is:\n",
    "\n",
    "- No of rows and columns are there in the dataset\n",
    "- Name of the columns and their data types\n",
    "- How many non-null entries are there in each of the column\n",
    "- How many null values are there in each of the column"
   ]
  },
  {
   "cell_type": "markdown",
   "metadata": {},
   "source": [
    "**See whether and how many values are missing in the dataset**"
   ]
  },
  {
   "cell_type": "code",
   "execution_count": 14,
   "metadata": {},
   "outputs": [
    {
     "name": "stdout",
     "output_type": "stream",
     "text": [
      "True\n",
      "True\n",
      "507\n"
     ]
    }
   ],
   "source": [
    "print(uber.isnull().values.any())\n",
    "print(uber.isna().values.any())\n",
    "print(uber.isnull().values.sum())"
   ]
  },
  {
   "cell_type": "markdown",
   "metadata": {},
   "source": [
    "**Drop NA values in the original dataset**"
   ]
  },
  {
   "cell_type": "code",
   "execution_count": 15,
   "metadata": {},
   "outputs": [
    {
     "name": "stdout",
     "output_type": "stream",
     "text": [
      "<class 'pandas.core.frame.DataFrame'>\n",
      "Int64Index: 653 entries, 0 to 1154\n",
      "Data columns (total 7 columns):\n",
      "START_DATE*    653 non-null object\n",
      "END_DATE*      653 non-null object\n",
      "CATEGORY*      653 non-null object\n",
      "START*         653 non-null object\n",
      "STOP*          653 non-null object\n",
      "MILES*         653 non-null float64\n",
      "PURPOSE*       653 non-null object\n",
      "dtypes: float64(1), object(6)\n",
      "memory usage: 40.8+ KB\n"
     ]
    }
   ],
   "source": [
    "uber.dropna(inplace=True)\n",
    "uber.info()"
   ]
  },
  {
   "cell_type": "markdown",
   "metadata": {},
   "source": [
    "**Summerize the Central Tendency of the dataset**"
   ]
  },
  {
   "cell_type": "code",
   "execution_count": 16,
   "metadata": {},
   "outputs": [
    {
     "data": {
      "text/html": [
       "<div>\n",
       "<style scoped>\n",
       "    .dataframe tbody tr th:only-of-type {\n",
       "        vertical-align: middle;\n",
       "    }\n",
       "\n",
       "    .dataframe tbody tr th {\n",
       "        vertical-align: top;\n",
       "    }\n",
       "\n",
       "    .dataframe thead th {\n",
       "        text-align: right;\n",
       "    }\n",
       "</style>\n",
       "<table border=\"1\" class=\"dataframe\">\n",
       "  <thead>\n",
       "    <tr style=\"text-align: right;\">\n",
       "      <th></th>\n",
       "      <th>count</th>\n",
       "      <th>mean</th>\n",
       "      <th>std</th>\n",
       "      <th>min</th>\n",
       "      <th>25%</th>\n",
       "      <th>50%</th>\n",
       "      <th>75%</th>\n",
       "      <th>max</th>\n",
       "    </tr>\n",
       "  </thead>\n",
       "  <tbody>\n",
       "    <tr>\n",
       "      <th>MILES*</th>\n",
       "      <td>653.0</td>\n",
       "      <td>11.196325</td>\n",
       "      <td>22.986429</td>\n",
       "      <td>0.5</td>\n",
       "      <td>3.2</td>\n",
       "      <td>6.4</td>\n",
       "      <td>10.4</td>\n",
       "      <td>310.3</td>\n",
       "    </tr>\n",
       "  </tbody>\n",
       "</table>\n",
       "</div>"
      ],
      "text/plain": [
       "        count       mean        std  min  25%  50%   75%    max\n",
       "MILES*  653.0  11.196325  22.986429  0.5  3.2  6.4  10.4  310.3"
      ]
     },
     "execution_count": 16,
     "metadata": {},
     "output_type": "execute_result"
    }
   ],
   "source": [
    "uber.describe().T"
   ]
  },
  {
   "cell_type": "markdown",
   "metadata": {},
   "source": [
    "### Part - 2\n",
    "**Explore the data parameter wise - **\n",
    "* Destination - (starting and stopping)\n",
    "* Time - (hour of the day, day of week, month of year)\n",
    "* Categories\n",
    "* Purpose \n",
    "* Grouping two parameters to get more insights.\n"
   ]
  },
  {
   "cell_type": "markdown",
   "metadata": {},
   "source": [
    "**Get the unique START and STOP destinations**"
   ]
  },
  {
   "cell_type": "code",
   "execution_count": 17,
   "metadata": {},
   "outputs": [
    {
     "data": {
      "text/plain": [
       "131"
      ]
     },
     "execution_count": 17,
     "metadata": {},
     "output_type": "execute_result"
    }
   ],
   "source": [
    "uber['START*'].unique() # list\n",
    "uber['START*'].nunique() # count"
   ]
  },
  {
   "cell_type": "code",
   "execution_count": 18,
   "metadata": {},
   "outputs": [
    {
     "data": {
      "text/plain": [
       "137"
      ]
     },
     "execution_count": 18,
     "metadata": {},
     "output_type": "execute_result"
    }
   ],
   "source": [
    "uber['STOP*'].unique()\n",
    "uber['STOP*'].nunique()"
   ]
  },
  {
   "cell_type": "markdown",
   "metadata": {},
   "source": [
    "**Find the trips count for top 5 start destinations**"
   ]
  },
  {
   "cell_type": "code",
   "execution_count": 19,
   "metadata": {
    "scrolled": true
   },
   "outputs": [
    {
     "data": {
      "text/html": [
       "<div>\n",
       "<style scoped>\n",
       "    .dataframe tbody tr th:only-of-type {\n",
       "        vertical-align: middle;\n",
       "    }\n",
       "\n",
       "    .dataframe tbody tr th {\n",
       "        vertical-align: top;\n",
       "    }\n",
       "\n",
       "    .dataframe thead th {\n",
       "        text-align: right;\n",
       "    }\n",
       "</style>\n",
       "<table border=\"1\" class=\"dataframe\">\n",
       "  <thead>\n",
       "    <tr style=\"text-align: right;\">\n",
       "      <th></th>\n",
       "      <th>Trips</th>\n",
       "    </tr>\n",
       "  </thead>\n",
       "  <tbody>\n",
       "    <tr>\n",
       "      <th>Cary</th>\n",
       "      <td>161</td>\n",
       "    </tr>\n",
       "    <tr>\n",
       "      <th>Unknown Location</th>\n",
       "      <td>55</td>\n",
       "    </tr>\n",
       "    <tr>\n",
       "      <th>Morrisville</th>\n",
       "      <td>54</td>\n",
       "    </tr>\n",
       "    <tr>\n",
       "      <th>Whitebridge</th>\n",
       "      <td>36</td>\n",
       "    </tr>\n",
       "    <tr>\n",
       "      <th>Durham</th>\n",
       "      <td>30</td>\n",
       "    </tr>\n",
       "  </tbody>\n",
       "</table>\n",
       "</div>"
      ],
      "text/plain": [
       "                  Trips\n",
       "Cary                161\n",
       "Unknown Location     55\n",
       "Morrisville          54\n",
       "Whitebridge          36\n",
       "Durham               30"
      ]
     },
     "execution_count": 19,
     "metadata": {},
     "output_type": "execute_result"
    }
   ],
   "source": [
    "location_end = []\n",
    "unique_stop = uber['STOP*'].unique()\n",
    "for i in unique_stop:\n",
    "    temp = uber[uber['START*'] == i]\n",
    "    location_end.append(len(temp))\n",
    "\n",
    "df2 = pd.DataFrame(location_end, index = unique_stop, columns = pd.Index(['Trips']))\n",
    "\n",
    "df2.sort_values(['Trips'], ascending=False, inplace=True)\n",
    "df2.head(5)"
   ]
  },
  {
   "cell_type": "code",
   "execution_count": 20,
   "metadata": {},
   "outputs": [
    {
     "data": {
      "text/plain": [
       "Cary                161\n",
       "Unknown Location     55\n",
       "Morrisville          54\n",
       "Whitebridge          36\n",
       "Durham               30\n",
       "Name: START*, dtype: int64"
      ]
     },
     "execution_count": 20,
     "metadata": {},
     "output_type": "execute_result"
    }
   ],
   "source": [
    "# Pandas way\n",
    "uber['START*'].value_counts().head(5)"
   ]
  },
  {
   "cell_type": "code",
   "execution_count": 21,
   "metadata": {},
   "outputs": [
    {
     "data": {
      "text/html": [
       "<div>\n",
       "<style scoped>\n",
       "    .dataframe tbody tr th:only-of-type {\n",
       "        vertical-align: middle;\n",
       "    }\n",
       "\n",
       "    .dataframe tbody tr th {\n",
       "        vertical-align: top;\n",
       "    }\n",
       "\n",
       "    .dataframe thead th {\n",
       "        text-align: right;\n",
       "    }\n",
       "</style>\n",
       "<table border=\"1\" class=\"dataframe\">\n",
       "  <thead>\n",
       "    <tr style=\"text-align: right;\">\n",
       "      <th></th>\n",
       "      <th>Trips</th>\n",
       "    </tr>\n",
       "  </thead>\n",
       "  <tbody>\n",
       "    <tr>\n",
       "      <th>Cary</th>\n",
       "      <td>155</td>\n",
       "    </tr>\n",
       "    <tr>\n",
       "      <th>Morrisville</th>\n",
       "      <td>60</td>\n",
       "    </tr>\n",
       "    <tr>\n",
       "      <th>Unknown Location</th>\n",
       "      <td>56</td>\n",
       "    </tr>\n",
       "    <tr>\n",
       "      <th>Whitebridge</th>\n",
       "      <td>37</td>\n",
       "    </tr>\n",
       "    <tr>\n",
       "      <th>Durham</th>\n",
       "      <td>30</td>\n",
       "    </tr>\n",
       "  </tbody>\n",
       "</table>\n",
       "</div>"
      ],
      "text/plain": [
       "                  Trips\n",
       "Cary                155\n",
       "Morrisville          60\n",
       "Unknown Location     56\n",
       "Whitebridge          37\n",
       "Durham               30"
      ]
     },
     "execution_count": 21,
     "metadata": {},
     "output_type": "execute_result"
    }
   ],
   "source": [
    "# In the similar way, trying to look at the trips count for stop destinations\n",
    "\n",
    "location_end = []\n",
    "for i in unique_stop:\n",
    "    temp = uber[uber['STOP*'] == i]\n",
    "    location_end.append(len(temp))\n",
    "\n",
    "df3 = pd.DataFrame(location_end, index = unique_stop, columns = pd.Index(['Trips']))\n",
    "\n",
    "df3.sort_values(['Trips'], ascending=False, inplace=True)\n",
    "df3.head(5)\n",
    "\n",
    "#We can say the Cary is most popular dropping point also for this driver."
   ]
  },
  {
   "cell_type": "code",
   "execution_count": 22,
   "metadata": {},
   "outputs": [
    {
     "data": {
      "text/plain": [
       "Cary                155\n",
       "Morrisville          60\n",
       "Unknown Location     56\n",
       "Whitebridge          37\n",
       "Durham               30\n",
       "Name: STOP*, dtype: int64"
      ]
     },
     "execution_count": 22,
     "metadata": {},
     "output_type": "execute_result"
    }
   ],
   "source": [
    "# Pandas way\n",
    "uber['STOP*'].value_counts().head(5)"
   ]
  },
  {
   "cell_type": "code",
   "execution_count": 23,
   "metadata": {},
   "outputs": [
    {
     "data": {
      "text/html": [
       "<div>\n",
       "<style scoped>\n",
       "    .dataframe tbody tr th:only-of-type {\n",
       "        vertical-align: middle;\n",
       "    }\n",
       "\n",
       "    .dataframe tbody tr th {\n",
       "        vertical-align: top;\n",
       "    }\n",
       "\n",
       "    .dataframe thead th {\n",
       "        text-align: right;\n",
       "    }\n",
       "</style>\n",
       "<table border=\"1\" class=\"dataframe\">\n",
       "  <thead>\n",
       "    <tr style=\"text-align: right;\">\n",
       "      <th></th>\n",
       "      <th>START_DATE*</th>\n",
       "      <th>END_DATE*</th>\n",
       "      <th>CATEGORY*</th>\n",
       "      <th>START*</th>\n",
       "      <th>STOP*</th>\n",
       "      <th>MILES*</th>\n",
       "      <th>PURPOSE*</th>\n",
       "    </tr>\n",
       "  </thead>\n",
       "  <tbody>\n",
       "    <tr>\n",
       "      <th>0</th>\n",
       "      <td>1/1/2016 21:11</td>\n",
       "      <td>1/1/2016 21:17</td>\n",
       "      <td>Business</td>\n",
       "      <td>Fort Pierce</td>\n",
       "      <td>Fort Pierce</td>\n",
       "      <td>5.1</td>\n",
       "      <td>Meal/Entertain</td>\n",
       "    </tr>\n",
       "    <tr>\n",
       "      <th>2</th>\n",
       "      <td>1/2/2016 20:25</td>\n",
       "      <td>1/2/2016 20:38</td>\n",
       "      <td>Business</td>\n",
       "      <td>Fort Pierce</td>\n",
       "      <td>Fort Pierce</td>\n",
       "      <td>4.8</td>\n",
       "      <td>Errand/Supplies</td>\n",
       "    </tr>\n",
       "    <tr>\n",
       "      <th>3</th>\n",
       "      <td>1/5/2016 17:31</td>\n",
       "      <td>1/5/2016 17:45</td>\n",
       "      <td>Business</td>\n",
       "      <td>Fort Pierce</td>\n",
       "      <td>Fort Pierce</td>\n",
       "      <td>4.7</td>\n",
       "      <td>Meeting</td>\n",
       "    </tr>\n",
       "    <tr>\n",
       "      <th>4</th>\n",
       "      <td>1/6/2016 14:42</td>\n",
       "      <td>1/6/2016 15:49</td>\n",
       "      <td>Business</td>\n",
       "      <td>Fort Pierce</td>\n",
       "      <td>West Palm Beach</td>\n",
       "      <td>63.7</td>\n",
       "      <td>Customer Visit</td>\n",
       "    </tr>\n",
       "    <tr>\n",
       "      <th>5</th>\n",
       "      <td>1/6/2016 17:15</td>\n",
       "      <td>1/6/2016 17:19</td>\n",
       "      <td>Business</td>\n",
       "      <td>West Palm Beach</td>\n",
       "      <td>West Palm Beach</td>\n",
       "      <td>4.3</td>\n",
       "      <td>Meal/Entertain</td>\n",
       "    </tr>\n",
       "  </tbody>\n",
       "</table>\n",
       "</div>"
      ],
      "text/plain": [
       "      START_DATE*       END_DATE* CATEGORY*           START*            STOP*  \\\n",
       "0  1/1/2016 21:11  1/1/2016 21:17  Business      Fort Pierce      Fort Pierce   \n",
       "2  1/2/2016 20:25  1/2/2016 20:38  Business      Fort Pierce      Fort Pierce   \n",
       "3  1/5/2016 17:31  1/5/2016 17:45  Business      Fort Pierce      Fort Pierce   \n",
       "4  1/6/2016 14:42  1/6/2016 15:49  Business      Fort Pierce  West Palm Beach   \n",
       "5  1/6/2016 17:15  1/6/2016 17:19  Business  West Palm Beach  West Palm Beach   \n",
       "\n",
       "   MILES*         PURPOSE*  \n",
       "0     5.1   Meal/Entertain  \n",
       "2     4.8  Errand/Supplies  \n",
       "3     4.7          Meeting  \n",
       "4    63.7   Customer Visit  \n",
       "5     4.3   Meal/Entertain  "
      ]
     },
     "execution_count": 23,
     "metadata": {},
     "output_type": "execute_result"
    }
   ],
   "source": [
    "uber.head()"
   ]
  },
  {
   "cell_type": "code",
   "execution_count": 24,
   "metadata": {},
   "outputs": [
    {
     "data": {
      "text/plain": [
       "(653, 7)"
      ]
     },
     "execution_count": 24,
     "metadata": {},
     "output_type": "execute_result"
    }
   ],
   "source": [
    "uber.shape"
   ]
  },
  {
   "cell_type": "code",
   "execution_count": 45,
   "metadata": {},
   "outputs": [
    {
     "data": {
      "text/plain": [
       "START*       STOP*      \n",
       "Cary         Morrisville    52\n",
       "Morrisville  Cary           51\n",
       "Cary         Cary           44\n",
       "             Durham         30\n",
       "Durham       Cary           29\n",
       "dtype: int64"
      ]
     },
     "execution_count": 45,
     "metadata": {},
     "output_type": "execute_result"
    }
   ],
   "source": [
    "#Trying to find out most farthest start and stop pair.\n",
    "#Dropping Unknown Location Value\n",
    "df = uber[(uber['START*'] != 'Unknown Location') & (uber['STOP*'] != 'Unknown Location')]\n",
    "\n",
    "df.groupby(['START*','STOP*']).size().sort_values(ascending=False).head(5)\n",
    "#We can say that Morrisville and Cary are farthest."
   ]
  },
  {
   "cell_type": "code",
   "execution_count": 38,
   "metadata": {},
   "outputs": [
    {
     "data": {
      "text/plain": [
       "START*   STOP*       \n",
       "Cary     Durham          312.3\n",
       "Latta    Jacksonville    310.3\n",
       "Durham   Cary            298.4\n",
       "Cary     Morrisville     293.7\n",
       "Raleigh  Cary            269.5\n",
       "Name: MILES*, dtype: float64"
      ]
     },
     "execution_count": 38,
     "metadata": {},
     "output_type": "execute_result"
    }
   ],
   "source": [
    "#Trying to find out most popular start and stop pair.\n",
    "df.groupby(['START*','STOP*'])['MILES*'].sum().sort_values(ascending=False).head(5)\n",
    "\n",
    "#We can say that in the known locations Morrisville to Cary are most pupular."
   ]
  },
  {
   "cell_type": "code",
   "execution_count": 46,
   "metadata": {},
   "outputs": [
    {
     "name": "stdout",
     "output_type": "stream",
     "text": [
      "<class 'pandas.core.frame.DataFrame'>\n",
      "Int64Index: 572 entries, 0 to 1154\n",
      "Data columns (total 7 columns):\n",
      "START_DATE*    572 non-null datetime64[ns]\n",
      "END_DATE*      572 non-null datetime64[ns]\n",
      "CATEGORY*      572 non-null object\n",
      "START*         572 non-null object\n",
      "STOP*          572 non-null object\n",
      "MILES*         572 non-null float64\n",
      "PURPOSE*       572 non-null object\n",
      "dtypes: datetime64[ns](2), float64(1), object(4)\n",
      "memory usage: 35.8+ KB\n"
     ]
    },
    {
     "name": "stderr",
     "output_type": "stream",
     "text": [
      "D:\\Installation\\Anaconda3\\lib\\site-packages\\pandas\\core\\indexing.py:543: SettingWithCopyWarning: \n",
      "A value is trying to be set on a copy of a slice from a DataFrame.\n",
      "Try using .loc[row_indexer,col_indexer] = value instead\n",
      "\n",
      "See the caveats in the documentation: http://pandas.pydata.org/pandas-docs/stable/indexing.html#indexing-view-versus-copy\n",
      "  self.obj[item] = s\n"
     ]
    }
   ],
   "source": [
    "#2. Time \n",
    "\n",
    "# START DATE and END_DATE have string format. Convert it to datetime object\n",
    "\n",
    "df.loc[:, 'START_DATE*'] = df['START_DATE*'].apply(lambda x: pd.datetime.strptime(x, '%m/%d/%Y %H:%M'))\n",
    "df.loc[:, 'END_DATE*'] = df['END_DATE*'].apply(lambda x: pd.datetime.strptime(x, '%m/%d/%Y %H:%M'))\n",
    "df.info()"
   ]
  },
  {
   "cell_type": "code",
   "execution_count": 52,
   "metadata": {},
   "outputs": [
    {
     "name": "stderr",
     "output_type": "stream",
     "text": [
      "D:\\Installation\\Anaconda3\\lib\\site-packages\\ipykernel_launcher.py:3: SettingWithCopyWarning: \n",
      "A value is trying to be set on a copy of a slice from a DataFrame.\n",
      "Try using .loc[row_indexer,col_indexer] = value instead\n",
      "\n",
      "See the caveats in the documentation: http://pandas.pydata.org/pandas-docs/stable/indexing.html#indexing-view-versus-copy\n",
      "  This is separate from the ipykernel package so we can avoid doing imports until\n"
     ]
    }
   ],
   "source": [
    "#Calculate the time for the rides and convert it to numbers(minutes)\n",
    "diff = df['END_DATE*'] - df['START_DATE*']\n",
    "df['DIFF'] = diff\n",
    "# df.loc[:, 'DIFF'] = df['DIFF'].apply(lambda x: pd.Timedelta.to_pytimedelta(x).days/(24*60) + pd.Timedelta.to_pytimedelta(x).seconds/60)"
   ]
  },
  {
   "cell_type": "code",
   "execution_count": 41,
   "metadata": {},
   "outputs": [
    {
     "data": {
      "text/html": [
       "<div>\n",
       "<style scoped>\n",
       "    .dataframe tbody tr th:only-of-type {\n",
       "        vertical-align: middle;\n",
       "    }\n",
       "\n",
       "    .dataframe tbody tr th {\n",
       "        vertical-align: top;\n",
       "    }\n",
       "\n",
       "    .dataframe thead th {\n",
       "        text-align: right;\n",
       "    }\n",
       "</style>\n",
       "<table border=\"1\" class=\"dataframe\">\n",
       "  <thead>\n",
       "    <tr style=\"text-align: right;\">\n",
       "      <th></th>\n",
       "      <th>START_DATE*</th>\n",
       "      <th>END_DATE*</th>\n",
       "      <th>CATEGORY*</th>\n",
       "      <th>START*</th>\n",
       "      <th>STOP*</th>\n",
       "      <th>MILES*</th>\n",
       "      <th>PURPOSE*</th>\n",
       "      <th>DIFF</th>\n",
       "    </tr>\n",
       "  </thead>\n",
       "  <tbody>\n",
       "    <tr>\n",
       "      <th>0</th>\n",
       "      <td>2016-01-01 21:11:00</td>\n",
       "      <td>2016-01-01 21:17:00</td>\n",
       "      <td>Business</td>\n",
       "      <td>Fort Pierce</td>\n",
       "      <td>Fort Pierce</td>\n",
       "      <td>5.1</td>\n",
       "      <td>Meal/Entertain</td>\n",
       "      <td>00:06:00</td>\n",
       "    </tr>\n",
       "    <tr>\n",
       "      <th>2</th>\n",
       "      <td>2016-01-02 20:25:00</td>\n",
       "      <td>2016-01-02 20:38:00</td>\n",
       "      <td>Business</td>\n",
       "      <td>Fort Pierce</td>\n",
       "      <td>Fort Pierce</td>\n",
       "      <td>4.8</td>\n",
       "      <td>Errand/Supplies</td>\n",
       "      <td>00:13:00</td>\n",
       "    </tr>\n",
       "    <tr>\n",
       "      <th>3</th>\n",
       "      <td>2016-01-05 17:31:00</td>\n",
       "      <td>2016-01-05 17:45:00</td>\n",
       "      <td>Business</td>\n",
       "      <td>Fort Pierce</td>\n",
       "      <td>Fort Pierce</td>\n",
       "      <td>4.7</td>\n",
       "      <td>Meeting</td>\n",
       "      <td>00:14:00</td>\n",
       "    </tr>\n",
       "    <tr>\n",
       "      <th>4</th>\n",
       "      <td>2016-01-06 14:42:00</td>\n",
       "      <td>2016-01-06 15:49:00</td>\n",
       "      <td>Business</td>\n",
       "      <td>Fort Pierce</td>\n",
       "      <td>West Palm Beach</td>\n",
       "      <td>63.7</td>\n",
       "      <td>Customer Visit</td>\n",
       "      <td>01:07:00</td>\n",
       "    </tr>\n",
       "    <tr>\n",
       "      <th>5</th>\n",
       "      <td>2016-01-06 17:15:00</td>\n",
       "      <td>2016-01-06 17:19:00</td>\n",
       "      <td>Business</td>\n",
       "      <td>West Palm Beach</td>\n",
       "      <td>West Palm Beach</td>\n",
       "      <td>4.3</td>\n",
       "      <td>Meal/Entertain</td>\n",
       "      <td>00:04:00</td>\n",
       "    </tr>\n",
       "  </tbody>\n",
       "</table>\n",
       "</div>"
      ],
      "text/plain": [
       "          START_DATE*           END_DATE* CATEGORY*           START*  \\\n",
       "0 2016-01-01 21:11:00 2016-01-01 21:17:00  Business      Fort Pierce   \n",
       "2 2016-01-02 20:25:00 2016-01-02 20:38:00  Business      Fort Pierce   \n",
       "3 2016-01-05 17:31:00 2016-01-05 17:45:00  Business      Fort Pierce   \n",
       "4 2016-01-06 14:42:00 2016-01-06 15:49:00  Business      Fort Pierce   \n",
       "5 2016-01-06 17:15:00 2016-01-06 17:19:00  Business  West Palm Beach   \n",
       "\n",
       "             STOP*  MILES*         PURPOSE*     DIFF  \n",
       "0      Fort Pierce     5.1   Meal/Entertain 00:06:00  \n",
       "2      Fort Pierce     4.8  Errand/Supplies 00:13:00  \n",
       "3      Fort Pierce     4.7          Meeting 00:14:00  \n",
       "4  West Palm Beach    63.7   Customer Visit 01:07:00  \n",
       "5  West Palm Beach     4.3   Meal/Entertain 00:04:00  "
      ]
     },
     "execution_count": 41,
     "metadata": {},
     "output_type": "execute_result"
    }
   ],
   "source": [
    "df.head()"
   ]
  },
  {
   "cell_type": "code",
   "execution_count": 42,
   "metadata": {},
   "outputs": [],
   "source": [
    "\n",
    "pd.Timedelta.to_pytimedelta\n",
    "df.loc[:, 'DIFF'] = df['DIFF'].apply(lambda x: pd.Timedelta.to_pytimedelta(x).days/(24*60) + pd.Timedelta.to_pytimedelta(x).seconds/60)"
   ]
  },
  {
   "cell_type": "code",
   "execution_count": 43,
   "metadata": {
    "scrolled": true
   },
   "outputs": [
    {
     "data": {
      "text/html": [
       "<div>\n",
       "<style scoped>\n",
       "    .dataframe tbody tr th:only-of-type {\n",
       "        vertical-align: middle;\n",
       "    }\n",
       "\n",
       "    .dataframe tbody tr th {\n",
       "        vertical-align: top;\n",
       "    }\n",
       "\n",
       "    .dataframe thead th {\n",
       "        text-align: right;\n",
       "    }\n",
       "</style>\n",
       "<table border=\"1\" class=\"dataframe\">\n",
       "  <thead>\n",
       "    <tr style=\"text-align: right;\">\n",
       "      <th></th>\n",
       "      <th>START_DATE*</th>\n",
       "      <th>END_DATE*</th>\n",
       "      <th>CATEGORY*</th>\n",
       "      <th>START*</th>\n",
       "      <th>STOP*</th>\n",
       "      <th>MILES*</th>\n",
       "      <th>PURPOSE*</th>\n",
       "      <th>DIFF</th>\n",
       "    </tr>\n",
       "  </thead>\n",
       "  <tbody>\n",
       "    <tr>\n",
       "      <th>0</th>\n",
       "      <td>2016-01-01 21:11:00</td>\n",
       "      <td>2016-01-01 21:17:00</td>\n",
       "      <td>Business</td>\n",
       "      <td>Fort Pierce</td>\n",
       "      <td>Fort Pierce</td>\n",
       "      <td>5.1</td>\n",
       "      <td>Meal/Entertain</td>\n",
       "      <td>6.0</td>\n",
       "    </tr>\n",
       "    <tr>\n",
       "      <th>2</th>\n",
       "      <td>2016-01-02 20:25:00</td>\n",
       "      <td>2016-01-02 20:38:00</td>\n",
       "      <td>Business</td>\n",
       "      <td>Fort Pierce</td>\n",
       "      <td>Fort Pierce</td>\n",
       "      <td>4.8</td>\n",
       "      <td>Errand/Supplies</td>\n",
       "      <td>13.0</td>\n",
       "    </tr>\n",
       "    <tr>\n",
       "      <th>3</th>\n",
       "      <td>2016-01-05 17:31:00</td>\n",
       "      <td>2016-01-05 17:45:00</td>\n",
       "      <td>Business</td>\n",
       "      <td>Fort Pierce</td>\n",
       "      <td>Fort Pierce</td>\n",
       "      <td>4.7</td>\n",
       "      <td>Meeting</td>\n",
       "      <td>14.0</td>\n",
       "    </tr>\n",
       "    <tr>\n",
       "      <th>4</th>\n",
       "      <td>2016-01-06 14:42:00</td>\n",
       "      <td>2016-01-06 15:49:00</td>\n",
       "      <td>Business</td>\n",
       "      <td>Fort Pierce</td>\n",
       "      <td>West Palm Beach</td>\n",
       "      <td>63.7</td>\n",
       "      <td>Customer Visit</td>\n",
       "      <td>67.0</td>\n",
       "    </tr>\n",
       "    <tr>\n",
       "      <th>5</th>\n",
       "      <td>2016-01-06 17:15:00</td>\n",
       "      <td>2016-01-06 17:19:00</td>\n",
       "      <td>Business</td>\n",
       "      <td>West Palm Beach</td>\n",
       "      <td>West Palm Beach</td>\n",
       "      <td>4.3</td>\n",
       "      <td>Meal/Entertain</td>\n",
       "      <td>4.0</td>\n",
       "    </tr>\n",
       "  </tbody>\n",
       "</table>\n",
       "</div>"
      ],
      "text/plain": [
       "          START_DATE*           END_DATE* CATEGORY*           START*  \\\n",
       "0 2016-01-01 21:11:00 2016-01-01 21:17:00  Business      Fort Pierce   \n",
       "2 2016-01-02 20:25:00 2016-01-02 20:38:00  Business      Fort Pierce   \n",
       "3 2016-01-05 17:31:00 2016-01-05 17:45:00  Business      Fort Pierce   \n",
       "4 2016-01-06 14:42:00 2016-01-06 15:49:00  Business      Fort Pierce   \n",
       "5 2016-01-06 17:15:00 2016-01-06 17:19:00  Business  West Palm Beach   \n",
       "\n",
       "             STOP*  MILES*         PURPOSE*  DIFF  \n",
       "0      Fort Pierce     5.1   Meal/Entertain   6.0  \n",
       "2      Fort Pierce     4.8  Errand/Supplies  13.0  \n",
       "3      Fort Pierce     4.7          Meeting  14.0  \n",
       "4  West Palm Beach    63.7   Customer Visit  67.0  \n",
       "5  West Palm Beach     4.3   Meal/Entertain   4.0  "
      ]
     },
     "execution_count": 43,
     "metadata": {},
     "output_type": "execute_result"
    }
   ],
   "source": [
    "df.head()"
   ]
  },
  {
   "cell_type": "code",
   "execution_count": 44,
   "metadata": {},
   "outputs": [],
   "source": [
    "#pd.to_datetime(start_date).month # Get the Day/Month/Year from the Series\n",
    "#pd.to_datetime(uber_drives['START_DATE*']).dt.month # Get the Day/Month/Year from the DataFrame\n",
    "\n",
    "Jan = uber_drives[pd.to_datetime(uber_drives['START_DATE*']).dt.month == 1]\n",
    "Feb = uber_drives[pd.to_datetime(uber_drives['START_DATE*']).dt.month == 2]\n",
    "Mar = uber_drives[pd.to_datetime(uber_drives['START_DATE*']).dt.month == 3]\n",
    "Apr = uber_drives[pd.to_datetime(uber_drives['START_DATE*']).dt.month == 4]\n",
    "May = uber_drives[pd.to_datetime(uber_drives['START_DATE*']).dt.month == 5]\n",
    "Jun = uber_drives[pd.to_datetime(uber_drives['START_DATE*']).dt.month == 6]\n",
    "Jul = uber_drives[pd.to_datetime(uber_drives['START_DATE*']).dt.month == 7]\n",
    "Aug = uber_drives[pd.to_datetime(uber_drives['START_DATE*']).dt.month == 8]\n",
    "Sep = uber_drives[pd.to_datetime(uber_drives['START_DATE*']).dt.month == 9]\n",
    "Oct = uber_drives[pd.to_datetime(uber_drives['START_DATE*']).dt.month == 10]\n",
    "Nov = uber_drives[pd.to_datetime(uber_drives['START_DATE*']).dt.month == 11]\n",
    "Dec = uber_drives[pd.to_datetime(uber_drives['START_DATE*']).dt.month == 12]"
   ]
  },
  {
   "cell_type": "code",
   "execution_count": 45,
   "metadata": {},
   "outputs": [
    {
     "data": {
      "text/html": [
       "<div>\n",
       "<style scoped>\n",
       "    .dataframe tbody tr th:only-of-type {\n",
       "        vertical-align: middle;\n",
       "    }\n",
       "\n",
       "    .dataframe tbody tr th {\n",
       "        vertical-align: top;\n",
       "    }\n",
       "\n",
       "    .dataframe thead th {\n",
       "        text-align: right;\n",
       "    }\n",
       "</style>\n",
       "<table border=\"1\" class=\"dataframe\">\n",
       "  <thead>\n",
       "    <tr style=\"text-align: right;\">\n",
       "      <th></th>\n",
       "      <th>START_DATE*</th>\n",
       "      <th>END_DATE*</th>\n",
       "      <th>CATEGORY*</th>\n",
       "      <th>START*</th>\n",
       "      <th>STOP*</th>\n",
       "      <th>MILES*</th>\n",
       "      <th>PURPOSE*</th>\n",
       "      <th>DIFF</th>\n",
       "    </tr>\n",
       "  </thead>\n",
       "  <tbody>\n",
       "    <tr>\n",
       "      <th>0</th>\n",
       "      <td>2016-01-01 21:11:00</td>\n",
       "      <td>2016-01-01 21:17:00</td>\n",
       "      <td>Business</td>\n",
       "      <td>Fort Pierce</td>\n",
       "      <td>Fort Pierce</td>\n",
       "      <td>5.1</td>\n",
       "      <td>Meal/Entertain</td>\n",
       "      <td>6.0</td>\n",
       "    </tr>\n",
       "    <tr>\n",
       "      <th>2</th>\n",
       "      <td>2016-01-02 20:25:00</td>\n",
       "      <td>2016-01-02 20:38:00</td>\n",
       "      <td>Business</td>\n",
       "      <td>Fort Pierce</td>\n",
       "      <td>Fort Pierce</td>\n",
       "      <td>4.8</td>\n",
       "      <td>Errand/Supplies</td>\n",
       "      <td>13.0</td>\n",
       "    </tr>\n",
       "    <tr>\n",
       "      <th>3</th>\n",
       "      <td>2016-01-05 17:31:00</td>\n",
       "      <td>2016-01-05 17:45:00</td>\n",
       "      <td>Business</td>\n",
       "      <td>Fort Pierce</td>\n",
       "      <td>Fort Pierce</td>\n",
       "      <td>4.7</td>\n",
       "      <td>Meeting</td>\n",
       "      <td>14.0</td>\n",
       "    </tr>\n",
       "    <tr>\n",
       "      <th>4</th>\n",
       "      <td>2016-01-06 14:42:00</td>\n",
       "      <td>2016-01-06 15:49:00</td>\n",
       "      <td>Business</td>\n",
       "      <td>Fort Pierce</td>\n",
       "      <td>West Palm Beach</td>\n",
       "      <td>63.7</td>\n",
       "      <td>Customer Visit</td>\n",
       "      <td>67.0</td>\n",
       "    </tr>\n",
       "    <tr>\n",
       "      <th>5</th>\n",
       "      <td>2016-01-06 17:15:00</td>\n",
       "      <td>2016-01-06 17:19:00</td>\n",
       "      <td>Business</td>\n",
       "      <td>West Palm Beach</td>\n",
       "      <td>West Palm Beach</td>\n",
       "      <td>4.3</td>\n",
       "      <td>Meal/Entertain</td>\n",
       "      <td>4.0</td>\n",
       "    </tr>\n",
       "    <tr>\n",
       "      <th>6</th>\n",
       "      <td>2016-01-06 17:30:00</td>\n",
       "      <td>2016-01-06 17:35:00</td>\n",
       "      <td>Business</td>\n",
       "      <td>West Palm Beach</td>\n",
       "      <td>Palm Beach</td>\n",
       "      <td>7.1</td>\n",
       "      <td>Meeting</td>\n",
       "      <td>5.0</td>\n",
       "    </tr>\n",
       "    <tr>\n",
       "      <th>7</th>\n",
       "      <td>2016-01-07 13:27:00</td>\n",
       "      <td>2016-01-07 13:33:00</td>\n",
       "      <td>Business</td>\n",
       "      <td>Cary</td>\n",
       "      <td>Cary</td>\n",
       "      <td>0.8</td>\n",
       "      <td>Meeting</td>\n",
       "      <td>6.0</td>\n",
       "    </tr>\n",
       "    <tr>\n",
       "      <th>8</th>\n",
       "      <td>2016-01-10 08:05:00</td>\n",
       "      <td>2016-01-10 08:25:00</td>\n",
       "      <td>Business</td>\n",
       "      <td>Cary</td>\n",
       "      <td>Morrisville</td>\n",
       "      <td>8.3</td>\n",
       "      <td>Meeting</td>\n",
       "      <td>20.0</td>\n",
       "    </tr>\n",
       "    <tr>\n",
       "      <th>9</th>\n",
       "      <td>2016-01-10 12:17:00</td>\n",
       "      <td>2016-01-10 12:44:00</td>\n",
       "      <td>Business</td>\n",
       "      <td>Jamaica</td>\n",
       "      <td>New York</td>\n",
       "      <td>16.5</td>\n",
       "      <td>Customer Visit</td>\n",
       "      <td>27.0</td>\n",
       "    </tr>\n",
       "    <tr>\n",
       "      <th>10</th>\n",
       "      <td>2016-01-10 15:08:00</td>\n",
       "      <td>2016-01-10 15:51:00</td>\n",
       "      <td>Business</td>\n",
       "      <td>New York</td>\n",
       "      <td>Queens</td>\n",
       "      <td>10.8</td>\n",
       "      <td>Meeting</td>\n",
       "      <td>43.0</td>\n",
       "    </tr>\n",
       "    <tr>\n",
       "      <th>11</th>\n",
       "      <td>2016-01-10 18:18:00</td>\n",
       "      <td>2016-01-10 18:53:00</td>\n",
       "      <td>Business</td>\n",
       "      <td>Elmhurst</td>\n",
       "      <td>New York</td>\n",
       "      <td>7.5</td>\n",
       "      <td>Meeting</td>\n",
       "      <td>35.0</td>\n",
       "    </tr>\n",
       "    <tr>\n",
       "      <th>12</th>\n",
       "      <td>2016-01-10 19:12:00</td>\n",
       "      <td>2016-01-10 19:32:00</td>\n",
       "      <td>Business</td>\n",
       "      <td>Midtown</td>\n",
       "      <td>East Harlem</td>\n",
       "      <td>6.2</td>\n",
       "      <td>Meeting</td>\n",
       "      <td>20.0</td>\n",
       "    </tr>\n",
       "    <tr>\n",
       "      <th>13</th>\n",
       "      <td>2016-01-11 08:55:00</td>\n",
       "      <td>2016-01-11 09:21:00</td>\n",
       "      <td>Business</td>\n",
       "      <td>East Harlem</td>\n",
       "      <td>NoMad</td>\n",
       "      <td>6.4</td>\n",
       "      <td>Temporary Site</td>\n",
       "      <td>26.0</td>\n",
       "    </tr>\n",
       "    <tr>\n",
       "      <th>14</th>\n",
       "      <td>2016-01-11 11:56:00</td>\n",
       "      <td>2016-01-11 12:03:00</td>\n",
       "      <td>Business</td>\n",
       "      <td>Flatiron District</td>\n",
       "      <td>Midtown</td>\n",
       "      <td>1.6</td>\n",
       "      <td>Errand/Supplies</td>\n",
       "      <td>7.0</td>\n",
       "    </tr>\n",
       "    <tr>\n",
       "      <th>15</th>\n",
       "      <td>2016-01-11 13:32:00</td>\n",
       "      <td>2016-01-11 13:46:00</td>\n",
       "      <td>Business</td>\n",
       "      <td>Midtown</td>\n",
       "      <td>Midtown East</td>\n",
       "      <td>1.7</td>\n",
       "      <td>Meal/Entertain</td>\n",
       "      <td>14.0</td>\n",
       "    </tr>\n",
       "    <tr>\n",
       "      <th>16</th>\n",
       "      <td>2016-01-11 14:30:00</td>\n",
       "      <td>2016-01-11 14:43:00</td>\n",
       "      <td>Business</td>\n",
       "      <td>Midtown East</td>\n",
       "      <td>Midtown</td>\n",
       "      <td>1.9</td>\n",
       "      <td>Meal/Entertain</td>\n",
       "      <td>13.0</td>\n",
       "    </tr>\n",
       "    <tr>\n",
       "      <th>17</th>\n",
       "      <td>2016-01-12 12:33:00</td>\n",
       "      <td>2016-01-12 12:49:00</td>\n",
       "      <td>Business</td>\n",
       "      <td>Midtown</td>\n",
       "      <td>Hudson Square</td>\n",
       "      <td>1.9</td>\n",
       "      <td>Meal/Entertain</td>\n",
       "      <td>16.0</td>\n",
       "    </tr>\n",
       "    <tr>\n",
       "      <th>18</th>\n",
       "      <td>2016-01-12 12:53:00</td>\n",
       "      <td>2016-01-12 13:09:00</td>\n",
       "      <td>Business</td>\n",
       "      <td>Hudson Square</td>\n",
       "      <td>Lower Manhattan</td>\n",
       "      <td>4.0</td>\n",
       "      <td>Meal/Entertain</td>\n",
       "      <td>16.0</td>\n",
       "    </tr>\n",
       "    <tr>\n",
       "      <th>19</th>\n",
       "      <td>2016-01-12 14:42:00</td>\n",
       "      <td>2016-01-12 14:56:00</td>\n",
       "      <td>Business</td>\n",
       "      <td>Lower Manhattan</td>\n",
       "      <td>Hudson Square</td>\n",
       "      <td>1.8</td>\n",
       "      <td>Errand/Supplies</td>\n",
       "      <td>14.0</td>\n",
       "    </tr>\n",
       "    <tr>\n",
       "      <th>20</th>\n",
       "      <td>2016-01-12 15:13:00</td>\n",
       "      <td>2016-01-12 15:28:00</td>\n",
       "      <td>Business</td>\n",
       "      <td>Hudson Square</td>\n",
       "      <td>Hell's Kitchen</td>\n",
       "      <td>2.4</td>\n",
       "      <td>Customer Visit</td>\n",
       "      <td>15.0</td>\n",
       "    </tr>\n",
       "    <tr>\n",
       "      <th>21</th>\n",
       "      <td>2016-01-12 15:42:00</td>\n",
       "      <td>2016-01-12 15:54:00</td>\n",
       "      <td>Business</td>\n",
       "      <td>Hell's Kitchen</td>\n",
       "      <td>Midtown</td>\n",
       "      <td>2.0</td>\n",
       "      <td>Errand/Supplies</td>\n",
       "      <td>12.0</td>\n",
       "    </tr>\n",
       "    <tr>\n",
       "      <th>22</th>\n",
       "      <td>2016-01-12 16:02:00</td>\n",
       "      <td>2016-01-12 17:00:00</td>\n",
       "      <td>Business</td>\n",
       "      <td>New York</td>\n",
       "      <td>Queens County</td>\n",
       "      <td>15.1</td>\n",
       "      <td>Meeting</td>\n",
       "      <td>58.0</td>\n",
       "    </tr>\n",
       "    <tr>\n",
       "      <th>23</th>\n",
       "      <td>2016-01-13 13:54:00</td>\n",
       "      <td>2016-01-13 14:07:00</td>\n",
       "      <td>Business</td>\n",
       "      <td>Downtown</td>\n",
       "      <td>Gulfton</td>\n",
       "      <td>11.2</td>\n",
       "      <td>Meeting</td>\n",
       "      <td>13.0</td>\n",
       "    </tr>\n",
       "    <tr>\n",
       "      <th>24</th>\n",
       "      <td>2016-01-13 15:00:00</td>\n",
       "      <td>2016-01-13 15:28:00</td>\n",
       "      <td>Business</td>\n",
       "      <td>Gulfton</td>\n",
       "      <td>Downtown</td>\n",
       "      <td>11.8</td>\n",
       "      <td>Meeting</td>\n",
       "      <td>28.0</td>\n",
       "    </tr>\n",
       "    <tr>\n",
       "      <th>25</th>\n",
       "      <td>2016-01-14 16:29:00</td>\n",
       "      <td>2016-01-14 17:05:00</td>\n",
       "      <td>Business</td>\n",
       "      <td>Houston</td>\n",
       "      <td>Houston</td>\n",
       "      <td>21.9</td>\n",
       "      <td>Customer Visit</td>\n",
       "      <td>36.0</td>\n",
       "    </tr>\n",
       "    <tr>\n",
       "      <th>26</th>\n",
       "      <td>2016-01-14 21:39:00</td>\n",
       "      <td>2016-01-14 21:45:00</td>\n",
       "      <td>Business</td>\n",
       "      <td>Eagan Park</td>\n",
       "      <td>Jamestown Court</td>\n",
       "      <td>3.9</td>\n",
       "      <td>Errand/Supplies</td>\n",
       "      <td>6.0</td>\n",
       "    </tr>\n",
       "    <tr>\n",
       "      <th>27</th>\n",
       "      <td>2016-01-15 00:41:00</td>\n",
       "      <td>2016-01-15 01:01:00</td>\n",
       "      <td>Business</td>\n",
       "      <td>Morrisville</td>\n",
       "      <td>Cary</td>\n",
       "      <td>8.0</td>\n",
       "      <td>Errand/Supplies</td>\n",
       "      <td>20.0</td>\n",
       "    </tr>\n",
       "    <tr>\n",
       "      <th>28</th>\n",
       "      <td>2016-01-15 11:43:00</td>\n",
       "      <td>2016-01-15 12:03:00</td>\n",
       "      <td>Business</td>\n",
       "      <td>Cary</td>\n",
       "      <td>Durham</td>\n",
       "      <td>10.4</td>\n",
       "      <td>Meal/Entertain</td>\n",
       "      <td>20.0</td>\n",
       "    </tr>\n",
       "    <tr>\n",
       "      <th>29</th>\n",
       "      <td>2016-01-15 13:26:00</td>\n",
       "      <td>2016-01-15 13:44:00</td>\n",
       "      <td>Business</td>\n",
       "      <td>Durham</td>\n",
       "      <td>Cary</td>\n",
       "      <td>10.4</td>\n",
       "      <td>Meal/Entertain</td>\n",
       "      <td>18.0</td>\n",
       "    </tr>\n",
       "    <tr>\n",
       "      <th>30</th>\n",
       "      <td>2016-01-18 14:55:00</td>\n",
       "      <td>2016-01-18 15:06:00</td>\n",
       "      <td>Business</td>\n",
       "      <td>Cary</td>\n",
       "      <td>Cary</td>\n",
       "      <td>4.8</td>\n",
       "      <td>Meal/Entertain</td>\n",
       "      <td>11.0</td>\n",
       "    </tr>\n",
       "    <tr>\n",
       "      <th>31</th>\n",
       "      <td>2016-01-18 16:13:00</td>\n",
       "      <td>2016-01-18 16:24:00</td>\n",
       "      <td>Business</td>\n",
       "      <td>Farmington Woods</td>\n",
       "      <td>Whitebridge</td>\n",
       "      <td>4.7</td>\n",
       "      <td>Meal/Entertain</td>\n",
       "      <td>11.0</td>\n",
       "    </tr>\n",
       "    <tr>\n",
       "      <th>33</th>\n",
       "      <td>2016-01-19 10:55:00</td>\n",
       "      <td>2016-01-19 11:09:00</td>\n",
       "      <td>Business</td>\n",
       "      <td>Lake Wellingborough</td>\n",
       "      <td>Whitebridge</td>\n",
       "      <td>7.6</td>\n",
       "      <td>Temporary Site</td>\n",
       "      <td>14.0</td>\n",
       "    </tr>\n",
       "    <tr>\n",
       "      <th>34</th>\n",
       "      <td>2016-01-20 10:36:00</td>\n",
       "      <td>2016-01-20 11:11:00</td>\n",
       "      <td>Business</td>\n",
       "      <td>Cary</td>\n",
       "      <td>Raleigh</td>\n",
       "      <td>17.1</td>\n",
       "      <td>Meeting</td>\n",
       "      <td>35.0</td>\n",
       "    </tr>\n",
       "    <tr>\n",
       "      <th>35</th>\n",
       "      <td>2016-01-20 11:48:00</td>\n",
       "      <td>2016-01-20 12:19:00</td>\n",
       "      <td>Business</td>\n",
       "      <td>Fayetteville Street</td>\n",
       "      <td>Umstead</td>\n",
       "      <td>15.1</td>\n",
       "      <td>Meeting</td>\n",
       "      <td>31.0</td>\n",
       "    </tr>\n",
       "    <tr>\n",
       "      <th>36</th>\n",
       "      <td>2016-01-20 13:25:00</td>\n",
       "      <td>2016-01-20 14:19:00</td>\n",
       "      <td>Business</td>\n",
       "      <td>Raleigh</td>\n",
       "      <td>Cary</td>\n",
       "      <td>40.2</td>\n",
       "      <td>Customer Visit</td>\n",
       "      <td>54.0</td>\n",
       "    </tr>\n",
       "    <tr>\n",
       "      <th>37</th>\n",
       "      <td>2016-01-21 14:25:00</td>\n",
       "      <td>2016-01-21 14:29:00</td>\n",
       "      <td>Business</td>\n",
       "      <td>Cary</td>\n",
       "      <td>Cary</td>\n",
       "      <td>1.6</td>\n",
       "      <td>Errand/Supplies</td>\n",
       "      <td>4.0</td>\n",
       "    </tr>\n",
       "    <tr>\n",
       "      <th>38</th>\n",
       "      <td>2016-01-21 14:43:00</td>\n",
       "      <td>2016-01-21 14:51:00</td>\n",
       "      <td>Business</td>\n",
       "      <td>Cary</td>\n",
       "      <td>Cary</td>\n",
       "      <td>2.4</td>\n",
       "      <td>Meal/Entertain</td>\n",
       "      <td>8.0</td>\n",
       "    </tr>\n",
       "    <tr>\n",
       "      <th>39</th>\n",
       "      <td>2016-01-21 16:01:00</td>\n",
       "      <td>2016-01-21 16:06:00</td>\n",
       "      <td>Business</td>\n",
       "      <td>Cary</td>\n",
       "      <td>Cary</td>\n",
       "      <td>1.0</td>\n",
       "      <td>Meal/Entertain</td>\n",
       "      <td>5.0</td>\n",
       "    </tr>\n",
       "    <tr>\n",
       "      <th>40</th>\n",
       "      <td>2016-01-26 10:41:00</td>\n",
       "      <td>2016-01-26 10:50:00</td>\n",
       "      <td>Business</td>\n",
       "      <td>Whitebridge</td>\n",
       "      <td>Hazelwood</td>\n",
       "      <td>2.0</td>\n",
       "      <td>Meal/Entertain</td>\n",
       "      <td>9.0</td>\n",
       "    </tr>\n",
       "    <tr>\n",
       "      <th>41</th>\n",
       "      <td>2016-01-26 12:33:00</td>\n",
       "      <td>2016-01-26 12:41:00</td>\n",
       "      <td>Business</td>\n",
       "      <td>Hazelwood</td>\n",
       "      <td>Whitebridge</td>\n",
       "      <td>2.3</td>\n",
       "      <td>Errand/Supplies</td>\n",
       "      <td>8.0</td>\n",
       "    </tr>\n",
       "    <tr>\n",
       "      <th>42</th>\n",
       "      <td>2016-01-26 16:24:00</td>\n",
       "      <td>2016-01-26 16:32:00</td>\n",
       "      <td>Business</td>\n",
       "      <td>Whitebridge</td>\n",
       "      <td>Westpark Place</td>\n",
       "      <td>1.9</td>\n",
       "      <td>Errand/Supplies</td>\n",
       "      <td>8.0</td>\n",
       "    </tr>\n",
       "    <tr>\n",
       "      <th>43</th>\n",
       "      <td>2016-01-26 17:17:00</td>\n",
       "      <td>2016-01-26 17:22:00</td>\n",
       "      <td>Business</td>\n",
       "      <td>Cary</td>\n",
       "      <td>Cary</td>\n",
       "      <td>1.4</td>\n",
       "      <td>Errand/Supplies</td>\n",
       "      <td>5.0</td>\n",
       "    </tr>\n",
       "    <tr>\n",
       "      <th>44</th>\n",
       "      <td>2016-01-26 17:27:00</td>\n",
       "      <td>2016-01-26 17:29:00</td>\n",
       "      <td>Business</td>\n",
       "      <td>Cary</td>\n",
       "      <td>Cary</td>\n",
       "      <td>0.5</td>\n",
       "      <td>Errand/Supplies</td>\n",
       "      <td>2.0</td>\n",
       "    </tr>\n",
       "    <tr>\n",
       "      <th>45</th>\n",
       "      <td>2016-01-27 09:24:00</td>\n",
       "      <td>2016-01-27 09:31:00</td>\n",
       "      <td>Business</td>\n",
       "      <td>Cary</td>\n",
       "      <td>Cary</td>\n",
       "      <td>1.8</td>\n",
       "      <td>Meeting</td>\n",
       "      <td>7.0</td>\n",
       "    </tr>\n",
       "    <tr>\n",
       "      <th>46</th>\n",
       "      <td>2016-01-27 10:19:00</td>\n",
       "      <td>2016-01-27 10:48:00</td>\n",
       "      <td>Business</td>\n",
       "      <td>Cary</td>\n",
       "      <td>Raleigh</td>\n",
       "      <td>18.7</td>\n",
       "      <td>Customer Visit</td>\n",
       "      <td>29.0</td>\n",
       "    </tr>\n",
       "    <tr>\n",
       "      <th>47</th>\n",
       "      <td>2016-01-27 12:34:00</td>\n",
       "      <td>2016-01-27 12:44:00</td>\n",
       "      <td>Business</td>\n",
       "      <td>Fairmont</td>\n",
       "      <td>Meredith Townes</td>\n",
       "      <td>3.4</td>\n",
       "      <td>Customer Visit</td>\n",
       "      <td>10.0</td>\n",
       "    </tr>\n",
       "    <tr>\n",
       "      <th>48</th>\n",
       "      <td>2016-01-27 14:05:00</td>\n",
       "      <td>2016-01-27 14:13:00</td>\n",
       "      <td>Business</td>\n",
       "      <td>Raleigh</td>\n",
       "      <td>Raleigh</td>\n",
       "      <td>2.7</td>\n",
       "      <td>Customer Visit</td>\n",
       "      <td>8.0</td>\n",
       "    </tr>\n",
       "    <tr>\n",
       "      <th>49</th>\n",
       "      <td>2016-01-27 14:46:00</td>\n",
       "      <td>2016-01-27 15:08:00</td>\n",
       "      <td>Business</td>\n",
       "      <td>Raleigh</td>\n",
       "      <td>Cary</td>\n",
       "      <td>12.9</td>\n",
       "      <td>Customer Visit</td>\n",
       "      <td>22.0</td>\n",
       "    </tr>\n",
       "    <tr>\n",
       "      <th>50</th>\n",
       "      <td>2016-01-28 12:28:00</td>\n",
       "      <td>2016-01-28 13:00:00</td>\n",
       "      <td>Business</td>\n",
       "      <td>Cary</td>\n",
       "      <td>Raleigh</td>\n",
       "      <td>19.0</td>\n",
       "      <td>Temporary Site</td>\n",
       "      <td>32.0</td>\n",
       "    </tr>\n",
       "    <tr>\n",
       "      <th>51</th>\n",
       "      <td>2016-01-28 15:11:00</td>\n",
       "      <td>2016-01-28 15:31:00</td>\n",
       "      <td>Business</td>\n",
       "      <td>Meredith Townes</td>\n",
       "      <td>Leesville Hollow</td>\n",
       "      <td>14.7</td>\n",
       "      <td>Meeting</td>\n",
       "      <td>20.0</td>\n",
       "    </tr>\n",
       "    <tr>\n",
       "      <th>52</th>\n",
       "      <td>2016-01-28 16:21:00</td>\n",
       "      <td>2016-01-28 16:51:00</td>\n",
       "      <td>Business</td>\n",
       "      <td>Raleigh</td>\n",
       "      <td>Cary</td>\n",
       "      <td>15.7</td>\n",
       "      <td>Meeting</td>\n",
       "      <td>30.0</td>\n",
       "    </tr>\n",
       "    <tr>\n",
       "      <th>53</th>\n",
       "      <td>2016-01-29 09:31:00</td>\n",
       "      <td>2016-01-29 09:45:00</td>\n",
       "      <td>Business</td>\n",
       "      <td>Cary</td>\n",
       "      <td>Cary</td>\n",
       "      <td>4.6</td>\n",
       "      <td>Customer Visit</td>\n",
       "      <td>14.0</td>\n",
       "    </tr>\n",
       "    <tr>\n",
       "      <th>54</th>\n",
       "      <td>2016-01-29 10:56:00</td>\n",
       "      <td>2016-01-29 11:07:00</td>\n",
       "      <td>Business</td>\n",
       "      <td>Cary</td>\n",
       "      <td>Cary</td>\n",
       "      <td>5.2</td>\n",
       "      <td>Meeting</td>\n",
       "      <td>11.0</td>\n",
       "    </tr>\n",
       "    <tr>\n",
       "      <th>55</th>\n",
       "      <td>2016-01-29 11:43:00</td>\n",
       "      <td>2016-01-29 12:03:00</td>\n",
       "      <td>Business</td>\n",
       "      <td>Cary</td>\n",
       "      <td>Durham</td>\n",
       "      <td>10.4</td>\n",
       "      <td>Meeting</td>\n",
       "      <td>20.0</td>\n",
       "    </tr>\n",
       "    <tr>\n",
       "      <th>56</th>\n",
       "      <td>2016-01-29 13:24:00</td>\n",
       "      <td>2016-01-29 13:47:00</td>\n",
       "      <td>Business</td>\n",
       "      <td>Durham</td>\n",
       "      <td>Cary</td>\n",
       "      <td>10.1</td>\n",
       "      <td>Meeting</td>\n",
       "      <td>23.0</td>\n",
       "    </tr>\n",
       "    <tr>\n",
       "      <th>57</th>\n",
       "      <td>2016-01-29 18:31:00</td>\n",
       "      <td>2016-01-29 18:52:00</td>\n",
       "      <td>Business</td>\n",
       "      <td>Cary</td>\n",
       "      <td>Apex</td>\n",
       "      <td>5.8</td>\n",
       "      <td>Errand/Supplies</td>\n",
       "      <td>21.0</td>\n",
       "    </tr>\n",
       "    <tr>\n",
       "      <th>58</th>\n",
       "      <td>2016-01-29 21:21:00</td>\n",
       "      <td>2016-01-29 21:40:00</td>\n",
       "      <td>Business</td>\n",
       "      <td>Apex</td>\n",
       "      <td>Cary</td>\n",
       "      <td>5.5</td>\n",
       "      <td>Meal/Entertain</td>\n",
       "      <td>19.0</td>\n",
       "    </tr>\n",
       "    <tr>\n",
       "      <th>59</th>\n",
       "      <td>2016-01-30 16:21:00</td>\n",
       "      <td>2016-01-30 16:33:00</td>\n",
       "      <td>Business</td>\n",
       "      <td>Cary</td>\n",
       "      <td>Apex</td>\n",
       "      <td>5.7</td>\n",
       "      <td>Errand/Supplies</td>\n",
       "      <td>12.0</td>\n",
       "    </tr>\n",
       "    <tr>\n",
       "      <th>60</th>\n",
       "      <td>2016-01-30 18:09:00</td>\n",
       "      <td>2016-01-30 18:24:00</td>\n",
       "      <td>Business</td>\n",
       "      <td>Apex</td>\n",
       "      <td>Cary</td>\n",
       "      <td>5.7</td>\n",
       "      <td>Customer Visit</td>\n",
       "      <td>15.0</td>\n",
       "    </tr>\n",
       "  </tbody>\n",
       "</table>\n",
       "</div>"
      ],
      "text/plain": [
       "           START_DATE*           END_DATE* CATEGORY*               START*  \\\n",
       "0  2016-01-01 21:11:00 2016-01-01 21:17:00  Business          Fort Pierce   \n",
       "2  2016-01-02 20:25:00 2016-01-02 20:38:00  Business          Fort Pierce   \n",
       "3  2016-01-05 17:31:00 2016-01-05 17:45:00  Business          Fort Pierce   \n",
       "4  2016-01-06 14:42:00 2016-01-06 15:49:00  Business          Fort Pierce   \n",
       "5  2016-01-06 17:15:00 2016-01-06 17:19:00  Business      West Palm Beach   \n",
       "6  2016-01-06 17:30:00 2016-01-06 17:35:00  Business      West Palm Beach   \n",
       "7  2016-01-07 13:27:00 2016-01-07 13:33:00  Business                 Cary   \n",
       "8  2016-01-10 08:05:00 2016-01-10 08:25:00  Business                 Cary   \n",
       "9  2016-01-10 12:17:00 2016-01-10 12:44:00  Business              Jamaica   \n",
       "10 2016-01-10 15:08:00 2016-01-10 15:51:00  Business             New York   \n",
       "11 2016-01-10 18:18:00 2016-01-10 18:53:00  Business             Elmhurst   \n",
       "12 2016-01-10 19:12:00 2016-01-10 19:32:00  Business              Midtown   \n",
       "13 2016-01-11 08:55:00 2016-01-11 09:21:00  Business          East Harlem   \n",
       "14 2016-01-11 11:56:00 2016-01-11 12:03:00  Business    Flatiron District   \n",
       "15 2016-01-11 13:32:00 2016-01-11 13:46:00  Business              Midtown   \n",
       "16 2016-01-11 14:30:00 2016-01-11 14:43:00  Business         Midtown East   \n",
       "17 2016-01-12 12:33:00 2016-01-12 12:49:00  Business              Midtown   \n",
       "18 2016-01-12 12:53:00 2016-01-12 13:09:00  Business        Hudson Square   \n",
       "19 2016-01-12 14:42:00 2016-01-12 14:56:00  Business      Lower Manhattan   \n",
       "20 2016-01-12 15:13:00 2016-01-12 15:28:00  Business        Hudson Square   \n",
       "21 2016-01-12 15:42:00 2016-01-12 15:54:00  Business       Hell's Kitchen   \n",
       "22 2016-01-12 16:02:00 2016-01-12 17:00:00  Business             New York   \n",
       "23 2016-01-13 13:54:00 2016-01-13 14:07:00  Business             Downtown   \n",
       "24 2016-01-13 15:00:00 2016-01-13 15:28:00  Business              Gulfton   \n",
       "25 2016-01-14 16:29:00 2016-01-14 17:05:00  Business              Houston   \n",
       "26 2016-01-14 21:39:00 2016-01-14 21:45:00  Business           Eagan Park   \n",
       "27 2016-01-15 00:41:00 2016-01-15 01:01:00  Business          Morrisville   \n",
       "28 2016-01-15 11:43:00 2016-01-15 12:03:00  Business                 Cary   \n",
       "29 2016-01-15 13:26:00 2016-01-15 13:44:00  Business               Durham   \n",
       "30 2016-01-18 14:55:00 2016-01-18 15:06:00  Business                 Cary   \n",
       "31 2016-01-18 16:13:00 2016-01-18 16:24:00  Business     Farmington Woods   \n",
       "33 2016-01-19 10:55:00 2016-01-19 11:09:00  Business  Lake Wellingborough   \n",
       "34 2016-01-20 10:36:00 2016-01-20 11:11:00  Business                 Cary   \n",
       "35 2016-01-20 11:48:00 2016-01-20 12:19:00  Business  Fayetteville Street   \n",
       "36 2016-01-20 13:25:00 2016-01-20 14:19:00  Business              Raleigh   \n",
       "37 2016-01-21 14:25:00 2016-01-21 14:29:00  Business                 Cary   \n",
       "38 2016-01-21 14:43:00 2016-01-21 14:51:00  Business                 Cary   \n",
       "39 2016-01-21 16:01:00 2016-01-21 16:06:00  Business                 Cary   \n",
       "40 2016-01-26 10:41:00 2016-01-26 10:50:00  Business          Whitebridge   \n",
       "41 2016-01-26 12:33:00 2016-01-26 12:41:00  Business            Hazelwood   \n",
       "42 2016-01-26 16:24:00 2016-01-26 16:32:00  Business          Whitebridge   \n",
       "43 2016-01-26 17:17:00 2016-01-26 17:22:00  Business                 Cary   \n",
       "44 2016-01-26 17:27:00 2016-01-26 17:29:00  Business                 Cary   \n",
       "45 2016-01-27 09:24:00 2016-01-27 09:31:00  Business                 Cary   \n",
       "46 2016-01-27 10:19:00 2016-01-27 10:48:00  Business                 Cary   \n",
       "47 2016-01-27 12:34:00 2016-01-27 12:44:00  Business             Fairmont   \n",
       "48 2016-01-27 14:05:00 2016-01-27 14:13:00  Business              Raleigh   \n",
       "49 2016-01-27 14:46:00 2016-01-27 15:08:00  Business              Raleigh   \n",
       "50 2016-01-28 12:28:00 2016-01-28 13:00:00  Business                 Cary   \n",
       "51 2016-01-28 15:11:00 2016-01-28 15:31:00  Business      Meredith Townes   \n",
       "52 2016-01-28 16:21:00 2016-01-28 16:51:00  Business              Raleigh   \n",
       "53 2016-01-29 09:31:00 2016-01-29 09:45:00  Business                 Cary   \n",
       "54 2016-01-29 10:56:00 2016-01-29 11:07:00  Business                 Cary   \n",
       "55 2016-01-29 11:43:00 2016-01-29 12:03:00  Business                 Cary   \n",
       "56 2016-01-29 13:24:00 2016-01-29 13:47:00  Business               Durham   \n",
       "57 2016-01-29 18:31:00 2016-01-29 18:52:00  Business                 Cary   \n",
       "58 2016-01-29 21:21:00 2016-01-29 21:40:00  Business                 Apex   \n",
       "59 2016-01-30 16:21:00 2016-01-30 16:33:00  Business                 Cary   \n",
       "60 2016-01-30 18:09:00 2016-01-30 18:24:00  Business                 Apex   \n",
       "\n",
       "               STOP*  MILES*         PURPOSE*  DIFF  \n",
       "0        Fort Pierce     5.1   Meal/Entertain   6.0  \n",
       "2        Fort Pierce     4.8  Errand/Supplies  13.0  \n",
       "3        Fort Pierce     4.7          Meeting  14.0  \n",
       "4    West Palm Beach    63.7   Customer Visit  67.0  \n",
       "5    West Palm Beach     4.3   Meal/Entertain   4.0  \n",
       "6         Palm Beach     7.1          Meeting   5.0  \n",
       "7               Cary     0.8          Meeting   6.0  \n",
       "8        Morrisville     8.3          Meeting  20.0  \n",
       "9           New York    16.5   Customer Visit  27.0  \n",
       "10            Queens    10.8          Meeting  43.0  \n",
       "11          New York     7.5          Meeting  35.0  \n",
       "12       East Harlem     6.2          Meeting  20.0  \n",
       "13             NoMad     6.4   Temporary Site  26.0  \n",
       "14           Midtown     1.6  Errand/Supplies   7.0  \n",
       "15      Midtown East     1.7   Meal/Entertain  14.0  \n",
       "16           Midtown     1.9   Meal/Entertain  13.0  \n",
       "17     Hudson Square     1.9   Meal/Entertain  16.0  \n",
       "18   Lower Manhattan     4.0   Meal/Entertain  16.0  \n",
       "19     Hudson Square     1.8  Errand/Supplies  14.0  \n",
       "20    Hell's Kitchen     2.4   Customer Visit  15.0  \n",
       "21           Midtown     2.0  Errand/Supplies  12.0  \n",
       "22     Queens County    15.1          Meeting  58.0  \n",
       "23           Gulfton    11.2          Meeting  13.0  \n",
       "24          Downtown    11.8          Meeting  28.0  \n",
       "25           Houston    21.9   Customer Visit  36.0  \n",
       "26   Jamestown Court     3.9  Errand/Supplies   6.0  \n",
       "27              Cary     8.0  Errand/Supplies  20.0  \n",
       "28            Durham    10.4   Meal/Entertain  20.0  \n",
       "29              Cary    10.4   Meal/Entertain  18.0  \n",
       "30              Cary     4.8   Meal/Entertain  11.0  \n",
       "31       Whitebridge     4.7   Meal/Entertain  11.0  \n",
       "33       Whitebridge     7.6   Temporary Site  14.0  \n",
       "34           Raleigh    17.1          Meeting  35.0  \n",
       "35           Umstead    15.1          Meeting  31.0  \n",
       "36              Cary    40.2   Customer Visit  54.0  \n",
       "37              Cary     1.6  Errand/Supplies   4.0  \n",
       "38              Cary     2.4   Meal/Entertain   8.0  \n",
       "39              Cary     1.0   Meal/Entertain   5.0  \n",
       "40         Hazelwood     2.0   Meal/Entertain   9.0  \n",
       "41       Whitebridge     2.3  Errand/Supplies   8.0  \n",
       "42    Westpark Place     1.9  Errand/Supplies   8.0  \n",
       "43              Cary     1.4  Errand/Supplies   5.0  \n",
       "44              Cary     0.5  Errand/Supplies   2.0  \n",
       "45              Cary     1.8          Meeting   7.0  \n",
       "46           Raleigh    18.7   Customer Visit  29.0  \n",
       "47   Meredith Townes     3.4   Customer Visit  10.0  \n",
       "48           Raleigh     2.7   Customer Visit   8.0  \n",
       "49              Cary    12.9   Customer Visit  22.0  \n",
       "50           Raleigh    19.0   Temporary Site  32.0  \n",
       "51  Leesville Hollow    14.7          Meeting  20.0  \n",
       "52              Cary    15.7          Meeting  30.0  \n",
       "53              Cary     4.6   Customer Visit  14.0  \n",
       "54              Cary     5.2          Meeting  11.0  \n",
       "55            Durham    10.4          Meeting  20.0  \n",
       "56              Cary    10.1          Meeting  23.0  \n",
       "57              Apex     5.8  Errand/Supplies  21.0  \n",
       "58              Cary     5.5   Meal/Entertain  19.0  \n",
       "59              Apex     5.7  Errand/Supplies  12.0  \n",
       "60              Cary     5.7   Customer Visit  15.0  "
      ]
     },
     "execution_count": 45,
     "metadata": {},
     "output_type": "execute_result"
    }
   ],
   "source": [
    "Jan"
   ]
  },
  {
   "cell_type": "code",
   "execution_count": 46,
   "metadata": {},
   "outputs": [
    {
     "name": "stderr",
     "output_type": "stream",
     "text": [
      "C:\\Users\\shirish\\Anaconda3\\lib\\site-packages\\pandas\\core\\indexing.py:362: SettingWithCopyWarning: \n",
      "A value is trying to be set on a copy of a slice from a DataFrame.\n",
      "Try using .loc[row_indexer,col_indexer] = value instead\n",
      "\n",
      "See the caveats in the documentation: http://pandas.pydata.org/pandas-docs/stable/indexing.html#indexing-view-versus-copy\n",
      "  self.obj[key] = _infer_fill_value(value)\n",
      "C:\\Users\\shirish\\Anaconda3\\lib\\site-packages\\pandas\\core\\indexing.py:543: SettingWithCopyWarning: \n",
      "A value is trying to be set on a copy of a slice from a DataFrame.\n",
      "Try using .loc[row_indexer,col_indexer] = value instead\n",
      "\n",
      "See the caveats in the documentation: http://pandas.pydata.org/pandas-docs/stable/indexing.html#indexing-view-versus-copy\n",
      "  self.obj[item] = s\n"
     ]
    }
   ],
   "source": [
    "# We will create the day wise dataframes to get the understanding of daywise spread of trips across every month.\n",
    "Jan.loc[:,'day'] = pd.to_datetime(Jan['START_DATE*']).dt.day\n",
    "Feb.loc[:,'day'] = pd.to_datetime(Feb['START_DATE*']).dt.day\n",
    "Mar.loc[:,'day'] = pd.to_datetime(Mar['START_DATE*']).dt.day\n",
    "Apr.loc[:,'day'] = pd.to_datetime(Apr['START_DATE*']).dt.day\n",
    "May.loc[:,'day'] = pd.to_datetime(May['START_DATE*']).dt.day\n",
    "Jun.loc[:,'day'] = pd.to_datetime(Jun['START_DATE*']).dt.day\n",
    "Jul.loc[:,'day'] = pd.to_datetime(Jul['START_DATE*']).dt.day\n",
    "Aug.loc[:,'day'] = pd.to_datetime(Aug['START_DATE*']).dt.day\n",
    "Sep.loc[:,'day'] = pd.to_datetime(Sep['START_DATE*']).dt.day\n",
    "Oct.loc[:,'day'] = pd.to_datetime(Oct['START_DATE*']).dt.day\n",
    "Nov.loc[:,'day'] = pd.to_datetime(Nov['START_DATE*']).dt.day\n",
    "Dec.loc[:,'day'] = pd.to_datetime(Dec['START_DATE*']).dt.day\n",
    "\n",
    "# Getting the sum of trips each month, day wise.\n",
    "Jan_group = Jan.groupby(['day']).agg('sum')\n",
    "Feb_group = Feb.groupby(['day']).agg('sum')\n",
    "Mar_group = Mar.groupby(['day']).agg('sum')\n",
    "Apr_group = Apr.groupby(['day']).agg('sum')\n",
    "May_group = May.groupby(['day']).agg('sum')\n",
    "Jun_group = Jun.groupby(['day']).agg('sum')\n",
    "Jul_group = Jul.groupby(['day']).agg('sum')\n",
    "Aug_group = Aug.groupby(['day']).agg('sum')\n",
    "Sep_group = Sep.groupby(['day']).agg('sum')\n",
    "Oct_group = Oct.groupby(['day']).agg('sum')\n",
    "Nov_group = Nov.groupby(['day']).agg('sum')\n",
    "Dec_group = Dec.groupby(['day']).agg('sum')"
   ]
  },
  {
   "cell_type": "code",
   "execution_count": 47,
   "metadata": {},
   "outputs": [
    {
     "data": {
      "text/plain": [
       "500.70000000000005"
      ]
     },
     "execution_count": 47,
     "metadata": {},
     "output_type": "execute_result"
    }
   ],
   "source": [
    "Jan_group['MILES*'].sum()"
   ]
  },
  {
   "cell_type": "code",
   "execution_count": 94,
   "metadata": {},
   "outputs": [
    {
     "data": {
      "image/png": "[encoded data removed]",
      "text/plain": [
       "<Figure size 432x288 with 1 Axes>"
      ]
     },
     "metadata": {},
     "output_type": "display_data"
    }
   ],
   "source": [
    "#Plotting the miles and durations of trips for Jan month\n",
    "Jan_group.plot(kind= 'bar')\n",
    "plt.show()"
   ]
  },
  {
   "cell_type": "code",
   "execution_count": 95,
   "metadata": {},
   "outputs": [
    {
     "data": {
      "text/plain": [
       "day\n",
       "6     75.1\n",
       "20    72.4\n",
       "28    49.4\n",
       "10    49.3\n",
       "29    41.6\n",
       "27    39.5\n",
       "15    28.8\n",
       "12    27.2\n",
       "14    25.8\n",
       "13    23.0\n",
       "11    11.6\n",
       "30    11.4\n",
       "18     9.5\n",
       "26     8.1\n",
       "19     7.6\n",
       "1      5.1\n",
       "21     5.0\n",
       "2      4.8\n",
       "5      4.7\n",
       "7      0.8\n",
       "Name: MILES*, dtype: float64"
      ]
     },
     "execution_count": 95,
     "metadata": {},
     "output_type": "execute_result"
    }
   ],
   "source": [
    "Jan_group['MILES*'].sort_values(ascending = False)\n",
    "#We can say the on 6th Jan the driver has covered the highest value of miles."
   ]
  },
  {
   "cell_type": "code",
   "execution_count": 50,
   "metadata": {},
   "outputs": [],
   "source": [
    "#Now we creating dataframe the sum of miles covered for each month and plotting it.\n",
    "miles_day_frame = pd.concat([Jan_group['MILES*'], Feb_group['MILES*'],Mar_group['MILES*'],Apr_group['MILES*'],May_group['MILES*'],Jun_group['MILES*'],Jul_group['MILES*'],Aug_group['MILES*'],Sep_group['MILES*'],Oct_group['MILES*'],\n",
    "               Nov_group['MILES*'],Dec_group['MILES*']],ignore_index=True, axis=1)\n",
    "miles_day_frame.columns = ['Jan', 'Feb','Mar','Apr','May','Jun','Jul','Aug','Sep','Oct','Nov','Dec']\n",
    "miles_day_frame.fillna(0,inplace=True)\n"
   ]
  },
  {
   "cell_type": "code",
   "execution_count": 51,
   "metadata": {},
   "outputs": [
    {
     "name": "stdout",
     "output_type": "stream",
     "text": [
      "Jan     500.7\n",
      "Feb     727.2\n",
      "Mar    1455.9\n",
      "Apr    1094.9\n",
      "May     358.5\n",
      "Jun     541.0\n",
      "Jul     488.3\n",
      "Aug      88.1\n",
      "Sep       0.0\n",
      "Oct     496.8\n",
      "Nov     635.4\n",
      "Dec     924.4\n",
      "dtype: float64\n"
     ]
    },
    {
     "data": {
      "text/plain": [
       "<matplotlib.axes._subplots.AxesSubplot at 0x29de9c1efd0>"
      ]
     },
     "execution_count": 51,
     "metadata": {},
     "output_type": "execute_result"
    },
    {
     "data": {
      "image/png": "[encoded data removed]",
      "text/plain": [
       "<Figure size 432x288 with 1 Axes>"
      ]
     },
     "metadata": {},
     "output_type": "display_data"
    }
   ],
   "source": [
    "#Sum of miles covered for each month\n",
    "print(miles_day_frame.sum(axis = 0))\n",
    "miles_day_frame.sum(axis = 0).plot(kind = 'bar')\n",
    "\n",
    "#We can say that driver has covered most miles in march month."
   ]
  },
  {
   "cell_type": "code",
   "execution_count": 96,
   "metadata": {},
   "outputs": [
    {
     "data": {
      "text/plain": [
       "<matplotlib.axes._subplots.AxesSubplot at 0x29dea7a6cf8>"
      ]
     },
     "execution_count": 96,
     "metadata": {},
     "output_type": "execute_result"
    },
    {
     "data": {
      "image/png": "[encoded data removed]",
      "text/plain": [
       "<Figure size 432x288 with 1 Axes>"
      ]
     },
     "metadata": {},
     "output_type": "display_data"
    }
   ],
   "source": [
    "miles_day_frame.plot()   ### do it month wise toptal number of trips."
   ]
  },
  {
   "cell_type": "code",
   "execution_count": 53,
   "metadata": {},
   "outputs": [
    {
     "data": {
      "text/plain": [
       "Text(0.5,1,'Number of trips per hour')"
      ]
     },
     "execution_count": 53,
     "metadata": {},
     "output_type": "execute_result"
    },
    {
     "data": {
      "image/png": "[encoded data removed]",
      "text/plain": [
       "<Figure size 720x360 with 1 Axes>"
      ]
     },
     "metadata": {},
     "output_type": "display_data"
    }
   ],
   "source": [
    "# how many trip made at each clock time and as you see the clock which has the higest number of trips is 1:00 PM\n",
    "hours = uber_drives['START_DATE*'].dt.hour.value_counts()\n",
    "hours.plot(kind='bar',color='orange',figsize=(10,5))\n",
    "plt.xlabel('Hours')\n",
    "plt.ylabel('Frequency')\n",
    "plt.title('Number of trips per hour')"
   ]
  },
  {
   "cell_type": "code",
   "execution_count": 54,
   "metadata": {},
   "outputs": [
    {
     "data": {
      "image/png": "[encoded data removed]",
      "text/plain": [
       "<Figure size 432x288 with 1 Axes>"
      ]
     },
     "metadata": {},
     "output_type": "display_data"
    }
   ],
   "source": [
    "# Miles calculations\n",
    "# Miles Range (Trying to put the miles covered in different buckets)\n",
    "\n",
    "range_ = [\"<5\",\"5-10\",\"10-20\",\"20-35\",\">35\"]\n",
    "\n",
    "dict_range = dict()\n",
    "for x in range_:\n",
    "    dict_range[x] = 0\n",
    "\n",
    "for i in uber_drives['MILES*']:\n",
    "    if i < 5:\n",
    "        dict_range[\"<5\"] += 1\n",
    "    elif i < 10:\n",
    "        dict_range[\"5-10\"] += 1\n",
    "    elif i < 20:\n",
    "        dict_range[\"10-20\"] += 1\n",
    "    elif i < 35:\n",
    "        dict_range[\"20-35\"] += 1\n",
    "    else:\n",
    "        dict_range[\">35\"] += 1\n",
    "    \n",
    "miles = pd.Series(dict_range)\n",
    "miles.sort_values(inplace=True, ascending=False)\n",
    "X = plt.bar(range(1,len(miles.index)+1),miles.values)\n",
    "plt.title(\"Miles\")\n",
    "plt.xlabel(\"Miles\")\n",
    "plt.ylabel(\"Count of Trips\")\n",
    "plt.xticks(range(1,len(miles.index)+1),miles.index)\n",
    "plt.show()       \n"
   ]
  },
  {
   "cell_type": "code",
   "execution_count": 55,
   "metadata": {},
   "outputs": [
    {
     "data": {
      "text/plain": [
       "0       51.000000\n",
       "2       22.153846\n",
       "3       20.142857\n",
       "4       57.044776\n",
       "5       64.500000\n",
       "6       85.200000\n",
       "7        8.000000\n",
       "8       24.900000\n",
       "9       36.666667\n",
       "10      15.069767\n",
       "11      12.857143\n",
       "12      18.600000\n",
       "13      14.769231\n",
       "14      13.714286\n",
       "15       7.285714\n",
       "16       8.769231\n",
       "17       7.125000\n",
       "18      15.000000\n",
       "19       7.714286\n",
       "20       9.600000\n",
       "21      10.000000\n",
       "22      15.620690\n",
       "23      51.692308\n",
       "24      25.285714\n",
       "25      36.500000\n",
       "26      39.000000\n",
       "27      24.000000\n",
       "28      31.200000\n",
       "29      34.666667\n",
       "30      26.181818\n",
       "          ...    \n",
       "1124    10.645161\n",
       "1125    19.312500\n",
       "1126    20.800000\n",
       "1127    15.000000\n",
       "1128    14.571429\n",
       "1129    18.857143\n",
       "1130     9.913043\n",
       "1131     9.000000\n",
       "1132    13.411765\n",
       "1133    30.260870\n",
       "1134    22.312500\n",
       "1135    10.500000\n",
       "1136     9.428571\n",
       "1137    16.400000\n",
       "1138    22.875000\n",
       "1139     7.090909\n",
       "1140    12.000000\n",
       "1141    12.300000\n",
       "1142    14.400000\n",
       "1144    23.454545\n",
       "1145     9.333333\n",
       "1146     6.960000\n",
       "1147    12.545455\n",
       "1148    12.000000\n",
       "1149    12.000000\n",
       "1150     6.000000\n",
       "1151    13.000000\n",
       "1152    27.771429\n",
       "1153    21.333333\n",
       "1154    28.077670\n",
       "Name: Speed_KM, Length: 653, dtype: float64"
      ]
     },
     "execution_count": 55,
     "metadata": {},
     "output_type": "execute_result"
    }
   ],
   "source": [
    "# calculate trip speed for each trip\n",
    "uber_drives['Duration_hours'] = uber_drives['DIFF'] / 60\n",
    "uber_drives['Speed_KM'] = uber_drives['MILES*'] / uber_drives['Duration_hours']\n",
    "uber_drives['Speed_KM']"
   ]
  },
  {
   "cell_type": "code",
   "execution_count": 56,
   "metadata": {},
   "outputs": [
    {
     "name": "stdout",
     "output_type": "stream",
     "text": [
      "<class 'pandas.core.frame.DataFrame'>\n",
      "Int64Index: 653 entries, 0 to 1154\n",
      "Data columns (total 10 columns):\n",
      "START_DATE*       653 non-null datetime64[ns]\n",
      "END_DATE*         653 non-null datetime64[ns]\n",
      "CATEGORY*         653 non-null object\n",
      "START*            653 non-null object\n",
      "STOP*             653 non-null object\n",
      "MILES*            653 non-null float64\n",
      "PURPOSE*          653 non-null object\n",
      "DIFF              653 non-null float64\n",
      "Duration_hours    653 non-null float64\n",
      "Speed_KM          653 non-null float64\n",
      "dtypes: datetime64[ns](2), float64(4), object(4)\n",
      "memory usage: 56.1+ KB\n"
     ]
    },
    {
     "data": {
      "text/plain": [
       "array(['Meal/Entertain', 'Errand/Supplies', 'Meeting', 'Customer Visit',\n",
       "       'Temporary Site', 'Between Offices', 'Charity ($)', 'Commute',\n",
       "       'Moving', 'Airport/Travel'], dtype=object)"
      ]
     },
     "execution_count": 56,
     "metadata": {},
     "output_type": "execute_result"
    }
   ],
   "source": [
    "#4. Purpose\n",
    "uber_drives.info()\n",
    "uber_drives['PURPOSE*'].unique()\n"
   ]
  },
  {
   "cell_type": "code",
   "execution_count": 57,
   "metadata": {},
   "outputs": [
    {
     "data": {
      "image/png": "[encoded data removed]",
      "text/plain": [
       "<Figure size 432x288 with 1 Axes>"
      ]
     },
     "metadata": {},
     "output_type": "display_data"
    }
   ],
   "source": [
    "# Proportion of distance spent for each activities\n",
    "purpose = set(uber_drives['PURPOSE*'])\n",
    "total_dist = []\n",
    "\n",
    "for i in purpose:\n",
    "    temp = uber_drives[uber_drives['PURPOSE*'] == i]\n",
    "    total_dist.append(sum(temp['MILES*']))\n",
    "\n",
    "df = pd.DataFrame(total_dist, index = purpose, columns = pd.Index(['Distance']))\n",
    "df.plot(kind='bar')\n",
    "plt.show()"
   ]
  },
  {
   "cell_type": "code",
   "execution_count": 58,
   "metadata": {},
   "outputs": [
    {
     "name": "stdout",
     "output_type": "stream",
     "text": [
      "Business    647\n",
      "Personal      6\n",
      "Name: CATEGORY*, dtype: int64\n"
     ]
    },
    {
     "data": {
      "text/plain": [
       "<matplotlib.axes._subplots.AxesSubplot at 0x29de9efe4e0>"
      ]
     },
     "execution_count": 58,
     "metadata": {},
     "output_type": "execute_result"
    },
    {
     "data": {
      "image/png": "[encoded data removed]",
      "text/plain": [
       "<Figure size 432x288 with 1 Axes>"
      ]
     },
     "metadata": {},
     "output_type": "display_data"
    }
   ],
   "source": [
    "# plot number of trip at each category\n",
    "x = uber_drives['CATEGORY*'].value_counts()\n",
    "print(x)\n",
    "x.plot(kind = 'bar')"
   ]
  },
  {
   "cell_type": "markdown",
   "metadata": {},
   "source": [
    "Now lets try to answer some questions from this data.\n",
    "\n",
    "Question1: How many miles was earned per category and purpose ?\n",
    "\n",
    "Question2: What is percentage of business miles vs personal?\n",
    "\n",
    "Question3: How much time was spend for drives per category and purpose? \n"
   ]
  },
  {
   "cell_type": "code",
   "execution_count": 59,
   "metadata": {},
   "outputs": [
    {
     "data": {
      "image/png": "[encoded data removed]",
      "text/plain": [
       "<Figure size 837.5x720 with 1 Axes>"
      ]
     },
     "metadata": {},
     "output_type": "display_data"
    }
   ],
   "source": [
    "#Question 1\n",
    "g = sns.factorplot(x=\"CATEGORY*\", y=\"MILES*\", hue=\"PURPOSE*\", data=uber_drives,\n",
    "                   size=10, kind=\"bar\", palette=\"muted\")\n",
    "#from the graph is clearly seen that the main contributors for miles are:\n",
    "#in Business category: meetings and customer; private: commute and charity "
   ]
  },
  {
   "cell_type": "code",
   "execution_count": 60,
   "metadata": {},
   "outputs": [
    {
     "data": {
      "text/plain": [
       "CATEGORY*\n",
       "Business    0.970798\n",
       "Personal    0.029202\n",
       "Name: MILES*, dtype: float64"
      ]
     },
     "execution_count": 60,
     "metadata": {},
     "output_type": "execute_result"
    }
   ],
   "source": [
    "#Question2:\n",
    "df = uber_drives\n",
    "df.groupby(['CATEGORY*'])['MILES*'].sum() / df['MILES*'].sum()\n",
    "#97% of Miles was earned by business trips"
   ]
  },
  {
   "cell_type": "code",
   "execution_count": 61,
   "metadata": {},
   "outputs": [
    {
     "data": {
      "text/plain": [
       "CATEGORY*  PURPOSE*       \n",
       "Business   Airport/Travel       78.0\n",
       "           Between Offices     459.0\n",
       "           Customer Visit     3375.0\n",
       "           Errand/Supplies    1661.0\n",
       "           Meal/Entertain     2580.0\n",
       "           Meeting            5561.0\n",
       "           Temporary Site     1293.0\n",
       "Personal   Charity ($)          27.0\n",
       "           Commute             185.0\n",
       "           Moving               60.0\n",
       "Name: DIFF, dtype: float64"
      ]
     },
     "execution_count": 61,
     "metadata": {},
     "output_type": "execute_result"
    }
   ],
   "source": [
    "#Question3:\n",
    "df.groupby(['CATEGORY*', 'PURPOSE*'])['DIFF'].sum()\n",
    "#the most time spend in the cab for business - meeting/other, personal - commute/other"
   ]
  },
  {
   "cell_type": "code",
   "execution_count": null,
   "metadata": {},
   "outputs": [],
   "source": []
  }
 ],
 "metadata": {
  "kernelspec": {
   "display_name": "Python 3",
   "language": "python",
   "name": "python3"
  },
  "language_info": {
   "codemirror_mode": {
    "name": "ipython",
    "version": 3
   },
   "file_extension": ".py",
   "mimetype": "text/x-python",
   "name": "python",
   "nbconvert_exporter": "python",
   "pygments_lexer": "ipython3",
   "version": "3.6.5"
  }
 },
 "nbformat": 4,
 "nbformat_minor": 2
}
