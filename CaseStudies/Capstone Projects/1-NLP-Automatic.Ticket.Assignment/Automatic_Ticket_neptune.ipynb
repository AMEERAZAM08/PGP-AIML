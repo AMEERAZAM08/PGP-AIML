{
 "cells": [
  {
   "cell_type": "markdown",
   "metadata": {
    "colab_type": "text",
    "id": "8IpM7OD_4VgR"
   },
   "source": [
    "## Abstract:\n",
    "One of the key activities of any IT function is to ensure there is no\n",
    "impact to the Business operations. <b>IT leverages Incident Management process to achieve the\n",
    "above Objective.</b> An incident is something that is unplanned interruption to an IT service or\n",
    "reduction in the quality of an IT service that affects the Users and the Business. <b><i>The main goal\n",
    "of Incident Management process is to provide a quick fix / workarounds or solutions that resolves the interruption and restores the service to its full capacity to ensure no business impact.</i></b>\n",
    "\n",
    "In most of the organizations, incidents are created by various Business and IT Users, End Users/ Vendors if they have access to ticketing systems, and from the integrated monitoring\n",
    "systems and tools. <b>Assigning the incidents to the appropriate person or unit in the support team has critical importance to provide improved user satisfaction while ensuring better allocation of support resources.</b>\n",
    "\n",
    "<i> Manual assignment of incidents is time consuming and requires human efforts. There may be mistakes due to human errors and resource consumption is carried out ineffectively because of the misaddressing. On the other hand, manual assignment increases the response and resolution times which result in user satisfaction deterioration / poor customer service.</i>\n",
    "#### <b>Business Domain Value:</b> \n",
    "In the support process, incoming incidents are analyzed and assessed by organization’s support teams to fulfill the request. In many organizations, better allocation and effective usage of the valuable support resources will directly result in substantial cost savings.\n",
    "\n",
    "Currently the incidents are created by various stakeholders (Business Users, IT Users and Monitoring Tools) within IT Service Management Tool and are assigned to Service Desk teams (L1 / L2 teams). This team will review the incidents for right ticket categorization, priorities and then carry out initial diagnosis to see if they can resolve. Around ~54% of the incidents are resolved by L1 / L2 teams. Incase L1 / L2 is unable to resolve, they will then escalate / assign the tickets to Functional teams from Applications and Infrastructure (L3 teams). Some portions of incidents are directly assigned to L3 teams by either Monitoring tools or Callers / Requestors. L3 teams will carry out detailed diagnosis and resolve the incidents. Around ~56%\n",
    "of incidents are resolved by Functional / L3 teams. Incase if vendor support is needed, they will reach out for their support towards incident closure.\n",
    "\n",
    "L1 / L2 needs to spend time reviewing Standard Operating Procedures (SOPs) before assigning to Functional teams (Minimum ~25-30% of incidents needs to be reviewed for SOPs before ticket assignment). 15 min is being spent for SOP review for each incident. Minimum of ~1 FTE effort needed only for incident assignment to L3 teams. During the process of incident assignments by L1 / L2 teams to functional groups, there were multiple instances of incidents getting assigned to wrong functional groups. Around ~25% of Incidents are wrongly assigned to functional teams. Additional effort needed for Functional teams to re-assign to right functional groups. During this process, some of the incidents are in queue and not addressed timely resulting in poor customer service.\n",
    "\n",
    "## Objective:\n",
    "### Build Multi-Class classifier that can classify the tickets by analysing text.###\n",
    "Guided by powerful AI techniques that can classify incidents to right functional groups can help organizations to reduce the resolving time of the issue and can focus on more productive tasks.\n",
    "### Milestones\n",
    "1. Milestone 1: Pre-Processing, Data Visualisation and EDA\n",
    "  1. Exploring the given Data files\n",
    "  2. Understanding the structure of data\n",
    "  3. Missing points in data\n",
    "  4. Finding inconsistencies in the data\n",
    "  5. Visualizing different patterns\n",
    "  6. Visualizing different text features\n",
    "  7. Dealing with missing values\n",
    "  8. Text preprocessing\n",
    "  9. Creating word vocabulary from the corpus of report text data\n",
    "  10. Creating tokens as required\n",
    "\n",
    "2. Milestone 2: Model Building\n",
    "  1. Building a model architecture which can classify.\n",
    "  2. Trying different model architectures by researching state of the art for similar tasks.\n",
    "  3. Train the model\n",
    "  4. To deal with large training time, save the weights so that you can use them when training the model for the second time without starting from scratch.\n",
    "\n",
    "3. Milestone 3: Test the Model, Fine-tuning and Repeat\n",
    "  1. Test the model and report as per evaluation metrics\n",
    "  2. Try different models\n",
    "  3. Try different evaluation metrics\n",
    "  4. Set different hyper parameters, by trying different optimizers, loss functions, epochs, learning rate, batch size, checkpointing, early stopping etc..for these models to fine-tune them\n",
    "  5. Report evaluation metrics for these models along with your observation on how changing different hyper parameters leads to change in the final evaluation metric.\n",
    "---\n",
    "\n",
    "### Imports and Configurations\n",
    "Section to import all necessary packages. Install the libraries which are not included in Anaconda distribution by default using pypi channel or conda forge\n",
    "**``!pip install ftfy wordcloud goslate googletrans translate``**<br/>\n",
    "**``conda install -c conda-forge ftfy wordcloud goslate googletrans translate``**"
   ]
  },
  {
   "cell_type": "code",
   "execution_count": 1,
   "metadata": {
    "colab": {
     "base_uri": "https://localhost:8080/",
     "height": 141
    },
    "colab_type": "code",
    "executionInfo": {
     "elapsed": 4171,
     "status": "ok",
     "timestamp": 1581763581654,
     "user": {
      "displayName": "Akshaya Kumar Das",
      "photoUrl": "https://lh3.googleusercontent.com/a-/AAuE7mDs6ySnlrHQHuOg_R9k9-7RhVHCirW6cJVee9fP9w=s64",
      "userId": "00274796301986976222"
     },
     "user_tz": -330
    },
    "id": "i36HxQTpWNon",
    "outputId": "334d3693-35fc-4b63-cb15-32ae3a7a3d40"
   },
   "outputs": [
    {
     "name": "stdout",
     "output_type": "stream",
     "text": [
      "Requirement already satisfied: wordcloud in /usr/local/lib/python3.6/dist-packages (1.5.0)\n",
      "Requirement already satisfied: ftfy in /usr/local/lib/python3.6/dist-packages (5.6)\n",
      "Requirement already satisfied: goslate in /usr/local/lib/python3.6/dist-packages (1.5.1)\n",
      "Requirement already satisfied: numpy>=1.6.1 in /usr/local/lib/python3.6/dist-packages (from wordcloud) (1.17.5)\n",
      "Requirement already satisfied: pillow in /usr/local/lib/python3.6/dist-packages (from wordcloud) (6.2.2)\n",
      "Requirement already satisfied: wcwidth in /usr/local/lib/python3.6/dist-packages (from ftfy) (0.1.8)\n",
      "Requirement already satisfied: futures in /usr/local/lib/python3.6/dist-packages (from goslate) (3.1.1)\n"
     ]
    }
   ],
   "source": [
    "!pip install wordcloud ftfy goslate"
   ]
  },
  {
   "cell_type": "code",
   "execution_count": 2,
   "metadata": {
    "colab": {
     "base_uri": "https://localhost:8080/",
     "height": 243
    },
    "colab_type": "code",
    "executionInfo": {
     "elapsed": 7212,
     "status": "ok",
     "timestamp": 1581763584711,
     "user": {
      "displayName": "Akshaya Kumar Das",
      "photoUrl": "https://lh3.googleusercontent.com/a-/AAuE7mDs6ySnlrHQHuOg_R9k9-7RhVHCirW6cJVee9fP9w=s64",
      "userId": "00274796301986976222"
     },
     "user_tz": -330
    },
    "id": "WiZF13Fo3GyJ",
    "outputId": "12d45c0f-dd4b-4fee-f79b-576b4c995cd4"
   },
   "outputs": [
    {
     "name": "stderr",
     "output_type": "stream",
     "text": [
      "Using TensorFlow backend.\n"
     ]
    },
    {
     "data": {
      "text/html": [
       "<p style=\"color: red;\">\n",
       "The default version of TensorFlow in Colab will soon switch to TensorFlow 2.x.<br>\n",
       "We recommend you <a href=\"https://www.tensorflow.org/guide/migrate\" target=\"_blank\">upgrade</a> now \n",
       "or ensure your notebook will continue to use TensorFlow 1.x via the <code>%tensorflow_version 1.x</code> magic:\n",
       "<a href=\"https://colab.research.google.com/notebooks/tensorflow_version.ipynb\" target=\"_blank\">more info</a>.</p>\n"
      ],
      "text/plain": [
       "<IPython.core.display.HTML object>"
      ]
     },
     "metadata": {
      "tags": []
     },
     "output_type": "display_data"
    },
    {
     "name": "stderr",
     "output_type": "stream",
     "text": [
      "/usr/local/lib/python3.6/dist-packages/sklearn/externals/six.py:31: FutureWarning:\n",
      "\n",
      "The module is deprecated in version 0.21 and will be removed in version 0.23 since we've dropped support for Python 2.7. Please rely on the official version of six (https://pypi.org/project/six/).\n",
      "\n",
      "/usr/local/lib/python3.6/dist-packages/sklearn/utils/deprecation.py:144: FutureWarning:\n",
      "\n",
      "The sklearn.neighbors.base module is  deprecated in version 0.22 and will be removed in version 0.24. The corresponding classes / functions should instead be imported from sklearn.neighbors. Anything that cannot be imported from sklearn.neighbors is now part of the private API.\n",
      "\n"
     ]
    }
   ],
   "source": [
    "# Utilities\n",
    "from time import time\n",
    "from zipfile import ZipFile\n",
    "import os, sys, itertools, warnings, pickle\n",
    "from ftfy import fix_encoding, fix_text, badness\n",
    "from wordcloud import WordCloud, STOPWORDS, ImageColorGenerator\n",
    "\n",
    "# Translation APIs\n",
    "from goslate import Goslate # Provided by Google\n",
    "\n",
    "# Numerical calculation\n",
    "import numpy as np\n",
    "\n",
    "# Data Handling\n",
    "import pandas as pd\n",
    "\n",
    "# Data Visualization\n",
    "import plotly\n",
    "import matplotlib.pyplot as plt\n",
    "import seaborn as sns\n",
    "\n",
    "# Sequential Modeling\n",
    "import keras.backend as K\n",
    "from keras.datasets import imdb\n",
    "from keras.models import Sequential\n",
    "from keras.layers import Dropout, Flatten, Dense, Embedding, LSTM, TimeDistributed, Conv1D, MaxPooling1D\n",
    "from keras.constraints import max_norm, unit_norm\n",
    "from keras.preprocessing.text import Tokenizer, text_to_word_sequence\n",
    "from keras.preprocessing.sequence import pad_sequences\n",
    "\n",
    "# Tools & Evaluation metrics\n",
    "from sklearn.metrics import confusion_matrix, classification_report, roc_curve, auc, accuracy_score, precision_recall_curve\n",
    "from imblearn.over_sampling import RandomOverSampler\n",
    "\n",
    "# NLP toolkit\n",
    "import nltk\n",
    "from nltk import tokenize"
   ]
  },
  {
   "cell_type": "code",
   "execution_count": 0,
   "metadata": {
    "colab": {},
    "colab_type": "code",
    "id": "OGZ6LAbSWHIg"
   },
   "outputs": [],
   "source": [
    "# Configure for any default setting of any library\n",
    "warnings.filterwarnings('ignore')\n",
    "get_ipython().magic(u'matplotlib inline')\n",
    "plt.style.use('ggplot')"
   ]
  },
  {
   "cell_type": "markdown",
   "metadata": {
    "colab_type": "text",
    "id": "d8wrk8enWHIj"
   },
   "source": [
    "- Extract Glove 6Billion word embeddings. We're going to use the 200d file which has 200 embedding dimensions for each word in the corpus.\n",
    "- Load the bodies and headlines CSVs for both training and test data and join them together individually to form datasets.\n",
    "\n",
    "### Set the working directory\n",
    "Mount the drive and set the project path to cureent working directory, when running in Google Colab. No changes are required in case of running in Local PC."
   ]
  },
  {
   "cell_type": "code",
   "execution_count": 4,
   "metadata": {
    "colab": {
     "base_uri": "https://localhost:8080/",
     "height": 70
    },
    "colab_type": "code",
    "executionInfo": {
     "elapsed": 9447,
     "status": "ok",
     "timestamp": 1581763586966,
     "user": {
      "displayName": "Akshaya Kumar Das",
      "photoUrl": "https://lh3.googleusercontent.com/a-/AAuE7mDs6ySnlrHQHuOg_R9k9-7RhVHCirW6cJVee9fP9w=s64",
      "userId": "00274796301986976222"
     },
     "user_tz": -330
    },
    "id": "8W92PcktWHIk",
    "outputId": "7d38d0ca-a386-45ce-e06d-b1bf22691bdd"
   },
   "outputs": [
    {
     "name": "stdout",
     "output_type": "stream",
     "text": [
      "Mounted at /content/drive/\n",
      "/content/drive/My Drive/Colab Notebooks/DLCP/Capstone-NLP\n",
      "Current working directory /content/drive/My Drive/Colab Notebooks/DLCP/Capstone-NLP\n"
     ]
    }
   ],
   "source": [
    "# Block which runs on both Google Colab and Local PC without any modification\n",
    "if 'google.colab' in sys.modules:    \n",
    "    project_path = \"/content/drive/My Drive/Colab Notebooks/DLCP/Capstone-NLP/\"\n",
    "    # Google Colab lib\n",
    "    from google.colab import drive\n",
    "    # Mount the drive\n",
    "    drive.mount('/content/drive/', force_remount=True)\n",
    "    sys.path.append(project_path)\n",
    "    %cd $project_path\n",
    "\n",
    "# Let's look at the sys path\n",
    "print('Current working directory', os.getcwd())"
   ]
  },
  {
   "cell_type": "markdown",
   "metadata": {
    "colab_type": "text",
    "id": "WiNp2u2zWHIp"
   },
   "source": [
    "### Extract Glove Embeddings\n",
    "- Extract Glove 6Billion word embeddings. We're going to use the 200d file which has 200 embedding dimensions for each word in the corpus."
   ]
  },
  {
   "cell_type": "code",
   "execution_count": 5,
   "metadata": {
    "colab": {
     "base_uri": "https://localhost:8080/",
     "height": 34
    },
    "colab_type": "code",
    "executionInfo": {
     "elapsed": 9431,
     "status": "ok",
     "timestamp": 1581763586967,
     "user": {
      "displayName": "Akshaya Kumar Das",
      "photoUrl": "https://lh3.googleusercontent.com/a-/AAuE7mDs6ySnlrHQHuOg_R9k9-7RhVHCirW6cJVee9fP9w=s64",
      "userId": "00274796301986976222"
     },
     "user_tz": -330
    },
    "id": "FSACBiNaWHIq",
    "outputId": "630385c3-9a06-4a73-ae93-6f7598bf9639"
   },
   "outputs": [
    {
     "data": {
      "text/plain": [
       "['glove.6B.200d.txt']"
      ]
     },
     "execution_count": 5,
     "metadata": {
      "tags": []
     },
     "output_type": "execute_result"
    }
   ],
   "source": [
    "# Check if it is already extracted else Open the zipped file as readonly\n",
    "if not os.path.isfile('glove.6B/glove.6B.200d.txt'):\n",
    "    glove_embeddings = 'glove.6B.zip'\n",
    "    with ZipFile(glove_embeddings, 'r') as archive:\n",
    "        archive.extractall('glove.6B')\n",
    "\n",
    "# List the files under extracted folder\n",
    "os.listdir('glove.6B')"
   ]
  },
  {
   "cell_type": "markdown",
   "metadata": {
    "colab_type": "text",
    "id": "7dW77XV-WHIt"
   },
   "source": [
    "---\n",
    "### Load the dataset"
   ]
  },
  {
   "cell_type": "code",
   "execution_count": 6,
   "metadata": {
    "colab": {
     "base_uri": "https://localhost:8080/",
     "height": 197
    },
    "colab_type": "code",
    "executionInfo": {
     "elapsed": 10681,
     "status": "ok",
     "timestamp": 1581763588233,
     "user": {
      "displayName": "Akshaya Kumar Das",
      "photoUrl": "https://lh3.googleusercontent.com/a-/AAuE7mDs6ySnlrHQHuOg_R9k9-7RhVHCirW6cJVee9fP9w=s64",
      "userId": "00274796301986976222"
     },
     "user_tz": -330
    },
    "id": "KPhEkq0UHdQR",
    "outputId": "42f79d10-6f49-4e1b-9329-5ad16f2a1cd7"
   },
   "outputs": [
    {
     "data": {
      "text/html": [
       "<div>\n",
       "<style scoped>\n",
       "    .dataframe tbody tr th:only-of-type {\n",
       "        vertical-align: middle;\n",
       "    }\n",
       "\n",
       "    .dataframe tbody tr th {\n",
       "        vertical-align: top;\n",
       "    }\n",
       "\n",
       "    .dataframe thead th {\n",
       "        text-align: right;\n",
       "    }\n",
       "</style>\n",
       "<table border=\"1\" class=\"dataframe\">\n",
       "  <thead>\n",
       "    <tr style=\"text-align: right;\">\n",
       "      <th></th>\n",
       "      <th>Short description</th>\n",
       "      <th>Description</th>\n",
       "      <th>Caller</th>\n",
       "      <th>Assignment group</th>\n",
       "    </tr>\n",
       "  </thead>\n",
       "  <tbody>\n",
       "    <tr>\n",
       "      <th>0</th>\n",
       "      <td>login issue</td>\n",
       "      <td>-verified user details.(employee# &amp; manager na...</td>\n",
       "      <td>spxjnwir pjlcoqds</td>\n",
       "      <td>GRP_0</td>\n",
       "    </tr>\n",
       "    <tr>\n",
       "      <th>1</th>\n",
       "      <td>outlook</td>\n",
       "      <td>\\r\\n\\r\\nreceived from: hmjdrvpb.komuaywn@gmail...</td>\n",
       "      <td>hmjdrvpb komuaywn</td>\n",
       "      <td>GRP_0</td>\n",
       "    </tr>\n",
       "    <tr>\n",
       "      <th>2</th>\n",
       "      <td>cant log in to vpn</td>\n",
       "      <td>\\r\\n\\r\\nreceived from: eylqgodm.ybqkwiam@gmail...</td>\n",
       "      <td>eylqgodm ybqkwiam</td>\n",
       "      <td>GRP_0</td>\n",
       "    </tr>\n",
       "    <tr>\n",
       "      <th>3</th>\n",
       "      <td>unable to access hr_tool page</td>\n",
       "      <td>unable to access hr_tool page</td>\n",
       "      <td>xbkucsvz gcpydteq</td>\n",
       "      <td>GRP_0</td>\n",
       "    </tr>\n",
       "    <tr>\n",
       "      <th>4</th>\n",
       "      <td>skype error</td>\n",
       "      <td>skype error</td>\n",
       "      <td>owlgqjme qhcozdfx</td>\n",
       "      <td>GRP_0</td>\n",
       "    </tr>\n",
       "  </tbody>\n",
       "</table>\n",
       "</div>"
      ],
      "text/plain": [
       "               Short description  ... Assignment group\n",
       "0                    login issue  ...            GRP_0\n",
       "1                        outlook  ...            GRP_0\n",
       "2             cant log in to vpn  ...            GRP_0\n",
       "3  unable to access hr_tool page  ...            GRP_0\n",
       "4                   skype error   ...            GRP_0\n",
       "\n",
       "[5 rows x 4 columns]"
      ]
     },
     "execution_count": 6,
     "metadata": {
      "tags": []
     },
     "output_type": "execute_result"
    }
   ],
   "source": [
    "# Load the dataset into a Pandas dataframe called ticket and check the head of the dataset\n",
    "ticket = pd.read_excel('Input Data Synthetic (created but not used in our project).xlsx', )\n",
    "ticket.head()"
   ]
  },
  {
   "cell_type": "code",
   "execution_count": 7,
   "metadata": {
    "colab": {
     "base_uri": "https://localhost:8080/",
     "height": 197
    },
    "colab_type": "code",
    "executionInfo": {
     "elapsed": 10666,
     "status": "ok",
     "timestamp": 1581763588234,
     "user": {
      "displayName": "Akshaya Kumar Das",
      "photoUrl": "https://lh3.googleusercontent.com/a-/AAuE7mDs6ySnlrHQHuOg_R9k9-7RhVHCirW6cJVee9fP9w=s64",
      "userId": "00274796301986976222"
     },
     "user_tz": -330
    },
    "id": "lLEJIl1hWHIx",
    "outputId": "b0ec7fb4-a822-4f7e-d398-d40ecc0888b4"
   },
   "outputs": [
    {
     "data": {
      "text/html": [
       "<div>\n",
       "<style scoped>\n",
       "    .dataframe tbody tr th:only-of-type {\n",
       "        vertical-align: middle;\n",
       "    }\n",
       "\n",
       "    .dataframe tbody tr th {\n",
       "        vertical-align: top;\n",
       "    }\n",
       "\n",
       "    .dataframe thead th {\n",
       "        text-align: right;\n",
       "    }\n",
       "</style>\n",
       "<table border=\"1\" class=\"dataframe\">\n",
       "  <thead>\n",
       "    <tr style=\"text-align: right;\">\n",
       "      <th></th>\n",
       "      <th>Short description</th>\n",
       "      <th>Description</th>\n",
       "      <th>Caller</th>\n",
       "      <th>Assignment group</th>\n",
       "    </tr>\n",
       "  </thead>\n",
       "  <tbody>\n",
       "    <tr>\n",
       "      <th>8495</th>\n",
       "      <td>emails not coming in from zz mail</td>\n",
       "      <td>\\r\\n\\r\\nreceived from: avglmrts.vhqmtiua@gmail...</td>\n",
       "      <td>avglmrts vhqmtiua</td>\n",
       "      <td>GRP_29</td>\n",
       "    </tr>\n",
       "    <tr>\n",
       "      <th>8496</th>\n",
       "      <td>telephony_software issue</td>\n",
       "      <td>telephony_software issue</td>\n",
       "      <td>rbozivdq gmlhrtvp</td>\n",
       "      <td>GRP_0</td>\n",
       "    </tr>\n",
       "    <tr>\n",
       "      <th>8497</th>\n",
       "      <td>vip2: windows password reset for tifpdchb pedx...</td>\n",
       "      <td>vip2: windows password reset for tifpdchb pedx...</td>\n",
       "      <td>oybwdsgx oxyhwrfz</td>\n",
       "      <td>GRP_0</td>\n",
       "    </tr>\n",
       "    <tr>\n",
       "      <th>8498</th>\n",
       "      <td>machine nÃ£o estÃ¡ funcionando</td>\n",
       "      <td>i am unable to access the machine utilities to...</td>\n",
       "      <td>ufawcgob aowhxjky</td>\n",
       "      <td>GRP_62</td>\n",
       "    </tr>\n",
       "    <tr>\n",
       "      <th>8499</th>\n",
       "      <td>an mehreren pc`s lassen sich verschiedene prgr...</td>\n",
       "      <td>an mehreren pc`s lassen sich verschiedene prgr...</td>\n",
       "      <td>kqvbrspl jyzoklfx</td>\n",
       "      <td>GRP_49</td>\n",
       "    </tr>\n",
       "  </tbody>\n",
       "</table>\n",
       "</div>"
      ],
      "text/plain": [
       "                                      Short description  ... Assignment group\n",
       "8495                  emails not coming in from zz mail  ...           GRP_29\n",
       "8496                           telephony_software issue  ...            GRP_0\n",
       "8497  vip2: windows password reset for tifpdchb pedx...  ...            GRP_0\n",
       "8498                     machine nÃ£o estÃ¡ funcionando  ...           GRP_62\n",
       "8499  an mehreren pc`s lassen sich verschiedene prgr...  ...           GRP_49\n",
       "\n",
       "[5 rows x 4 columns]"
      ]
     },
     "execution_count": 7,
     "metadata": {
      "tags": []
     },
     "output_type": "execute_result"
    }
   ],
   "source": [
    "# Check the tail of the dataset\n",
    "ticket.tail()"
   ]
  },
  {
   "cell_type": "markdown",
   "metadata": {
    "colab_type": "text",
    "id": "NUCRreoJWHI0"
   },
   "source": [
    "**Comments**\n",
    "* To take a closer look at the data, pandas library provides **“.head()”** function which returns first five observations and **“.tail()”** function which returns last five observations of the data set.\n",
    "\n",
    "### Inspect the Dataset\n",
    "The dataset is divided into two parts, namely, **feature matrix** and the **response vector**.\n",
    "\n",
    "- Feature matrix contains all the vectors(rows) of dataset in which each vector consists of the value of **dependent features**. In above dataset, features are *Short description*, *Description* and *Caller*.\n",
    "- Response vector contains the value of **class variable**(prediction or output) for each row of feature matrix. In above dataset, the class variable name is *Assignment group*."
   ]
  },
  {
   "cell_type": "code",
   "execution_count": 8,
   "metadata": {
    "colab": {
     "base_uri": "https://localhost:8080/",
     "height": 52
    },
    "colab_type": "code",
    "executionInfo": {
     "elapsed": 10657,
     "status": "ok",
     "timestamp": 1581763588234,
     "user": {
      "displayName": "Akshaya Kumar Das",
      "photoUrl": "https://lh3.googleusercontent.com/a-/AAuE7mDs6ySnlrHQHuOg_R9k9-7RhVHCirW6cJVee9fP9w=s64",
      "userId": "00274796301986976222"
     },
     "user_tz": -330
    },
    "id": "MW_0NkG7WHI1",
    "outputId": "4d63a620-87ec-471e-b31c-0aec1efb31ae"
   },
   "outputs": [
    {
     "name": "stdout",
     "output_type": "stream",
     "text": [
      "No of rows:\u001b[1m 8500 \u001b[0m\n",
      "No of cols:\u001b[1m 4 \u001b[0m\n"
     ]
    }
   ],
   "source": [
    "# Get the shape and size of the dataset\n",
    "print('No of rows:\\033[1m', ticket.shape[0], '\\033[0m')\n",
    "print('No of cols:\\033[1m', ticket.shape[1], '\\033[0m')"
   ]
  },
  {
   "cell_type": "code",
   "execution_count": 9,
   "metadata": {
    "colab": {
     "base_uri": "https://localhost:8080/",
     "height": 176
    },
    "colab_type": "code",
    "executionInfo": {
     "elapsed": 10647,
     "status": "ok",
     "timestamp": 1581763588235,
     "user": {
      "displayName": "Akshaya Kumar Das",
      "photoUrl": "https://lh3.googleusercontent.com/a-/AAuE7mDs6ySnlrHQHuOg_R9k9-7RhVHCirW6cJVee9fP9w=s64",
      "userId": "00274796301986976222"
     },
     "user_tz": -330
    },
    "id": "sbdtY_fZWHI4",
    "outputId": "c4f525a6-ce9f-484d-a8ec-1ccc7d145f08",
    "scrolled": true
   },
   "outputs": [
    {
     "name": "stdout",
     "output_type": "stream",
     "text": [
      "<class 'pandas.core.frame.DataFrame'>\n",
      "RangeIndex: 8500 entries, 0 to 8499\n",
      "Data columns (total 4 columns):\n",
      "Short description    8492 non-null object\n",
      "Description          8499 non-null object\n",
      "Caller               8500 non-null object\n",
      "Assignment group     8500 non-null object\n",
      "dtypes: object(4)\n",
      "memory usage: 265.8+ KB\n"
     ]
    }
   ],
   "source": [
    "# Get more info on it\n",
    "# 1. Name of the columns\n",
    "# 2. Find the data types of each columns\n",
    "# 3. Look for any null/missing values\n",
    "ticket.info()"
   ]
  },
  {
   "cell_type": "code",
   "execution_count": 10,
   "metadata": {
    "colab": {
     "base_uri": "https://localhost:8080/",
     "height": 167
    },
    "colab_type": "code",
    "executionInfo": {
     "elapsed": 10636,
     "status": "ok",
     "timestamp": 1581763588235,
     "user": {
      "displayName": "Akshaya Kumar Das",
      "photoUrl": "https://lh3.googleusercontent.com/a-/AAuE7mDs6ySnlrHQHuOg_R9k9-7RhVHCirW6cJVee9fP9w=s64",
      "userId": "00274796301986976222"
     },
     "user_tz": -330
    },
    "id": "XSKcCAQ4WHI7",
    "outputId": "23890898-822c-496f-80e4-7d8a09d2133f"
   },
   "outputs": [
    {
     "data": {
      "text/html": [
       "<div>\n",
       "<style scoped>\n",
       "    .dataframe tbody tr th:only-of-type {\n",
       "        vertical-align: middle;\n",
       "    }\n",
       "\n",
       "    .dataframe tbody tr th {\n",
       "        vertical-align: top;\n",
       "    }\n",
       "\n",
       "    .dataframe thead th {\n",
       "        text-align: right;\n",
       "    }\n",
       "</style>\n",
       "<table border=\"1\" class=\"dataframe\">\n",
       "  <thead>\n",
       "    <tr style=\"text-align: right;\">\n",
       "      <th></th>\n",
       "      <th>Short description</th>\n",
       "      <th>Description</th>\n",
       "      <th>Caller</th>\n",
       "      <th>Assignment group</th>\n",
       "    </tr>\n",
       "  </thead>\n",
       "  <tbody>\n",
       "    <tr>\n",
       "      <th>count</th>\n",
       "      <td>8492</td>\n",
       "      <td>8499</td>\n",
       "      <td>8500</td>\n",
       "      <td>8500</td>\n",
       "    </tr>\n",
       "    <tr>\n",
       "      <th>unique</th>\n",
       "      <td>7481</td>\n",
       "      <td>7817</td>\n",
       "      <td>2950</td>\n",
       "      <td>74</td>\n",
       "    </tr>\n",
       "    <tr>\n",
       "      <th>top</th>\n",
       "      <td>password reset</td>\n",
       "      <td>the</td>\n",
       "      <td>bpctwhsn kzqsbmtp</td>\n",
       "      <td>GRP_0</td>\n",
       "    </tr>\n",
       "    <tr>\n",
       "      <th>freq</th>\n",
       "      <td>38</td>\n",
       "      <td>56</td>\n",
       "      <td>810</td>\n",
       "      <td>3976</td>\n",
       "    </tr>\n",
       "  </tbody>\n",
       "</table>\n",
       "</div>"
      ],
      "text/plain": [
       "       Short description Description             Caller Assignment group\n",
       "count               8492        8499               8500             8500\n",
       "unique              7481        7817               2950               74\n",
       "top       password reset         the  bpctwhsn kzqsbmtp            GRP_0\n",
       "freq                  38          56                810             3976"
      ]
     },
     "execution_count": 10,
     "metadata": {
      "tags": []
     },
     "output_type": "execute_result"
    }
   ],
   "source": [
    "# Describe the dataset with various summary and statistics\n",
    "ticket.describe()"
   ]
  },
  {
   "cell_type": "code",
   "execution_count": 11,
   "metadata": {
    "colab": {
     "base_uri": "https://localhost:8080/",
     "height": 197
    },
    "colab_type": "code",
    "executionInfo": {
     "elapsed": 10577,
     "status": "ok",
     "timestamp": 1581763588236,
     "user": {
      "displayName": "Akshaya Kumar Das",
      "photoUrl": "https://lh3.googleusercontent.com/a-/AAuE7mDs6ySnlrHQHuOg_R9k9-7RhVHCirW6cJVee9fP9w=s64",
      "userId": "00274796301986976222"
     },
     "user_tz": -330
    },
    "id": "B60zhFrDWHI-",
    "outputId": "953667b3-2e70-45f2-9deb-988b0041ff27"
   },
   "outputs": [
    {
     "data": {
      "text/html": [
       "<div>\n",
       "<style scoped>\n",
       "    .dataframe tbody tr th:only-of-type {\n",
       "        vertical-align: middle;\n",
       "    }\n",
       "\n",
       "    .dataframe tbody tr th {\n",
       "        vertical-align: top;\n",
       "    }\n",
       "\n",
       "    .dataframe thead th {\n",
       "        text-align: right;\n",
       "    }\n",
       "</style>\n",
       "<table border=\"1\" class=\"dataframe\">\n",
       "  <thead>\n",
       "    <tr style=\"text-align: right;\">\n",
       "      <th></th>\n",
       "      <th>Short description</th>\n",
       "      <th>Description</th>\n",
       "      <th>Caller</th>\n",
       "      <th>Assignment group</th>\n",
       "    </tr>\n",
       "  </thead>\n",
       "  <tbody>\n",
       "    <tr>\n",
       "      <th>1049</th>\n",
       "      <td>reset passwords for soldfnbq uhnbsvqd using pa...</td>\n",
       "      <td>the</td>\n",
       "      <td>soldfnbq uhnbsvqd</td>\n",
       "      <td>GRP_17</td>\n",
       "    </tr>\n",
       "    <tr>\n",
       "      <th>1054</th>\n",
       "      <td>reset passwords for fygrwuna gomcekzi using pa...</td>\n",
       "      <td>the</td>\n",
       "      <td>fygrwuna gomcekzi</td>\n",
       "      <td>GRP_17</td>\n",
       "    </tr>\n",
       "    <tr>\n",
       "      <th>1144</th>\n",
       "      <td>reset passwords for wvdxnkhf jirecvta using pa...</td>\n",
       "      <td>the</td>\n",
       "      <td>wvdxnkhf jirecvta</td>\n",
       "      <td>GRP_17</td>\n",
       "    </tr>\n",
       "    <tr>\n",
       "      <th>1184</th>\n",
       "      <td>reset passwords for pxvjczdt kizsjfpq using pa...</td>\n",
       "      <td>the</td>\n",
       "      <td>pxvjczdt kizsjfpq</td>\n",
       "      <td>GRP_17</td>\n",
       "    </tr>\n",
       "    <tr>\n",
       "      <th>1292</th>\n",
       "      <td>reset passwords for cubdsrml znewqgop using pa...</td>\n",
       "      <td>the</td>\n",
       "      <td>cubdsrml znewqgop</td>\n",
       "      <td>GRP_17</td>\n",
       "    </tr>\n",
       "  </tbody>\n",
       "</table>\n",
       "</div>"
      ],
      "text/plain": [
       "                                      Short description  ... Assignment group\n",
       "1049  reset passwords for soldfnbq uhnbsvqd using pa...  ...           GRP_17\n",
       "1054  reset passwords for fygrwuna gomcekzi using pa...  ...           GRP_17\n",
       "1144  reset passwords for wvdxnkhf jirecvta using pa...  ...           GRP_17\n",
       "1184  reset passwords for pxvjczdt kizsjfpq using pa...  ...           GRP_17\n",
       "1292  reset passwords for cubdsrml znewqgop using pa...  ...           GRP_17\n",
       "\n",
       "[5 rows x 4 columns]"
      ]
     },
     "execution_count": 11,
     "metadata": {
      "tags": []
     },
     "output_type": "execute_result"
    }
   ],
   "source": [
    "# Check the Short description of tickets having Description as only 'the'\n",
    "ticket[ticket.Description == 'the'].head()"
   ]
  },
  {
   "cell_type": "code",
   "execution_count": 12,
   "metadata": {
    "colab": {
     "base_uri": "https://localhost:8080/",
     "height": 105
    },
    "colab_type": "code",
    "executionInfo": {
     "elapsed": 10564,
     "status": "ok",
     "timestamp": 1581763588236,
     "user": {
      "displayName": "Akshaya Kumar Das",
      "photoUrl": "https://lh3.googleusercontent.com/a-/AAuE7mDs6ySnlrHQHuOg_R9k9-7RhVHCirW6cJVee9fP9w=s64",
      "userId": "00274796301986976222"
     },
     "user_tz": -330
    },
    "id": "GD7r8zXgWHJA",
    "outputId": "36dc96d7-866a-422e-8dd6-b3f50a49a405"
   },
   "outputs": [
    {
     "data": {
      "text/plain": [
       "Short description    8\n",
       "Description          1\n",
       "Caller               0\n",
       "Assignment group     0\n",
       "dtype: int64"
      ]
     },
     "execution_count": 12,
     "metadata": {
      "tags": []
     },
     "output_type": "execute_result"
    }
   ],
   "source": [
    "# Find out the null value counts in each column\n",
    "ticket.isnull().sum()"
   ]
  },
  {
   "cell_type": "markdown",
   "metadata": {
    "colab_type": "text",
    "id": "8zMIhgDbWHJD"
   },
   "source": [
    "**Observations**\n",
    "- The dataset comprises of **8500 rows** and **4 columns**\n",
    "- All columns are of type object containing textual information.\n",
    "- There are **8 null/missing values** present in the Short description and **1 null/missing values** present in the description column\n",
    "- **Password reset** is one of the most occuring tickets which reflects in the Short description column.\n",
    "- The top occuring Description in the dataset is only the text **'the'**, which absolutely doesn't make any sense. hence by looking at the Short description of such rows reveals that these are also a category of Password reset.\n",
    "\n",
    "### NULL treatment"
   ]
  },
  {
   "cell_type": "code",
   "execution_count": 13,
   "metadata": {
    "colab": {
     "base_uri": "https://localhost:8080/",
     "height": 317
    },
    "colab_type": "code",
    "executionInfo": {
     "elapsed": 10557,
     "status": "ok",
     "timestamp": 1581763588237,
     "user": {
      "displayName": "Akshaya Kumar Das",
      "photoUrl": "https://lh3.googleusercontent.com/a-/AAuE7mDs6ySnlrHQHuOg_R9k9-7RhVHCirW6cJVee9fP9w=s64",
      "userId": "00274796301986976222"
     },
     "user_tz": -330
    },
    "id": "e3e7whWlWHJE",
    "outputId": "88893360-8d2d-4c35-b171-9cb1c2f8bc96"
   },
   "outputs": [
    {
     "data": {
      "text/html": [
       "<div>\n",
       "<style scoped>\n",
       "    .dataframe tbody tr th:only-of-type {\n",
       "        vertical-align: middle;\n",
       "    }\n",
       "\n",
       "    .dataframe tbody tr th {\n",
       "        vertical-align: top;\n",
       "    }\n",
       "\n",
       "    .dataframe thead th {\n",
       "        text-align: right;\n",
       "    }\n",
       "</style>\n",
       "<table border=\"1\" class=\"dataframe\">\n",
       "  <thead>\n",
       "    <tr style=\"text-align: right;\">\n",
       "      <th></th>\n",
       "      <th>Short description</th>\n",
       "      <th>Description</th>\n",
       "      <th>Caller</th>\n",
       "      <th>Assignment group</th>\n",
       "    </tr>\n",
       "  </thead>\n",
       "  <tbody>\n",
       "    <tr>\n",
       "      <th>2604</th>\n",
       "      <td>NaN</td>\n",
       "      <td>\\r\\n\\r\\nreceived from: ohdrnswl.rezuibdt@gmail...</td>\n",
       "      <td>ohdrnswl rezuibdt</td>\n",
       "      <td>GRP_34</td>\n",
       "    </tr>\n",
       "    <tr>\n",
       "      <th>3383</th>\n",
       "      <td>NaN</td>\n",
       "      <td>\\r\\n-connected to the user system using teamvi...</td>\n",
       "      <td>qftpazns fxpnytmk</td>\n",
       "      <td>GRP_0</td>\n",
       "    </tr>\n",
       "    <tr>\n",
       "      <th>3906</th>\n",
       "      <td>NaN</td>\n",
       "      <td>-user unable  tologin to vpn.\\r\\n-connected to...</td>\n",
       "      <td>awpcmsey ctdiuqwe</td>\n",
       "      <td>GRP_0</td>\n",
       "    </tr>\n",
       "    <tr>\n",
       "      <th>3910</th>\n",
       "      <td>NaN</td>\n",
       "      <td>-user unable  tologin to vpn.\\r\\n-connected to...</td>\n",
       "      <td>rhwsmefo tvphyura</td>\n",
       "      <td>GRP_0</td>\n",
       "    </tr>\n",
       "    <tr>\n",
       "      <th>3915</th>\n",
       "      <td>NaN</td>\n",
       "      <td>-user unable  tologin to vpn.\\r\\n-connected to...</td>\n",
       "      <td>hxripljo efzounig</td>\n",
       "      <td>GRP_0</td>\n",
       "    </tr>\n",
       "    <tr>\n",
       "      <th>3921</th>\n",
       "      <td>NaN</td>\n",
       "      <td>-user unable  tologin to vpn.\\r\\n-connected to...</td>\n",
       "      <td>cziadygo veiosxby</td>\n",
       "      <td>GRP_0</td>\n",
       "    </tr>\n",
       "    <tr>\n",
       "      <th>3924</th>\n",
       "      <td>NaN</td>\n",
       "      <td>name:wvqgbdhm fwchqjor\\nlanguage:\\nbrowser:mic...</td>\n",
       "      <td>wvqgbdhm fwchqjor</td>\n",
       "      <td>GRP_0</td>\n",
       "    </tr>\n",
       "    <tr>\n",
       "      <th>4341</th>\n",
       "      <td>NaN</td>\n",
       "      <td>\\r\\n\\r\\nreceived from: eqmuniov.ehxkcbgj@gmail...</td>\n",
       "      <td>eqmuniov ehxkcbgj</td>\n",
       "      <td>GRP_0</td>\n",
       "    </tr>\n",
       "    <tr>\n",
       "      <th>4395</th>\n",
       "      <td>i am locked out of skype</td>\n",
       "      <td>NaN</td>\n",
       "      <td>viyglzfo ajtfzpkb</td>\n",
       "      <td>GRP_0</td>\n",
       "    </tr>\n",
       "  </tbody>\n",
       "</table>\n",
       "</div>"
      ],
      "text/plain": [
       "             Short description  ... Assignment group\n",
       "2604                       NaN  ...           GRP_34\n",
       "3383                       NaN  ...            GRP_0\n",
       "3906                       NaN  ...            GRP_0\n",
       "3910                       NaN  ...            GRP_0\n",
       "3915                       NaN  ...            GRP_0\n",
       "3921                       NaN  ...            GRP_0\n",
       "3924                       NaN  ...            GRP_0\n",
       "4341                       NaN  ...            GRP_0\n",
       "4395  i am locked out of skype  ...            GRP_0\n",
       "\n",
       "[9 rows x 4 columns]"
      ]
     },
     "execution_count": 13,
     "metadata": {
      "tags": []
     },
     "output_type": "execute_result"
    }
   ],
   "source": [
    "# Let's look at the rows with null values\n",
    "ticket[pd.isnull(ticket).any(axis=1)]"
   ]
  },
  {
   "cell_type": "code",
   "execution_count": 14,
   "metadata": {
    "colab": {
     "base_uri": "https://localhost:8080/",
     "height": 47
    },
    "colab_type": "code",
    "executionInfo": {
     "elapsed": 10551,
     "status": "ok",
     "timestamp": 1581763588237,
     "user": {
      "displayName": "Akshaya Kumar Das",
      "photoUrl": "https://lh3.googleusercontent.com/a-/AAuE7mDs6ySnlrHQHuOg_R9k9-7RhVHCirW6cJVee9fP9w=s64",
      "userId": "00274796301986976222"
     },
     "user_tz": -330
    },
    "id": "E9_ArfPHWHJG",
    "outputId": "99fa5b28-8553-4ce8-ea86-a85fbc6aa21c"
   },
   "outputs": [
    {
     "data": {
      "text/html": [
       "<div>\n",
       "<style scoped>\n",
       "    .dataframe tbody tr th:only-of-type {\n",
       "        vertical-align: middle;\n",
       "    }\n",
       "\n",
       "    .dataframe tbody tr th {\n",
       "        vertical-align: top;\n",
       "    }\n",
       "\n",
       "    .dataframe thead th {\n",
       "        text-align: right;\n",
       "    }\n",
       "</style>\n",
       "<table border=\"1\" class=\"dataframe\">\n",
       "  <thead>\n",
       "    <tr style=\"text-align: right;\">\n",
       "      <th></th>\n",
       "      <th>Short description</th>\n",
       "      <th>Description</th>\n",
       "      <th>Caller</th>\n",
       "      <th>Assignment group</th>\n",
       "    </tr>\n",
       "  </thead>\n",
       "  <tbody>\n",
       "  </tbody>\n",
       "</table>\n",
       "</div>"
      ],
      "text/plain": [
       "Empty DataFrame\n",
       "Columns: [Short description, Description, Caller, Assignment group]\n",
       "Index: []"
      ]
     },
     "execution_count": 14,
     "metadata": {
      "tags": []
     },
     "output_type": "execute_result"
    }
   ],
   "source": [
    "# NULL replacement\n",
    "ticket.fillna(str(), inplace=True)\n",
    "ticket[pd.isnull(ticket).any(axis=1)]"
   ]
  },
  {
   "cell_type": "code",
   "execution_count": 15,
   "metadata": {
    "colab": {
     "base_uri": "https://localhost:8080/",
     "height": 105
    },
    "colab_type": "code",
    "executionInfo": {
     "elapsed": 10546,
     "status": "ok",
     "timestamp": 1581763588238,
     "user": {
      "displayName": "Akshaya Kumar Das",
      "photoUrl": "https://lh3.googleusercontent.com/a-/AAuE7mDs6ySnlrHQHuOg_R9k9-7RhVHCirW6cJVee9fP9w=s64",
      "userId": "00274796301986976222"
     },
     "user_tz": -330
    },
    "id": "0g6jMS-JWHJJ",
    "outputId": "a90611b9-5d55-4b39-a715-8138f1423734"
   },
   "outputs": [
    {
     "data": {
      "text/plain": [
       "Short description    0\n",
       "Description          0\n",
       "Caller               0\n",
       "Assignment group     0\n",
       "dtype: int64"
      ]
     },
     "execution_count": 15,
     "metadata": {
      "tags": []
     },
     "output_type": "execute_result"
    }
   ],
   "source": [
    "# verify the replacement\n",
    "ticket.isnull().sum()"
   ]
  },
  {
   "cell_type": "markdown",
   "metadata": {
    "colab_type": "text",
    "id": "YxoaibJiWHJM"
   },
   "source": [
    "**Comments**:\n",
    "- We have various ways of treating the NULL/Missing values in the dataset such as \n",
    "    - Replacing them with empty string \n",
    "    - Replacing them with some default values\n",
    "    - Duplicating the Short description and Description values wherever one of them is Null\n",
    "    - Dropping the records with null/missing values completely.\n",
    "- We're not choosing to drop any record as we don't want to loose any information. And as we're going to concatenate the Short description and Description columns for each record while feeding them into NLP, we neither want to pollute the data by introducing any default values nor bias it by duplicating the description colomns.\n",
    "- Hence our NULL/Missing value treatment replaces the NaN cells with just empty string.\n",
    "\n",
    "### Mojibake \n",
    "[Mojibake](https://en.wikipedia.org/wiki/Mojibake) is the garbled text that is the result of text being decoded using an unintended character encoding. The result is a systematic replacement of symbols with completely unrelated ones, often from a different writing system.<br/>\n",
    "This display may include the generic replacement character (\"�\") in places where the binary representation is considered invalid. A replacement can also involve multiple consecutive symbols, as viewed in one encoding, when the same binary code constitutes one symbol in the other encoding. This is either because of differing constant length encoding (as in Asian 16-bit encodings vs European 8-bit encodings), or the use of variable length encodings (notably UTF-8 and UTF-16). Few such Mojibakes are **¶**, **ç**, **å**, **€**, **æ**, **œ**, **º**, **‡**, **¼**, **¥** etc.\n",
    "\n",
    "As we're dealing with Natural Language and the source of the data is unknown to us, let's run the encoding check to figure out if the dataset is Mojibake impacted.\n",
    "\n",
    "The library **ftfy** (Fixes Text For You) has a greater ability to detect, fix and deal with such Mojibakes. It fixes Unicode that’s broken in various ways. The goal of ftfy is to take in bad Unicode and output good Unicode.\n",
    "\n",
    "Installation:<br/>\n",
    "using pypi: **`!pip install ftfy`**<br/>\n",
    "using conda: **`conda install -c conda-forge ftfy`**"
   ]
  },
  {
   "cell_type": "code",
   "execution_count": 16,
   "metadata": {
    "colab": {
     "base_uri": "https://localhost:8080/",
     "height": 406
    },
    "colab_type": "code",
    "executionInfo": {
     "elapsed": 11343,
     "status": "ok",
     "timestamp": 1581763589043,
     "user": {
      "displayName": "Akshaya Kumar Das",
      "photoUrl": "https://lh3.googleusercontent.com/a-/AAuE7mDs6ySnlrHQHuOg_R9k9-7RhVHCirW6cJVee9fP9w=s64",
      "userId": "00274796301986976222"
     },
     "user_tz": -330
    },
    "id": "GlqmSEyKWHJN",
    "outputId": "a5b97fe4-d867-4cbf-cbe7-588248d55981"
   },
   "outputs": [
    {
     "data": {
      "text/html": [
       "<div>\n",
       "<style scoped>\n",
       "    .dataframe tbody tr th:only-of-type {\n",
       "        vertical-align: middle;\n",
       "    }\n",
       "\n",
       "    .dataframe tbody tr th {\n",
       "        vertical-align: top;\n",
       "    }\n",
       "\n",
       "    .dataframe thead th {\n",
       "        text-align: right;\n",
       "    }\n",
       "</style>\n",
       "<table border=\"1\" class=\"dataframe\">\n",
       "  <thead>\n",
       "    <tr style=\"text-align: right;\">\n",
       "      <th></th>\n",
       "      <th>Short description</th>\n",
       "      <th>Description</th>\n",
       "      <th>Caller</th>\n",
       "      <th>Assignment group</th>\n",
       "    </tr>\n",
       "  </thead>\n",
       "  <tbody>\n",
       "    <tr>\n",
       "      <th>99</th>\n",
       "      <td>password expiry tomorrow</td>\n",
       "      <td>\\n\\nreceived from: ecprjbod.litmjwsy@gmail.com...</td>\n",
       "      <td>ecprjbod litmjwsy</td>\n",
       "      <td>GRP_0</td>\n",
       "    </tr>\n",
       "    <tr>\n",
       "      <th>116</th>\n",
       "      <td>server issues</td>\n",
       "      <td>\\r\\n\\r\\nreceived from: bgqpotek.cuxakvml@gmail...</td>\n",
       "      <td>bgqpotek cuxakvml</td>\n",
       "      <td>GRP_0</td>\n",
       "    </tr>\n",
       "    <tr>\n",
       "      <th>124</th>\n",
       "      <td>mobile device activation</td>\n",
       "      <td>from: tvcdfqgp nrbcqwgj \\nsent: friday, octobe...</td>\n",
       "      <td>tvcdfqgp nrbcqwgj</td>\n",
       "      <td>GRP_0</td>\n",
       "    </tr>\n",
       "    <tr>\n",
       "      <th>164</th>\n",
       "      <td>æ’¤å›ž: ticket_no1564867 -- comments added</td>\n",
       "      <td>\\n\\nreceived from: abcdri@company.com\\n\\nwindy...</td>\n",
       "      <td>tycludks cjofwigv</td>\n",
       "      <td>GRP_0</td>\n",
       "    </tr>\n",
       "    <tr>\n",
       "      <th>170</th>\n",
       "      <td>[urgent!!] delivery note creation request!!</td>\n",
       "      <td>\\n\\nreceived from: fbvpcytz.nokypgvx@gmail.com...</td>\n",
       "      <td>fbvpcytz nokypgvx</td>\n",
       "      <td>GRP_18</td>\n",
       "    </tr>\n",
       "    <tr>\n",
       "      <th>...</th>\n",
       "      <td>...</td>\n",
       "      <td>...</td>\n",
       "      <td>...</td>\n",
       "      <td>...</td>\n",
       "    </tr>\n",
       "    <tr>\n",
       "      <th>8470</th>\n",
       "      <td>please review your recent ticketing_tool ticke...</td>\n",
       "      <td>from: mikhghytr wafglhdrhjop \\nsent: thursday,...</td>\n",
       "      <td>azxhejvq fyemlavd</td>\n",
       "      <td>GRP_16</td>\n",
       "    </tr>\n",
       "    <tr>\n",
       "      <th>8471</th>\n",
       "      <td>ç”µè„‘å¼€æœºå¼€ä¸å‡ºæ¥</td>\n",
       "      <td>to å°è´ºï¼Œæ—©ä¸Šç”µè„‘å¼€æœºå¼€ä¸å‡ºæ¥</td>\n",
       "      <td>xqyjztnm onfusvlz</td>\n",
       "      <td>GRP_30</td>\n",
       "    </tr>\n",
       "    <tr>\n",
       "      <th>8480</th>\n",
       "      <td>customer group enhanced field</td>\n",
       "      <td>\\r\\n\\r\\nreceived from: nlearzwi.ukdzstwi@gmail...</td>\n",
       "      <td>nlearzwi ukdzstwi</td>\n",
       "      <td>GRP_9</td>\n",
       "    </tr>\n",
       "    <tr>\n",
       "      <th>8498</th>\n",
       "      <td>machine nÃ£o estÃ¡ funcionando</td>\n",
       "      <td>i am unable to access the machine utilities to...</td>\n",
       "      <td>ufawcgob aowhxjky</td>\n",
       "      <td>GRP_62</td>\n",
       "    </tr>\n",
       "    <tr>\n",
       "      <th>8499</th>\n",
       "      <td>an mehreren pc`s lassen sich verschiedene prgr...</td>\n",
       "      <td>an mehreren pc`s lassen sich verschiedene prgr...</td>\n",
       "      <td>kqvbrspl jyzoklfx</td>\n",
       "      <td>GRP_49</td>\n",
       "    </tr>\n",
       "  </tbody>\n",
       "</table>\n",
       "<p>828 rows × 4 columns</p>\n",
       "</div>"
      ],
      "text/plain": [
       "                                      Short description  ... Assignment group\n",
       "99                             password expiry tomorrow  ...            GRP_0\n",
       "116                                       server issues  ...            GRP_0\n",
       "124                            mobile device activation  ...            GRP_0\n",
       "164          æ’¤å›ž: ticket_no1564867 -- comments added  ...            GRP_0\n",
       "170        [urgent!!] delivery note creation request!!   ...           GRP_18\n",
       "...                                                 ...  ...              ...\n",
       "8470  please review your recent ticketing_tool ticke...  ...           GRP_16\n",
       "8471                           ç”µè„‘å¼€æœºå¼€ä¸å‡ºæ¥  ...           GRP_30\n",
       "8480                      customer group enhanced field  ...            GRP_9\n",
       "8498                     machine nÃ£o estÃ¡ funcionando  ...           GRP_62\n",
       "8499  an mehreren pc`s lassen sich verschiedene prgr...  ...           GRP_49\n",
       "\n",
       "[828 rows x 4 columns]"
      ]
     },
     "execution_count": 16,
     "metadata": {
      "tags": []
     },
     "output_type": "execute_result"
    }
   ],
   "source": [
    "# Write a function to apply to the dataset to detect Mojibakes\n",
    "def is_mojibake_impacted(text):\n",
    "    if not badness.sequence_weirdness(text):\n",
    "        # nothing weird, should be okay\n",
    "        return True\n",
    "    try:\n",
    "        text.encode('sloppy-windows-1252')\n",
    "    except UnicodeEncodeError:\n",
    "        # Not CP-1252 encodable, probably fine\n",
    "        return True\n",
    "    else:\n",
    "        # Encodable as CP-1252, Mojibake alert level high\n",
    "        return False\n",
    "    \n",
    "# Check the dataset for mojibake impact\n",
    "ticket[~ticket.iloc[:,:-1].applymap(is_mojibake_impacted).all(1)]"
   ]
  },
  {
   "cell_type": "code",
   "execution_count": 17,
   "metadata": {
    "colab": {
     "base_uri": "https://localhost:8080/",
     "height": 105
    },
    "colab_type": "code",
    "executionInfo": {
     "elapsed": 11338,
     "status": "ok",
     "timestamp": 1581763589043,
     "user": {
      "displayName": "Akshaya Kumar Das",
      "photoUrl": "https://lh3.googleusercontent.com/a-/AAuE7mDs6ySnlrHQHuOg_R9k9-7RhVHCirW6cJVee9fP9w=s64",
      "userId": "00274796301986976222"
     },
     "user_tz": -330
    },
    "id": "QfbSL07CWHJQ",
    "outputId": "d79d0980-4b62-417a-a38d-afc84030535d"
   },
   "outputs": [
    {
     "name": "stdout",
     "output_type": "stream",
     "text": [
      "Grabled text: \u001b[1mç”µè„‘å¼€æœºå¼€ä¸å‡ºæ¥\u001b[0m\n",
      "Fixed text: \u001b[1m电脑开机开不出来\u001b[0m\n",
      "\n",
      "Mojibake Symbol RegEx:\n",
      " [ÂÃĂ][-€ƒ‚„†‡ˆ‰‹Œ“•˜œŸ¡¢£¤¥¦§¨ª«¬¯°±²³µ¶·¸¹º¼½¾¿ˇ˘˝]|[ÂÃĂ][›»‘”©™]\\w|[¬√][ÄÅÇÉÑÖÜáàâäãåçéèêëíìîïñúùûü†¢£§¶ß®©™≠ÆØ¥ªæø≤≥]|\\w√[±∂]\\w|[ðđ][Ÿ]|â€|вЂ[љћ¦°№™ќ“”]\n"
     ]
    }
   ],
   "source": [
    "# Take an example of row# 8471 Short Desc and fix it\n",
    "print('Grabled text: \\033[1m%s\\033[0m\\nFixed text: \\033[1m%s\\033[0m' % (ticket['Short description'][8471], \n",
    "                                                                        fix_text(ticket['Short description'][8471])))\n",
    "\n",
    "# List all mojibakes defined in ftfy library\n",
    "print('\\nMojibake Symbol RegEx:\\n', badness.MOJIBAKE_SYMBOL_RE.pattern)"
   ]
  },
  {
   "cell_type": "code",
   "execution_count": 18,
   "metadata": {
    "colab": {
     "base_uri": "https://localhost:8080/",
     "height": 105
    },
    "colab_type": "code",
    "executionInfo": {
     "elapsed": 13890,
     "status": "ok",
     "timestamp": 1581763591601,
     "user": {
      "displayName": "Akshaya Kumar Das",
      "photoUrl": "https://lh3.googleusercontent.com/a-/AAuE7mDs6ySnlrHQHuOg_R9k9-7RhVHCirW6cJVee9fP9w=s64",
      "userId": "00274796301986976222"
     },
     "user_tz": -330
    },
    "id": "-QooBMXvWHJS",
    "outputId": "1cbe7ec1-0706-49cc-e744-9696ed8d6b00"
   },
   "outputs": [
    {
     "data": {
      "text/plain": [
       "Short description             电脑开机开不出来\n",
       "Description           to 小贺,早上电脑开机开不出来\n",
       "Caller               xqyjztnm onfusvlz\n",
       "Assignment group                GRP_30\n",
       "Name: 8471, dtype: object"
      ]
     },
     "execution_count": 18,
     "metadata": {
      "tags": []
     },
     "output_type": "execute_result"
    }
   ],
   "source": [
    "# Sanitize the dataset from Mojibakes\n",
    "ticket['Short description'] = ticket['Short description'].apply(fix_text)\n",
    "ticket['Description'] = ticket['Description'].apply(fix_text)\n",
    "\n",
    "# Visualize that row# 8471\n",
    "ticket.iloc[8471,:]"
   ]
  },
  {
   "cell_type": "code",
   "execution_count": 0,
   "metadata": {
    "colab": {},
    "colab_type": "code",
    "id": "1i6HOJPWWHJX"
   },
   "outputs": [],
   "source": [
    "# Serialize the mojibake treated dataset\n",
    "ticket.to_csv('mojibake_encoded.csv',encoding='utf_8_sig')\n",
    "with open('mojibake_treated.pickle', 'wb') as handle:\n",
    "    pickle.dump(ticket, handle, protocol=pickle.HIGHEST_PROTOCOL)"
   ]
  },
  {
   "cell_type": "markdown",
   "metadata": {
    "colab_type": "text",
    "id": "VIAsgbkZWHJa"
   },
   "source": [
    "**Comments:**\n",
    "- `badness.sequence_weirdness()` determines how often a text has unexpected characters or sequences of characters. This metric is used to disambiguate when text should be re-decoded or left as is.\n",
    "- We're successfuly able to get the grabled characters back into their original form using **ftfy.fix_text()``**, however it is observed that the row# 8471 is not English but Mandarine.\n",
    "- So the data in our hand is multilingual and it is quite not possible to derive embeddings for mix of multiple languages. We're going to translate the entire dataset into a single language of English.\n",
    "\n",
    "### Language Translation (Goslate: Free Google Translate API)\n",
    "Goslate is an open source python library that implemented Google Translate API. This uses the [Google Translate Ajax API](https://translate.google.com/) to make calls to such methods as detect and translate. It is choosen over another library Googletrans from Google as Goslate is developed to bypass the ticketing mechanism to prevent simple crawler program to access the Ajax API. Hence Goslate with multiple service urls is able to translate the entire dataset in very few iterations without blocking the user's IP address.\n",
    "\n",
    "Installation:<br/>\n",
    "using pypi: **`!pip install goslate`**<br/>\n",
    "using conda: **`conda install -c conda-forge goslate`**\n",
    "\n",
    "Servicce Urls used:\n",
    "**``translate.google.com``**, **``translate.google.com.au``**, **``translate.google.com.ar``**, **``translate.google.co.kr``**, **``translate.google.co.in``**, **``translate.google.co.jp``**, **``translate.google.at``**, **``translate.google.de``**, **``translate.google.ru``**, **``translate.google.ch``**, **``translate.google.fr``**, **``translate.google.es``**, **``translate.google.ae``**"
   ]
  },
  {
   "cell_type": "code",
   "execution_count": 20,
   "metadata": {
    "colab": {
     "base_uri": "https://localhost:8080/",
     "height": 52
    },
    "colab_type": "code",
    "executionInfo": {
     "elapsed": 14586,
     "status": "ok",
     "timestamp": 1581763592308,
     "user": {
      "displayName": "Akshaya Kumar Das",
      "photoUrl": "https://lh3.googleusercontent.com/a-/AAuE7mDs6ySnlrHQHuOg_R9k9-7RhVHCirW6cJVee9fP9w=s64",
      "userId": "00274796301986976222"
     },
     "user_tz": -330
    },
    "id": "PvitgqP1WHJa",
    "outputId": "a368f8ee-4598-442c-f3bd-3d3320647270"
   },
   "outputs": [
    {
     "name": "stdout",
     "output_type": "stream",
     "text": [
      "Original text: \u001b[1m电脑开机开不出来\u001b[0m\n",
      "Fixed text: \u001b[1mBoot the computer does not really come out\u001b[0m\n"
     ]
    }
   ],
   "source": [
    "# Define and construct the service urls\n",
    "svc_domains = ['.com','.com.au','.com.ar','.co.kr','.co.in','.co.jp','.at','.de','.ru','.ch','.fr','.es','.ae']\n",
    "svc_urls = ['http://translate.google' + domain for domain in svc_domains]\n",
    "\n",
    "# Take an example of row# 8471 Short Desc and fix it\n",
    "gs = Goslate(service_urls=svc_urls)\n",
    "trans_8471 = gs.translate(ticket['Short description'][8471], target_language='en', source_language='auto')\n",
    "print('Original text: \\033[1m%s\\033[0m\\nFixed text: \\033[1m%s\\033[0m' % (ticket['Short description'][8471], trans_8471))"
   ]
  },
  {
   "cell_type": "code",
   "execution_count": 0,
   "metadata": {
    "colab": {},
    "colab_type": "code",
    "id": "78YfunbPWHJd"
   },
   "outputs": [],
   "source": [
    "# List of column data to consider for translation\n",
    "trans_cols = ['Short description','Description']\n",
    "# for idx in range(ticket.shape[0]):\n",
    "#     # Instantiate Goslate class in each iteration\n",
    "#     gs = Goslate(service_urls=svc_urls)\n",
    "#     row_iter = gs.translate(ticket.loc[idx, trans_cols].tolist(), \n",
    "#                             target_language='en', \n",
    "#                             source_language='auto')\n",
    "#     ticket.loc[idx, trans_cols] = list(row_iter)"
   ]
  },
  {
   "cell_type": "code",
   "execution_count": 0,
   "metadata": {
    "colab": {},
    "colab_type": "code",
    "id": "jHeU63qrWHJf"
   },
   "outputs": [],
   "source": [
    "# Serialize the translated dataset\n",
    "# ticket.to_csv('translated_ticket.csv', encoding='utf_8_sig')\n",
    "# with open('translated_ticket.pkl','wb') as f:\n",
    "#     pickle.dump(ticket, f, pickle.HIGHEST_PROTOCOL)"
   ]
  },
  {
   "cell_type": "code",
   "execution_count": 0,
   "metadata": {
    "colab": {},
    "colab_type": "code",
    "id": "KIA45wvSWHJh"
   },
   "outputs": [],
   "source": [
    "# Load the serialized dataset\n",
    "with open('translated_ticket.pkl','rb') as f:\n",
    "    ticket = pickle.load(f)"
   ]
  },
  {
   "cell_type": "code",
   "execution_count": 0,
   "metadata": {
    "colab": {},
    "colab_type": "code",
    "id": "x8JRxdXZWHJk"
   },
   "outputs": [],
   "source": []
  },
  {
   "cell_type": "code",
   "execution_count": 0,
   "metadata": {
    "colab": {},
    "colab_type": "code",
    "id": "DEdISw41WHJm"
   },
   "outputs": [],
   "source": []
  },
  {
   "cell_type": "code",
   "execution_count": 0,
   "metadata": {
    "colab": {},
    "colab_type": "code",
    "id": "NOOHviDNWHJo"
   },
   "outputs": [],
   "source": []
  },
  {
   "cell_type": "code",
   "execution_count": 0,
   "metadata": {
    "colab": {},
    "colab_type": "code",
    "id": "yHK_OuqtWHJq"
   },
   "outputs": [],
   "source": []
  },
  {
   "cell_type": "code",
   "execution_count": 0,
   "metadata": {
    "colab": {
     "base_uri": "https://localhost:8080/",
     "height": 283
    },
    "colab_type": "code",
    "id": "Mc0uaqqlHqP0",
    "outputId": "0f9fae5f-045b-45d0-f5a3-066b24bacc6b"
   },
   "outputs": [
    {
     "data": {
      "text/plain": [
       "<matplotlib.axes._subplots.AxesSubplot at 0x7f462293a208>"
      ]
     },
     "execution_count": 78,
     "metadata": {
      "tags": []
     },
     "output_type": "execute_result"
    },
    {
     "data": {
      "image/png": "[encoded data removed]",
      "text/plain": [
       "<Figure size 432x288 with 1 Axes>"
      ]
     },
     "metadata": {
      "tags": []
     },
     "output_type": "display_data"
    }
   ],
   "source": [
    "ticket['Assignment group'].value_counts().plot()"
   ]
  },
  {
   "cell_type": "code",
   "execution_count": 0,
   "metadata": {
    "colab": {},
    "colab_type": "code",
    "id": "s6qOA4-LIfoP"
   },
   "outputs": [],
   "source": [
    "inc_grps = ticket['Assignment group'].value_counts()"
   ]
  },
  {
   "cell_type": "code",
   "execution_count": 0,
   "metadata": {
    "colab": {
     "base_uri": "https://localhost:8080/",
     "height": 34
    },
    "colab_type": "code",
    "id": "y8e8fLo7T8dP",
    "outputId": "ae78d7da-8995-4258-a380-5b07350a0fea"
   },
   "outputs": [
    {
     "data": {
      "text/plain": [
       "74"
      ]
     },
     "execution_count": 88,
     "metadata": {
      "tags": []
     },
     "output_type": "execute_result"
    }
   ],
   "source": [
    "len(inc_grps)"
   ]
  },
  {
   "cell_type": "code",
   "execution_count": 0,
   "metadata": {
    "colab": {},
    "colab_type": "code",
    "id": "HAtyT3MUSV5W"
   },
   "outputs": [],
   "source": [
    "print(\"Have around 74 unique groups\")"
   ]
  },
  {
   "cell_type": "code",
   "execution_count": 0,
   "metadata": {
    "colab": {
     "base_uri": "https://localhost:8080/",
     "height": 34
    },
    "colab_type": "code",
    "id": "IMHVj-qHIgpR",
    "outputId": "b63d17d4-3cee-42a1-eac7-921b0e83998f"
   },
   "outputs": [
    {
     "data": {
      "text/plain": [
       "Index(['Short description', 'Description', 'Caller', 'Assignment group'], dtype='object')"
      ]
     },
     "execution_count": 97,
     "metadata": {
      "tags": []
     },
     "output_type": "execute_result"
    }
   ],
   "source": [
    "ticket.columns"
   ]
  },
  {
   "cell_type": "code",
   "execution_count": 0,
   "metadata": {
    "colab": {},
    "colab_type": "code",
    "id": "H1GG9e7lT8-f"
   },
   "outputs": [],
   "source": [
    "X = ticket.loc[:,['Short description', 'Description']]\n",
    "y=ticket.iloc[:,3]"
   ]
  },
  {
   "cell_type": "code",
   "execution_count": 0,
   "metadata": {
    "colab": {
     "base_uri": "https://localhost:8080/",
     "height": 68
    },
    "colab_type": "code",
    "id": "0ACt2XhjZPSo",
    "outputId": "f75f7412-99e8-43d3-f086-c24a5cb8c346"
   },
   "outputs": [
    {
     "name": "stdout",
     "output_type": "stream",
     "text": [
      "Total Dataset instances: 8500\n",
      "Total Dataset[X] instances: 8500\n",
      "Total Dataset[y] instances: 8500\n"
     ]
    }
   ],
   "source": [
    "print(\"Total Dataset instances:\", len(ticket))\n",
    "print(\"Total Dataset[X] instances:\", len(X))\n",
    "print(\"Total Dataset[y] instances:\", len(y))"
   ]
  },
  {
   "cell_type": "code",
   "execution_count": 0,
   "metadata": {
    "colab": {
     "base_uri": "https://localhost:8080/",
     "height": 34
    },
    "colab_type": "code",
    "id": "Bvc6Y_ggZzpA",
    "outputId": "6b5cd6d1-7d5c-4d73-8ced-cd54e5809640"
   },
   "outputs": [
    {
     "name": "stdout",
     "output_type": "stream",
     "text": [
      "X Dataset columns: Index(['Short description', 'Description'], dtype='object')\n"
     ]
    }
   ],
   "source": [
    "print(\"X Dataset columns:\", X.columns)"
   ]
  },
  {
   "cell_type": "markdown",
   "metadata": {
    "colab_type": "text",
    "id": "BVt_fgmcadqx"
   },
   "source": [
    "### 'Caller' column does not provide any valid information, hence droping the same"
   ]
  },
  {
   "cell_type": "code",
   "execution_count": 0,
   "metadata": {
    "colab": {
     "base_uri": "https://localhost:8080/",
     "height": 153
    },
    "colab_type": "code",
    "id": "3C3Y3N2UcUOs",
    "outputId": "2782951b-287b-4404-8c41-4aca3243a448"
   },
   "outputs": [
    {
     "name": "stdout",
     "output_type": "stream",
     "text": [
      "Check if any of the columns has NaN values.\n",
      "<class 'pandas.core.frame.DataFrame'>\n",
      "RangeIndex: 8500 entries, 0 to 8499\n",
      "Data columns (total 2 columns):\n",
      "Short description    8492 non-null object\n",
      "Description          8499 non-null object\n",
      "dtypes: object(2)\n",
      "memory usage: 132.9+ KB\n"
     ]
    }
   ],
   "source": [
    "print(\"Check if any of the columns has NaN values.\")\n",
    "X.info()"
   ]
  },
  {
   "cell_type": "code",
   "execution_count": 0,
   "metadata": {
    "colab": {
     "base_uri": "https://localhost:8080/",
     "height": 34
    },
    "colab_type": "code",
    "id": "_JiFHdTIxbhc",
    "outputId": "4d241deb-676d-43dc-e011-d6270b28f9e7"
   },
   "outputs": [
    {
     "name": "stdout",
     "output_type": "stream",
     "text": [
      "Seems like we have 7 records off which Short Description is not given i.e. those are NaN\n"
     ]
    }
   ],
   "source": [
    "print(\"Seems like we have 7 records off which Short Description is not given i.e. those are NaN\")\n",
    "X_cleared = X.fillna(value='')"
   ]
  },
  {
   "cell_type": "code",
   "execution_count": 0,
   "metadata": {
    "colab": {
     "base_uri": "https://localhost:8080/",
     "height": 34
    },
    "colab_type": "code",
    "id": "KxQhRKdMx3dK",
    "outputId": "97548e49-d914-485f-a6d6-5929cb7c8f22"
   },
   "outputs": [
    {
     "name": "stdout",
     "output_type": "stream",
     "text": [
      "Retain a copy of X\n"
     ]
    }
   ],
   "source": [
    "print(\"Retain a copy of X\")\n",
    "X_copy = X.copy()\n",
    "X = X_cleared.copy()"
   ]
  },
  {
   "cell_type": "code",
   "execution_count": 0,
   "metadata": {
    "colab": {
     "base_uri": "https://localhost:8080/",
     "height": 34
    },
    "colab_type": "code",
    "id": "fs_tg1SIz5im",
    "outputId": "512c6fb9-2897-4636-ba10-587e567e9252"
   },
   "outputs": [
    {
     "data": {
      "text/plain": [
       "Index(['Short description', 'Description', 'issue_description'], dtype='object')"
      ]
     },
     "execution_count": 182,
     "metadata": {
      "tags": []
     },
     "output_type": "execute_result"
    }
   ],
   "source": [
    "X.columns"
   ]
  },
  {
   "cell_type": "code",
   "execution_count": 0,
   "metadata": {
    "colab": {
     "base_uri": "https://localhost:8080/",
     "height": 34
    },
    "colab_type": "code",
    "id": "cwc8XAPHcnBr",
    "outputId": "d1426d5f-6364-4fad-842c-7dd4e44c1399"
   },
   "outputs": [
    {
     "name": "stdout",
     "output_type": "stream",
     "text": [
      "Let's combine both 'Short Description' & 'Description'\n"
     ]
    }
   ],
   "source": [
    "print(\"Let's combine both 'Short Description' & 'Description'\")\n",
    "X['issue_description'] = X[\"Short description\"].map(str) + \" . \" + X[\"Description\"].map(str)"
   ]
  },
  {
   "cell_type": "markdown",
   "metadata": {
    "colab_type": "text",
    "id": "0_EEGA_X3xuA"
   },
   "source": [
    "## Short Description and Description Can sometime be SAME like Row 15. Should we remove duplicates?"
   ]
  },
  {
   "cell_type": "code",
   "execution_count": 0,
   "metadata": {
    "colab": {
     "base_uri": "https://localhost:8080/",
     "height": 153
    },
    "colab_type": "code",
    "id": "HGpJetiuwtcb",
    "outputId": "13f2c10b-c271-4743-b711-b7e4724e6393"
   },
   "outputs": [
    {
     "name": "stdout",
     "output_type": "stream",
     "text": [
      "<class 'pandas.core.frame.DataFrame'>\n",
      "RangeIndex: 8500 entries, 0 to 8499\n",
      "Data columns (total 3 columns):\n",
      "Short description    8500 non-null object\n",
      "Description          8500 non-null object\n",
      "issue_description    8500 non-null object\n",
      "dtypes: object(3)\n",
      "memory usage: 199.3+ KB\n"
     ]
    }
   ],
   "source": [
    "X.info()"
   ]
  },
  {
   "cell_type": "code",
   "execution_count": 0,
   "metadata": {
    "colab": {
     "base_uri": "https://localhost:8080/",
     "height": 66
    },
    "colab_type": "code",
    "id": "cGl-abpwunnU",
    "outputId": "65f7dc46-a7cf-41ce-f830-1d6701472a33"
   },
   "outputs": [
    {
     "name": "stdout",
     "output_type": "stream",
     "text": [
      "Check any NaN values\n"
     ]
    },
    {
     "data": {
      "text/html": [
       "<div>\n",
       "<style scoped>\n",
       "    .dataframe tbody tr th:only-of-type {\n",
       "        vertical-align: middle;\n",
       "    }\n",
       "\n",
       "    .dataframe tbody tr th {\n",
       "        vertical-align: top;\n",
       "    }\n",
       "\n",
       "    .dataframe thead th {\n",
       "        text-align: right;\n",
       "    }\n",
       "</style>\n",
       "<table border=\"1\" class=\"dataframe\">\n",
       "  <thead>\n",
       "    <tr style=\"text-align: right;\">\n",
       "      <th></th>\n",
       "      <th>Short description</th>\n",
       "      <th>Description</th>\n",
       "      <th>issue_description</th>\n",
       "    </tr>\n",
       "  </thead>\n",
       "  <tbody>\n",
       "  </tbody>\n",
       "</table>\n",
       "</div>"
      ],
      "text/plain": [
       "Empty DataFrame\n",
       "Columns: [Short description, Description, issue_description]\n",
       "Index: []"
      ]
     },
     "execution_count": 185,
     "metadata": {
      "tags": []
     },
     "output_type": "execute_result"
    }
   ],
   "source": [
    "print(\"Check any NaN values\")\n",
    "X[pd.isnull(X).any(axis=1)]"
   ]
  },
  {
   "cell_type": "code",
   "execution_count": 0,
   "metadata": {
    "colab": {
     "base_uri": "https://localhost:8080/",
     "height": 93
    },
    "colab_type": "code",
    "id": "BebAWSsEaWcR",
    "outputId": "37ea55b9-f0a8-4213-e804-23aa220f794e"
   },
   "outputs": [
    {
     "name": "stdout",
     "output_type": "stream",
     "text": [
      "Resample the Lower numbered Instances:\n"
     ]
    },
    {
     "name": "stderr",
     "output_type": "stream",
     "text": [
      "/usr/local/lib/python3.6/dist-packages/sklearn/utils/deprecation.py:87: FutureWarning: Function safe_indexing is deprecated; safe_indexing is deprecated in version 0.22 and will be removed in version 0.24.\n",
      "  warnings.warn(msg, category=FutureWarning)\n"
     ]
    }
   ],
   "source": [
    "print(\"Resample the Lower numbered Instances:\")\n",
    "ros = RandomOverSampler(random_state=47)\n",
    "X_resampled, y_resampled = ros.fit_resample(X, y)"
   ]
  },
  {
   "cell_type": "code",
   "execution_count": 0,
   "metadata": {
    "colab": {
     "base_uri": "https://localhost:8080/",
     "height": 34
    },
    "colab_type": "code",
    "id": "jYYnQRTycL6k",
    "outputId": "62a4528d-bbce-4a78-8329-266b85446917"
   },
   "outputs": [
    {
     "data": {
      "text/plain": [
       "294224"
      ]
     },
     "execution_count": 187,
     "metadata": {
      "tags": []
     },
     "output_type": "execute_result"
    }
   ],
   "source": [
    "len(y_resampled)"
   ]
  },
  {
   "cell_type": "code",
   "execution_count": 0,
   "metadata": {
    "colab": {},
    "colab_type": "code",
    "id": "Nv3iimCGy8uA"
   },
   "outputs": [],
   "source": [
    "ticket_rmpld = pd.DataFrame(X_resampled, columns=['short_description','description','issue_description'])"
   ]
  },
  {
   "cell_type": "code",
   "execution_count": 0,
   "metadata": {
    "colab": {},
    "colab_type": "code",
    "id": "6W4quwyTzBJI"
   },
   "outputs": [],
   "source": [
    "ticket_rmpld['group'] = y_resampled"
   ]
  },
  {
   "cell_type": "code",
   "execution_count": 0,
   "metadata": {
    "colab": {
     "base_uri": "https://localhost:8080/",
     "height": 283
    },
    "colab_type": "code",
    "id": "bgRWP6gbzgwb",
    "outputId": "85348eaf-7261-48cb-dc4e-2d68035c18f5"
   },
   "outputs": [
    {
     "data": {
      "text/plain": [
       "<matplotlib.axes._subplots.AxesSubplot at 0x7f461ee147f0>"
      ]
     },
     "execution_count": 194,
     "metadata": {
      "tags": []
     },
     "output_type": "execute_result"
    },
    {
     "data": {
      "image/png": "[encoded data removed]",
      "text/plain": [
       "<Figure size 432x288 with 1 Axes>"
      ]
     },
     "metadata": {
      "tags": []
     },
     "output_type": "display_data"
    }
   ],
   "source": [
    "ticket_rmpld['group'].value_counts().plot()"
   ]
  },
  {
   "cell_type": "code",
   "execution_count": 0,
   "metadata": {
    "colab": {
     "base_uri": "https://localhost:8080/",
     "height": 34
    },
    "colab_type": "code",
    "id": "YHZZS6tQ0f8E",
    "outputId": "8b560809-30ec-4678-9e9c-f1bd70d3785a"
   },
   "outputs": [
    {
     "name": "stdout",
     "output_type": "stream",
     "text": [
      "ALL GROUPS  NOW HAVE SAME INSTANCE COUNTS\n"
     ]
    }
   ],
   "source": [
    "print(\"ALL GROUPS  NOW HAVE SAME INSTANCE COUNTS\")"
   ]
  },
  {
   "cell_type": "code",
   "execution_count": 0,
   "metadata": {
    "colab": {
     "base_uri": "https://localhost:8080/",
     "height": 34
    },
    "colab_type": "code",
    "id": "K1uRSbI-0yj0",
    "outputId": "97e481bf-56bd-43bf-c2ec-ee4aca4fb09f"
   },
   "outputs": [
    {
     "name": "stdout",
     "output_type": "stream",
     "text": [
      "Let's do some data processing and model parameters setting\n"
     ]
    }
   ],
   "source": [
    "print(\"Let's do some data processing and model parameters setting\")\n",
    "MAX_NB_WORDS = 20000\n",
    "MAX_SENTS = 20\n",
    "MAX_SENTS_HEADING = 1\n",
    "MAX_SENT_LENGTH = 20\n",
    "VALIDATION_SPLIT = 0.2"
   ]
  },
  {
   "cell_type": "code",
   "execution_count": 0,
   "metadata": {
    "colab": {
     "base_uri": "https://localhost:8080/",
     "height": 68
    },
    "colab_type": "code",
    "id": "tQmrpL7f2gkh",
    "outputId": "9db59f70-ef36-473f-aa56-69cacf27aaa1"
   },
   "outputs": [
    {
     "name": "stdout",
     "output_type": "stream",
     "text": [
      "[nltk_data] Downloading package punkt to /root/nltk_data...\n",
      "[nltk_data]   Unzipping tokenizers/punkt.zip.\n"
     ]
    },
    {
     "data": {
      "text/plain": [
       "True"
      ]
     },
     "execution_count": 197,
     "metadata": {
      "tags": []
     },
     "output_type": "execute_result"
    }
   ],
   "source": [
    "nltk.download('punkt')"
   ]
  },
  {
   "cell_type": "code",
   "execution_count": 0,
   "metadata": {
    "colab": {},
    "colab_type": "code",
    "id": "3z9yYNIh2mrQ"
   },
   "outputs": [],
   "source": [
    "from keras.preprocessing.text import Tokenizer"
   ]
  },
  {
   "cell_type": "code",
   "execution_count": 0,
   "metadata": {
    "colab": {},
    "colab_type": "code",
    "id": "orgVGGvj2qP3"
   },
   "outputs": [],
   "source": [
    "t = Tokenizer(num_words=MAX_NB_WORDS,filters= '!\"#$%&()*+,-./:;<=>?@[\\]^_`{|}\\n“~')"
   ]
  },
  {
   "cell_type": "code",
   "execution_count": 0,
   "metadata": {
    "colab": {},
    "colab_type": "code",
    "id": "rrepdT7g2uqu"
   },
   "outputs": [],
   "source": [
    "t.fit_on_texts(ticket_rmpld['issue_description'])"
   ]
  },
  {
   "cell_type": "code",
   "execution_count": 0,
   "metadata": {
    "colab": {
     "base_uri": "https://localhost:8080/",
     "height": 34
    },
    "colab_type": "code",
    "id": "t-ReVd-03Tj4",
    "outputId": "8204552d-8612-437e-dadb-9867c4ba1aff"
   },
   "outputs": [
    {
     "data": {
      "text/plain": [
       "'ticket update on inplant_874743 . ticket update on inplant_874743'"
      ]
     },
     "execution_count": 209,
     "metadata": {
      "tags": []
     },
     "output_type": "execute_result"
    }
   ],
   "source": [
    "ticket_rmpld.iloc[15,2]"
   ]
  },
  {
   "cell_type": "code",
   "execution_count": 0,
   "metadata": {
    "colab": {
     "base_uri": "https://localhost:8080/",
     "height": 85
    },
    "colab_type": "code",
    "id": "EQSx2z7b3n9x",
    "outputId": "bdbc9962-90c4-423b-8d3e-6b8eeb75496e"
   },
   "outputs": [
    {
     "name": "stdout",
     "output_type": "stream",
     "text": [
      "FACTORED IN X COPY\n"
     ]
    },
    {
     "data": {
      "text/plain": [
       "Short description    ticket update on inplant_874743\n",
       "Description          ticket update on inplant_874743\n",
       "Name: 15, dtype: object"
      ]
     },
     "execution_count": 212,
     "metadata": {
      "tags": []
     },
     "output_type": "execute_result"
    }
   ],
   "source": [
    "print(\"FACTORED IN X COPY\")\n",
    "X.iloc[15,0:2]"
   ]
  },
  {
   "cell_type": "code",
   "execution_count": 0,
   "metadata": {
    "colab": {
     "base_uri": "https://localhost:8080/",
     "height": 85
    },
    "colab_type": "code",
    "id": "X40MqH2i38N2",
    "outputId": "beebb0ba-ec8e-40cf-fe65-c8240c4dbe67"
   },
   "outputs": [
    {
     "name": "stdout",
     "output_type": "stream",
     "text": [
      "Untouched COPY\n"
     ]
    },
    {
     "data": {
      "text/plain": [
       "Short description    ticket update on inplant_874743\n",
       "Description          ticket update on inplant_874743\n",
       "Name: 15, dtype: object"
      ]
     },
     "execution_count": 213,
     "metadata": {
      "tags": []
     },
     "output_type": "execute_result"
    }
   ],
   "source": [
    "print(\"Untouched COPY\")\n",
    "X_copy.iloc[15,0:2]"
   ]
  },
  {
   "cell_type": "code",
   "execution_count": 0,
   "metadata": {
    "colab": {
     "base_uri": "https://localhost:8080/",
     "height": 34
    },
    "colab_type": "code",
    "id": "_QzhXPT73D62",
    "outputId": "cbb983a3-7c94-44b3-b33f-023986065dfa"
   },
   "outputs": [
    {
     "name": "stdout",
     "output_type": "stream",
     "text": [
      "23773\n"
     ]
    }
   ],
   "source": [
    "vocab_size = len(t.word_index) + 1\n",
    "print(vocab_size)"
   ]
  },
  {
   "cell_type": "code",
   "execution_count": 0,
   "metadata": {
    "colab": {},
    "colab_type": "code",
    "id": "ZH2xM_2M3JYn"
   },
   "outputs": [],
   "source": [
    "texts = [] ## body\n",
    "statements =[] ## body splitted into senteces and stored as a list of lists\n",
    "\n",
    "## split into sentences\n",
    "for idx in range(ticket_rmpld['issue_description'].shape[0]):\n",
    "    text = ticket_rmpld['issue_description'][idx]\n",
    "    texts.append(text)\n",
    "    sentences = tokenize.sent_tokenize(text)\n",
    "    statements.append(sentences)"
   ]
  },
  {
   "cell_type": "code",
   "execution_count": 0,
   "metadata": {
    "colab": {
     "base_uri": "https://localhost:8080/",
     "height": 136
    },
    "colab_type": "code",
    "id": "_IFNOkn74PQJ",
    "outputId": "05b4ea9c-06fe-4d1a-dc5c-b671aa6a9880"
   },
   "outputs": [
    {
     "name": "stdout",
     "output_type": "stream",
     "text": [
      "Let's check collected statement at 0 index\n"
     ]
    },
    {
     "data": {
      "text/plain": [
       "['login issue .',\n",
       " '-verified user details.',\n",
       " '(employee# & manager name)\\r\\n-checked the user name in ad and reset the password.',\n",
       " '-advised the user to login and check.',\n",
       " '-caller confirmed that he was able to login.',\n",
       " '-issue resolved.']"
      ]
     },
     "execution_count": 215,
     "metadata": {
      "tags": []
     },
     "output_type": "execute_result"
    }
   ],
   "source": [
    "print(\"Let's check collected statement at 0 index\")\n",
    "statements[0]"
   ]
  },
  {
   "cell_type": "markdown",
   "metadata": {
    "colab_type": "text",
    "id": "W-chaEDA40xB"
   },
   "source": [
    "### Text Cleaning is required.... remove -, ( , # and other characters"
   ]
  },
  {
   "cell_type": "code",
   "execution_count": 0,
   "metadata": {
    "colab": {},
    "colab_type": "code",
    "id": "BbMZST_24c7F"
   },
   "outputs": [],
   "source": [
    "## Text TO IDS encoding is required\n",
    "data = np.zeros((len(texts), MAX_SENTS, MAX_SENT_LENGTH), dtype='int32')\n",
    "## word index encoding\n",
    "for i, sentences in enumerate(statements):\n",
    "    for j, sent in enumerate(sentences):\n",
    "        if j < MAX_SENTS:\n",
    "            wordTokens = text_to_word_sequence(sent)\n",
    "            k = 0\n",
    "            for _, word in enumerate(wordTokens):\n",
    "                try:\n",
    "                    if k < MAX_SENT_LENGTH and t.word_index[word] < MAX_NB_WORDS:\n",
    "                      data[i, j, k] = t.word_index[word]\n",
    "                      k = k + 1\n",
    "                except:\n",
    "#                       print(word)\n",
    "                        pass"
   ]
  },
  {
   "cell_type": "code",
   "execution_count": 0,
   "metadata": {
    "colab": {
     "base_uri": "https://localhost:8080/",
     "height": 731
    },
    "colab_type": "code",
    "id": "z-iyrJ8P4_8S",
    "outputId": "b4a6fe94-c18c-417c-c099-4bd5c9e219dc"
   },
   "outputs": [
    {
     "name": "stdout",
     "output_type": "stream",
     "text": [
      "Check the sentences are encoded\n"
     ]
    },
    {
     "data": {
      "text/plain": [
       "array([[ 164,   75,    0,    0,    0,    0,    0,    0,    0,    0,    0,\n",
       "           0,    0,    0,    0,    0,    0,    0,    0,    0],\n",
       "       [1438,   52,  599,    0,    0,    0,    0,    0,    0,    0,    0,\n",
       "           0,    0,    0,    0,    0,    0,    0,    0,    0],\n",
       "       [ 596,  152,   90,    1, 1080,    3,   52,   90,    4, 1155,    7,\n",
       "         194,    3,  108,    0,    0,    0,    0,    0,    0],\n",
       "       [2728,    3,   52,    2,  164,    7,  157,    0,    0,    0,    0,\n",
       "           0,    0,    0,    0,    0,    0,    0,    0,    0],\n",
       "       [2111, 1141,   40,  409,   81,  198,    2,  164,    0,    0,    0,\n",
       "           0,    0,    0,    0,    0,    0,    0,    0,    0],\n",
       "       [  75, 2220,    0,    0,    0,    0,    0,    0,    0,    0,    0,\n",
       "           0,    0,    0,    0,    0,    0,    0,    0,    0],\n",
       "       [   0,    0,    0,    0,    0,    0,    0,    0,    0,    0,    0,\n",
       "           0,    0,    0,    0,    0,    0,    0,    0,    0],\n",
       "       [   0,    0,    0,    0,    0,    0,    0,    0,    0,    0,    0,\n",
       "           0,    0,    0,    0,    0,    0,    0,    0,    0],\n",
       "       [   0,    0,    0,    0,    0,    0,    0,    0,    0,    0,    0,\n",
       "           0,    0,    0,    0,    0,    0,    0,    0,    0],\n",
       "       [   0,    0,    0,    0,    0,    0,    0,    0,    0,    0,    0,\n",
       "           0,    0,    0,    0,    0,    0,    0,    0,    0],\n",
       "       [   0,    0,    0,    0,    0,    0,    0,    0,    0,    0,    0,\n",
       "           0,    0,    0,    0,    0,    0,    0,    0,    0],\n",
       "       [   0,    0,    0,    0,    0,    0,    0,    0,    0,    0,    0,\n",
       "           0,    0,    0,    0,    0,    0,    0,    0,    0],\n",
       "       [   0,    0,    0,    0,    0,    0,    0,    0,    0,    0,    0,\n",
       "           0,    0,    0,    0,    0,    0,    0,    0,    0],\n",
       "       [   0,    0,    0,    0,    0,    0,    0,    0,    0,    0,    0,\n",
       "           0,    0,    0,    0,    0,    0,    0,    0,    0],\n",
       "       [   0,    0,    0,    0,    0,    0,    0,    0,    0,    0,    0,\n",
       "           0,    0,    0,    0,    0,    0,    0,    0,    0],\n",
       "       [   0,    0,    0,    0,    0,    0,    0,    0,    0,    0,    0,\n",
       "           0,    0,    0,    0,    0,    0,    0,    0,    0],\n",
       "       [   0,    0,    0,    0,    0,    0,    0,    0,    0,    0,    0,\n",
       "           0,    0,    0,    0,    0,    0,    0,    0,    0],\n",
       "       [   0,    0,    0,    0,    0,    0,    0,    0,    0,    0,    0,\n",
       "           0,    0,    0,    0,    0,    0,    0,    0,    0],\n",
       "       [   0,    0,    0,    0,    0,    0,    0,    0,    0,    0,    0,\n",
       "           0,    0,    0,    0,    0,    0,    0,    0,    0],\n",
       "       [   0,    0,    0,    0,    0,    0,    0,    0,    0,    0,    0,\n",
       "           0,    0,    0,    0,    0,    0,    0,    0,    0]],\n",
       "      dtype=int32)"
      ]
     },
     "execution_count": 217,
     "metadata": {
      "tags": []
     },
     "output_type": "execute_result"
    }
   ],
   "source": [
    "print(\"Check the sentences are encoded\")\n",
    "data[0, :, :]"
   ]
  },
  {
   "cell_type": "markdown",
   "metadata": {
    "colab_type": "text",
    "id": "Cun1lBA-5KgJ"
   },
   "source": [
    "### LOOKS SPARSE MATRIX,, SHOULD WE DO CORRECT IT?"
   ]
  },
  {
   "cell_type": "code",
   "execution_count": 0,
   "metadata": {
    "colab": {},
    "colab_type": "code",
    "id": "GTd37Mwy5Hjh"
   },
   "outputs": [],
   "source": []
  }
 ],
 "metadata": {
  "accelerator": "TPU",
  "colab": {
   "collapsed_sections": [],
   "name": "Automatic_Ticket_neptune.ipynb",
   "provenance": []
  },
  "kernelspec": {
   "display_name": "Python 3",
   "language": "python",
   "name": "python3"
  },
  "language_info": {
   "codemirror_mode": {
    "name": "ipython",
    "version": 3
   },
   "file_extension": ".py",
   "mimetype": "text/x-python",
   "name": "python",
   "nbconvert_exporter": "python",
   "pygments_lexer": "ipython3",
   "version": "3.7.3"
  }
 },
 "nbformat": 4,
 "nbformat_minor": 1
}
