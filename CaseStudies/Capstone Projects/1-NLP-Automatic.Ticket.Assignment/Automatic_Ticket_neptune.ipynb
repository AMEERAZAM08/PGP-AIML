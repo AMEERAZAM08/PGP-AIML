{
 "cells": [
  {
   "cell_type": "markdown",
   "metadata": {
    "colab_type": "text",
    "id": "8IpM7OD_4VgR"
   },
   "source": [
    "## Abstract:\n",
    "One of the key activities of any IT function is to ensure there is no\n",
    "impact to the Business operations. <b>IT leverages Incident Management process to achieve the\n",
    "above Objective.</b> An incident is something that is unplanned interruption to an IT service or\n",
    "reduction in the quality of an IT service that affects the Users and the Business. <b><i>The main goal\n",
    "of Incident Management process is to provide a quick fix / workarounds or solutions that resolves the interruption and restores the service to its full capacity to ensure no business impact.</i></b>\n",
    "\n",
    "In most of the organizations, incidents are created by various Business and IT Users, End Users/ Vendors if they have access to ticketing systems, and from the integrated monitoring\n",
    "systems and tools. <b>Assigning the incidents to the appropriate person or unit in the support team has critical importance to provide improved user satisfaction while ensuring better allocation of support resources.</b>\n",
    "\n",
    "<i> Manual assignment of incidents is time consuming and requires human efforts. There may be mistakes due to human errors and resource consumption is carried out ineffectively because of the misaddressing. On the other hand, manual assignment increases the response and resolution times which result in user satisfaction deterioration / poor customer service.</i>\n",
    "#### <b>Business Domain Value:</b> \n",
    "In the support process, incoming incidents are analyzed and assessed by organization’s support teams to fulfill the request. In many organizations, better allocation and effective usage of the valuable support resources will directly result in substantial cost savings.\n",
    "\n",
    "Currently the incidents are created by various stakeholders (Business Users, IT Users and Monitoring Tools) within IT Service Management Tool and are assigned to Service Desk teams (L1 / L2 teams). This team will review the incidents for right ticket categorization, priorities and then carry out initial diagnosis to see if they can resolve. Around ~54% of the incidents are resolved by L1 / L2 teams. Incase L1 / L2 is unable to resolve, they will then escalate / assign the tickets to Functional teams from Applications and Infrastructure (L3 teams). Some portions of incidents are directly assigned to L3 teams by either Monitoring tools or Callers / Requestors. L3 teams will carry out detailed diagnosis and resolve the incidents. Around ~56%\n",
    "of incidents are resolved by Functional / L3 teams. Incase if vendor support is needed, they will reach out for their support towards incident closure.\n",
    "\n",
    "L1 / L2 needs to spend time reviewing Standard Operating Procedures (SOPs) before assigning to Functional teams (Minimum ~25-30% of incidents needs to be reviewed for SOPs before ticket assignment). 15 min is being spent for SOP review for each incident. Minimum of ~1 FTE effort needed only for incident assignment to L3 teams. During the process of incident assignments by L1 / L2 teams to functional groups, there were multiple instances of incidents getting assigned to wrong functional groups. Around ~25% of Incidents are wrongly assigned to functional teams. Additional effort needed for Functional teams to re-assign to right functional groups. During this process, some of the incidents are in queue and not addressed timely resulting in poor customer service.\n",
    "\n",
    "## Objective:\n",
    "### Build Multi-Class classifier that can classify the tickets by analysing text.###\n",
    "Guided by powerful AI techniques that can classify incidents to right functional groups can help organizations to reduce the resolving time of the issue and can focus on more productive tasks.\n",
    "### Milestones\n",
    "1. Milestone 1: Pre-Processing, Data Visualisation and EDA\n",
    "  1. Exploring the given Data files\n",
    "  2. Understanding the structure of data\n",
    "  3. Missing points in data\n",
    "  4. Finding inconsistencies in the data\n",
    "  5. Visualizing different patterns\n",
    "  6. Visualizing different text features\n",
    "  7. Dealing with missing values\n",
    "  8. Text preprocessing\n",
    "  9. Creating word vocabulary from the corpus of report text data\n",
    "  10. Creating tokens as required\n",
    "\n",
    "2. Milestone 2: Model Building\n",
    "  1. Building a model architecture which can classify.\n",
    "  2. Trying different model architectures by researching state of the art for similar tasks.\n",
    "  3. Train the model\n",
    "  4. To deal with large training time, save the weights so that you can use them when training the model for the second time without starting from scratch.\n",
    "\n",
    "3. Milestone 3: Test the Model, Fine-tuning and Repeat\n",
    "  1. Test the model and report as per evaluation metrics\n",
    "  2. Try different models\n",
    "  3. Try different evaluation metrics\n",
    "  4. Set different hyper parameters, by trying different optimizers, loss functions, epochs, learning rate, batch size, checkpointing, early stopping etc..for these models to fine-tune them\n",
    "  5. Report evaluation metrics for these models along with your observation on how changing different hyper parameters leads to change in the final evaluation metric.\n",
    "---\n",
    "\n",
    "### <u>Imports and Configurations</u>\n",
    "Section to import all necessary packages. Install the libraries which are not included in Anaconda distribution by default using pypi channel or conda forge\n",
    "**``!pip install ftfy wordcloud goslate spacy inflect``**<br/>\n",
    "**``conda install -c conda-forge ftfy wordcloud goslate spacy inflect``**"
   ]
  },
  {
   "cell_type": "code",
   "execution_count": 1,
   "metadata": {
    "colab": {
     "base_uri": "https://localhost:8080/",
     "height": 243
    },
    "colab_type": "code",
    "executionInfo": {
     "elapsed": 7212,
     "status": "ok",
     "timestamp": 1581763584711,
     "user": {
      "displayName": "Akshaya Kumar Das",
      "photoUrl": "https://lh3.googleusercontent.com/a-/AAuE7mDs6ySnlrHQHuOg_R9k9-7RhVHCirW6cJVee9fP9w=s64",
      "userId": "00274796301986976222"
     },
     "user_tz": -330
    },
    "id": "WiZF13Fo3GyJ",
    "outputId": "12d45c0f-dd4b-4fee-f79b-576b4c995cd4"
   },
   "outputs": [
    {
     "name": "stderr",
     "output_type": "stream",
     "text": [
      "Using TensorFlow backend.\n"
     ]
    }
   ],
   "source": [
    "# Utilities\n",
    "from time import time\n",
    "from zipfile import ZipFile\n",
    "import os, sys, itertools, string\n",
    "import warnings, pickle, inflect, re\n",
    "from ftfy import fix_encoding, fix_text, badness\n",
    "from wordcloud import WordCloud, STOPWORDS, ImageColorGenerator\n",
    "\n",
    "# Translation APIs\n",
    "from goslate import Goslate # Provided by Google\n",
    "\n",
    "# Numerical calculation\n",
    "import numpy as np\n",
    "\n",
    "# Data Handling\n",
    "import pandas as pd\n",
    "\n",
    "# Data Visualization\n",
    "import plotly\n",
    "import matplotlib.pyplot as plt\n",
    "import seaborn as sns\n",
    "\n",
    "# Sequential Modeling\n",
    "import keras.backend as K\n",
    "from keras.datasets import imdb\n",
    "from keras.models import Sequential\n",
    "from keras.layers import Dropout, Flatten, Dense, Embedding, LSTM, TimeDistributed, Conv1D, MaxPooling1D\n",
    "from keras.constraints import max_norm, unit_norm\n",
    "from keras.preprocessing.text import Tokenizer, text_to_word_sequence\n",
    "from keras.preprocessing.sequence import pad_sequences\n",
    "\n",
    "# Tools & Evaluation metrics\n",
    "from sklearn.metrics import confusion_matrix, classification_report, roc_curve, auc, accuracy_score, precision_recall_curve\n",
    "from imblearn.over_sampling import RandomOverSampler\n",
    "\n",
    "# NLP toolkits\n",
    "import spacy\n",
    "import nltk\n",
    "from nltk import tokenize"
   ]
  },
  {
   "cell_type": "code",
   "execution_count": 2,
   "metadata": {
    "colab": {},
    "colab_type": "code",
    "id": "OGZ6LAbSWHIg"
   },
   "outputs": [],
   "source": [
    "# Configure for any default setting of any library\n",
    "warnings.filterwarnings('ignore')\n",
    "get_ipython().magic(u'matplotlib inline')\n",
    "plt.style.use('ggplot')"
   ]
  },
  {
   "cell_type": "markdown",
   "metadata": {
    "colab_type": "text",
    "id": "d8wrk8enWHIj"
   },
   "source": [
    "- Extract Glove 6Billion word embeddings. We're going to use the 200d file which has 200 embedding dimensions for each word in the corpus.\n",
    "- Load the bodies and headlines CSVs for both training and test data and join them together individually to form datasets.\n",
    "\n",
    "### <u>Set the working directory</u>\n",
    "Mount the drive and set the project path to cureent working directory, when running in Google Colab. No changes are required in case of running in Local PC."
   ]
  },
  {
   "cell_type": "code",
   "execution_count": 3,
   "metadata": {
    "colab": {
     "base_uri": "https://localhost:8080/",
     "height": 70
    },
    "colab_type": "code",
    "executionInfo": {
     "elapsed": 9447,
     "status": "ok",
     "timestamp": 1581763586966,
     "user": {
      "displayName": "Akshaya Kumar Das",
      "photoUrl": "https://lh3.googleusercontent.com/a-/AAuE7mDs6ySnlrHQHuOg_R9k9-7RhVHCirW6cJVee9fP9w=s64",
      "userId": "00274796301986976222"
     },
     "user_tz": -330
    },
    "id": "8W92PcktWHIk",
    "outputId": "7d38d0ca-a386-45ce-e06d-b1bf22691bdd"
   },
   "outputs": [
    {
     "name": "stdout",
     "output_type": "stream",
     "text": [
      "Current working directory D:\\Hands-On\\PGP-AIML\\CaseStudies\\Capstone Projects\\1-NLP-Automatic.Ticket.Assignment\n"
     ]
    }
   ],
   "source": [
    "# Block which runs on both Google Colab and Local PC without any modification\n",
    "if 'google.colab' in sys.modules:    \n",
    "    project_path = \"/content/drive/My Drive/Colab Notebooks/DLCP/Capstone-NLP/\"\n",
    "    # Google Colab lib\n",
    "    from google.colab import drive\n",
    "    # Mount the drive\n",
    "    drive.mount('/content/drive/', force_remount=True)\n",
    "    sys.path.append(project_path)\n",
    "    %cd $project_path\n",
    "\n",
    "# Let's look at the sys path\n",
    "print('Current working directory', os.getcwd())"
   ]
  },
  {
   "cell_type": "markdown",
   "metadata": {
    "colab_type": "text",
    "id": "WiNp2u2zWHIp"
   },
   "source": [
    "### <u>Extract Glove Embeddings</u>\n",
    "- Extract Glove 6Billion word embeddings. We're going to use the 200d file which has 200 embedding dimensions for each word in the corpus."
   ]
  },
  {
   "cell_type": "code",
   "execution_count": 4,
   "metadata": {
    "colab": {
     "base_uri": "https://localhost:8080/",
     "height": 34
    },
    "colab_type": "code",
    "executionInfo": {
     "elapsed": 9431,
     "status": "ok",
     "timestamp": 1581763586967,
     "user": {
      "displayName": "Akshaya Kumar Das",
      "photoUrl": "https://lh3.googleusercontent.com/a-/AAuE7mDs6ySnlrHQHuOg_R9k9-7RhVHCirW6cJVee9fP9w=s64",
      "userId": "00274796301986976222"
     },
     "user_tz": -330
    },
    "id": "FSACBiNaWHIq",
    "outputId": "630385c3-9a06-4a73-ae93-6f7598bf9639"
   },
   "outputs": [
    {
     "data": {
      "text/plain": [
       "['glove.6B.100d.txt',\n",
       " 'glove.6B.200d.txt',\n",
       " 'glove.6B.300d.txt',\n",
       " 'glove.6B.50d.txt']"
      ]
     },
     "execution_count": 4,
     "metadata": {},
     "output_type": "execute_result"
    }
   ],
   "source": [
    "# Check if it is already extracted else Open the zipped file as readonly\n",
    "if not os.path.isfile('glove.6B/glove.6B.200d.txt'):\n",
    "    glove_embeddings = 'glove.6B.zip'\n",
    "    with ZipFile(glove_embeddings, 'r') as archive:\n",
    "        archive.extractall('glove.6B')\n",
    "\n",
    "# List the files under extracted folder\n",
    "os.listdir('glove.6B')"
   ]
  },
  {
   "cell_type": "markdown",
   "metadata": {
    "colab_type": "text",
    "id": "7dW77XV-WHIt"
   },
   "source": [
    "---\n",
    "### <u>Load the dataset</u>"
   ]
  },
  {
   "cell_type": "code",
   "execution_count": 5,
   "metadata": {
    "colab": {
     "base_uri": "https://localhost:8080/",
     "height": 197
    },
    "colab_type": "code",
    "executionInfo": {
     "elapsed": 10681,
     "status": "ok",
     "timestamp": 1581763588233,
     "user": {
      "displayName": "Akshaya Kumar Das",
      "photoUrl": "https://lh3.googleusercontent.com/a-/AAuE7mDs6ySnlrHQHuOg_R9k9-7RhVHCirW6cJVee9fP9w=s64",
      "userId": "00274796301986976222"
     },
     "user_tz": -330
    },
    "id": "KPhEkq0UHdQR",
    "outputId": "42f79d10-6f49-4e1b-9329-5ad16f2a1cd7"
   },
   "outputs": [
    {
     "data": {
      "text/html": [
       "<div>\n",
       "<style scoped>\n",
       "    .dataframe tbody tr th:only-of-type {\n",
       "        vertical-align: middle;\n",
       "    }\n",
       "\n",
       "    .dataframe tbody tr th {\n",
       "        vertical-align: top;\n",
       "    }\n",
       "\n",
       "    .dataframe thead th {\n",
       "        text-align: right;\n",
       "    }\n",
       "</style>\n",
       "<table border=\"1\" class=\"dataframe\">\n",
       "  <thead>\n",
       "    <tr style=\"text-align: right;\">\n",
       "      <th></th>\n",
       "      <th>Short description</th>\n",
       "      <th>Description</th>\n",
       "      <th>Caller</th>\n",
       "      <th>Assignment group</th>\n",
       "    </tr>\n",
       "  </thead>\n",
       "  <tbody>\n",
       "    <tr>\n",
       "      <th>0</th>\n",
       "      <td>login issue</td>\n",
       "      <td>-verified user details.(employee# &amp; manager na...</td>\n",
       "      <td>spxjnwir pjlcoqds</td>\n",
       "      <td>GRP_0</td>\n",
       "    </tr>\n",
       "    <tr>\n",
       "      <th>1</th>\n",
       "      <td>outlook</td>\n",
       "      <td>\\r\\n\\r\\nreceived from: hmjdrvpb.komuaywn@gmail...</td>\n",
       "      <td>hmjdrvpb komuaywn</td>\n",
       "      <td>GRP_0</td>\n",
       "    </tr>\n",
       "    <tr>\n",
       "      <th>2</th>\n",
       "      <td>cant log in to vpn</td>\n",
       "      <td>\\r\\n\\r\\nreceived from: eylqgodm.ybqkwiam@gmail...</td>\n",
       "      <td>eylqgodm ybqkwiam</td>\n",
       "      <td>GRP_0</td>\n",
       "    </tr>\n",
       "    <tr>\n",
       "      <th>3</th>\n",
       "      <td>unable to access hr_tool page</td>\n",
       "      <td>unable to access hr_tool page</td>\n",
       "      <td>xbkucsvz gcpydteq</td>\n",
       "      <td>GRP_0</td>\n",
       "    </tr>\n",
       "    <tr>\n",
       "      <th>4</th>\n",
       "      <td>skype error</td>\n",
       "      <td>skype error</td>\n",
       "      <td>owlgqjme qhcozdfx</td>\n",
       "      <td>GRP_0</td>\n",
       "    </tr>\n",
       "  </tbody>\n",
       "</table>\n",
       "</div>"
      ],
      "text/plain": [
       "               Short description  \\\n",
       "0                    login issue   \n",
       "1                        outlook   \n",
       "2             cant log in to vpn   \n",
       "3  unable to access hr_tool page   \n",
       "4                   skype error    \n",
       "\n",
       "                                         Description             Caller  \\\n",
       "0  -verified user details.(employee# & manager na...  spxjnwir pjlcoqds   \n",
       "1  \\r\\n\\r\\nreceived from: hmjdrvpb.komuaywn@gmail...  hmjdrvpb komuaywn   \n",
       "2  \\r\\n\\r\\nreceived from: eylqgodm.ybqkwiam@gmail...  eylqgodm ybqkwiam   \n",
       "3                      unable to access hr_tool page  xbkucsvz gcpydteq   \n",
       "4                                       skype error   owlgqjme qhcozdfx   \n",
       "\n",
       "  Assignment group  \n",
       "0            GRP_0  \n",
       "1            GRP_0  \n",
       "2            GRP_0  \n",
       "3            GRP_0  \n",
       "4            GRP_0  "
      ]
     },
     "execution_count": 5,
     "metadata": {},
     "output_type": "execute_result"
    }
   ],
   "source": [
    "# Load the dataset into a Pandas dataframe called ticket and check the head of the dataset\n",
    "ticket = pd.read_excel('Input Data Synthetic (created but not used in our project).xlsx', )\n",
    "ticket.head()"
   ]
  },
  {
   "cell_type": "code",
   "execution_count": 6,
   "metadata": {
    "colab": {
     "base_uri": "https://localhost:8080/",
     "height": 197
    },
    "colab_type": "code",
    "executionInfo": {
     "elapsed": 10666,
     "status": "ok",
     "timestamp": 1581763588234,
     "user": {
      "displayName": "Akshaya Kumar Das",
      "photoUrl": "https://lh3.googleusercontent.com/a-/AAuE7mDs6ySnlrHQHuOg_R9k9-7RhVHCirW6cJVee9fP9w=s64",
      "userId": "00274796301986976222"
     },
     "user_tz": -330
    },
    "id": "lLEJIl1hWHIx",
    "outputId": "b0ec7fb4-a822-4f7e-d398-d40ecc0888b4"
   },
   "outputs": [
    {
     "data": {
      "text/html": [
       "<div>\n",
       "<style scoped>\n",
       "    .dataframe tbody tr th:only-of-type {\n",
       "        vertical-align: middle;\n",
       "    }\n",
       "\n",
       "    .dataframe tbody tr th {\n",
       "        vertical-align: top;\n",
       "    }\n",
       "\n",
       "    .dataframe thead th {\n",
       "        text-align: right;\n",
       "    }\n",
       "</style>\n",
       "<table border=\"1\" class=\"dataframe\">\n",
       "  <thead>\n",
       "    <tr style=\"text-align: right;\">\n",
       "      <th></th>\n",
       "      <th>Short description</th>\n",
       "      <th>Description</th>\n",
       "      <th>Caller</th>\n",
       "      <th>Assignment group</th>\n",
       "    </tr>\n",
       "  </thead>\n",
       "  <tbody>\n",
       "    <tr>\n",
       "      <th>8495</th>\n",
       "      <td>emails not coming in from zz mail</td>\n",
       "      <td>\\r\\n\\r\\nreceived from: avglmrts.vhqmtiua@gmail...</td>\n",
       "      <td>avglmrts vhqmtiua</td>\n",
       "      <td>GRP_29</td>\n",
       "    </tr>\n",
       "    <tr>\n",
       "      <th>8496</th>\n",
       "      <td>telephony_software issue</td>\n",
       "      <td>telephony_software issue</td>\n",
       "      <td>rbozivdq gmlhrtvp</td>\n",
       "      <td>GRP_0</td>\n",
       "    </tr>\n",
       "    <tr>\n",
       "      <th>8497</th>\n",
       "      <td>vip2: windows password reset for tifpdchb pedx...</td>\n",
       "      <td>vip2: windows password reset for tifpdchb pedx...</td>\n",
       "      <td>oybwdsgx oxyhwrfz</td>\n",
       "      <td>GRP_0</td>\n",
       "    </tr>\n",
       "    <tr>\n",
       "      <th>8498</th>\n",
       "      <td>machine nÃ£o estÃ¡ funcionando</td>\n",
       "      <td>i am unable to access the machine utilities to...</td>\n",
       "      <td>ufawcgob aowhxjky</td>\n",
       "      <td>GRP_62</td>\n",
       "    </tr>\n",
       "    <tr>\n",
       "      <th>8499</th>\n",
       "      <td>an mehreren pc`s lassen sich verschiedene prgr...</td>\n",
       "      <td>an mehreren pc`s lassen sich verschiedene prgr...</td>\n",
       "      <td>kqvbrspl jyzoklfx</td>\n",
       "      <td>GRP_49</td>\n",
       "    </tr>\n",
       "  </tbody>\n",
       "</table>\n",
       "</div>"
      ],
      "text/plain": [
       "                                      Short description  \\\n",
       "8495                  emails not coming in from zz mail   \n",
       "8496                           telephony_software issue   \n",
       "8497  vip2: windows password reset for tifpdchb pedx...   \n",
       "8498                     machine nÃ£o estÃ¡ funcionando   \n",
       "8499  an mehreren pc`s lassen sich verschiedene prgr...   \n",
       "\n",
       "                                            Description             Caller  \\\n",
       "8495  \\r\\n\\r\\nreceived from: avglmrts.vhqmtiua@gmail...  avglmrts vhqmtiua   \n",
       "8496                           telephony_software issue  rbozivdq gmlhrtvp   \n",
       "8497  vip2: windows password reset for tifpdchb pedx...  oybwdsgx oxyhwrfz   \n",
       "8498  i am unable to access the machine utilities to...  ufawcgob aowhxjky   \n",
       "8499  an mehreren pc`s lassen sich verschiedene prgr...  kqvbrspl jyzoklfx   \n",
       "\n",
       "     Assignment group  \n",
       "8495           GRP_29  \n",
       "8496            GRP_0  \n",
       "8497            GRP_0  \n",
       "8498           GRP_62  \n",
       "8499           GRP_49  "
      ]
     },
     "execution_count": 6,
     "metadata": {},
     "output_type": "execute_result"
    }
   ],
   "source": [
    "# Check the tail of the dataset\n",
    "ticket.tail()"
   ]
  },
  {
   "cell_type": "markdown",
   "metadata": {
    "colab_type": "text",
    "id": "NUCRreoJWHI0"
   },
   "source": [
    "**Comments**\n",
    "* To take a closer look at the data, pandas library provides **“.head()”** function which returns first five observations and **“.tail()”** function which returns last five observations of the data set.\n",
    "\n",
    "### <u>Inspect the Dataset</u>\n",
    "The dataset is divided into two parts, namely, **feature matrix** and the **response vector**.\n",
    "\n",
    "- Feature matrix contains all the vectors(rows) of dataset in which each vector consists of the value of **dependent features**. In above dataset, features are *Short description*, *Description* and *Caller*.\n",
    "- Response vector contains the value of **class variable**(prediction or output) for each row of feature matrix. In above dataset, the class variable name is *Assignment group*."
   ]
  },
  {
   "cell_type": "code",
   "execution_count": 7,
   "metadata": {
    "colab": {
     "base_uri": "https://localhost:8080/",
     "height": 52
    },
    "colab_type": "code",
    "executionInfo": {
     "elapsed": 10657,
     "status": "ok",
     "timestamp": 1581763588234,
     "user": {
      "displayName": "Akshaya Kumar Das",
      "photoUrl": "https://lh3.googleusercontent.com/a-/AAuE7mDs6ySnlrHQHuOg_R9k9-7RhVHCirW6cJVee9fP9w=s64",
      "userId": "00274796301986976222"
     },
     "user_tz": -330
    },
    "id": "MW_0NkG7WHI1",
    "outputId": "4d63a620-87ec-471e-b31c-0aec1efb31ae"
   },
   "outputs": [
    {
     "name": "stdout",
     "output_type": "stream",
     "text": [
      "No of rows:\u001b[1m 8500 \u001b[0m\n",
      "No of cols:\u001b[1m 4 \u001b[0m\n"
     ]
    }
   ],
   "source": [
    "# Get the shape and size of the dataset\n",
    "print('No of rows:\\033[1m', ticket.shape[0], '\\033[0m')\n",
    "print('No of cols:\\033[1m', ticket.shape[1], '\\033[0m')"
   ]
  },
  {
   "cell_type": "code",
   "execution_count": 8,
   "metadata": {
    "colab": {
     "base_uri": "https://localhost:8080/",
     "height": 176
    },
    "colab_type": "code",
    "executionInfo": {
     "elapsed": 10647,
     "status": "ok",
     "timestamp": 1581763588235,
     "user": {
      "displayName": "Akshaya Kumar Das",
      "photoUrl": "https://lh3.googleusercontent.com/a-/AAuE7mDs6ySnlrHQHuOg_R9k9-7RhVHCirW6cJVee9fP9w=s64",
      "userId": "00274796301986976222"
     },
     "user_tz": -330
    },
    "id": "sbdtY_fZWHI4",
    "outputId": "c4f525a6-ce9f-484d-a8ec-1ccc7d145f08",
    "scrolled": true
   },
   "outputs": [
    {
     "name": "stdout",
     "output_type": "stream",
     "text": [
      "<class 'pandas.core.frame.DataFrame'>\n",
      "RangeIndex: 8500 entries, 0 to 8499\n",
      "Data columns (total 4 columns):\n",
      "Short description    8492 non-null object\n",
      "Description          8499 non-null object\n",
      "Caller               8500 non-null object\n",
      "Assignment group     8500 non-null object\n",
      "dtypes: object(4)\n",
      "memory usage: 265.8+ KB\n"
     ]
    }
   ],
   "source": [
    "# Get more info on it\n",
    "# 1. Name of the columns\n",
    "# 2. Find the data types of each columns\n",
    "# 3. Look for any null/missing values\n",
    "ticket.info()"
   ]
  },
  {
   "cell_type": "code",
   "execution_count": 9,
   "metadata": {
    "colab": {
     "base_uri": "https://localhost:8080/",
     "height": 167
    },
    "colab_type": "code",
    "executionInfo": {
     "elapsed": 10636,
     "status": "ok",
     "timestamp": 1581763588235,
     "user": {
      "displayName": "Akshaya Kumar Das",
      "photoUrl": "https://lh3.googleusercontent.com/a-/AAuE7mDs6ySnlrHQHuOg_R9k9-7RhVHCirW6cJVee9fP9w=s64",
      "userId": "00274796301986976222"
     },
     "user_tz": -330
    },
    "id": "XSKcCAQ4WHI7",
    "outputId": "23890898-822c-496f-80e4-7d8a09d2133f"
   },
   "outputs": [
    {
     "data": {
      "text/html": [
       "<div>\n",
       "<style scoped>\n",
       "    .dataframe tbody tr th:only-of-type {\n",
       "        vertical-align: middle;\n",
       "    }\n",
       "\n",
       "    .dataframe tbody tr th {\n",
       "        vertical-align: top;\n",
       "    }\n",
       "\n",
       "    .dataframe thead th {\n",
       "        text-align: right;\n",
       "    }\n",
       "</style>\n",
       "<table border=\"1\" class=\"dataframe\">\n",
       "  <thead>\n",
       "    <tr style=\"text-align: right;\">\n",
       "      <th></th>\n",
       "      <th>Short description</th>\n",
       "      <th>Description</th>\n",
       "      <th>Caller</th>\n",
       "      <th>Assignment group</th>\n",
       "    </tr>\n",
       "  </thead>\n",
       "  <tbody>\n",
       "    <tr>\n",
       "      <th>count</th>\n",
       "      <td>8492</td>\n",
       "      <td>8499</td>\n",
       "      <td>8500</td>\n",
       "      <td>8500</td>\n",
       "    </tr>\n",
       "    <tr>\n",
       "      <th>unique</th>\n",
       "      <td>7481</td>\n",
       "      <td>7817</td>\n",
       "      <td>2950</td>\n",
       "      <td>74</td>\n",
       "    </tr>\n",
       "    <tr>\n",
       "      <th>top</th>\n",
       "      <td>password reset</td>\n",
       "      <td>the</td>\n",
       "      <td>bpctwhsn kzqsbmtp</td>\n",
       "      <td>GRP_0</td>\n",
       "    </tr>\n",
       "    <tr>\n",
       "      <th>freq</th>\n",
       "      <td>38</td>\n",
       "      <td>56</td>\n",
       "      <td>810</td>\n",
       "      <td>3976</td>\n",
       "    </tr>\n",
       "  </tbody>\n",
       "</table>\n",
       "</div>"
      ],
      "text/plain": [
       "       Short description Description             Caller Assignment group\n",
       "count               8492        8499               8500             8500\n",
       "unique              7481        7817               2950               74\n",
       "top       password reset         the  bpctwhsn kzqsbmtp            GRP_0\n",
       "freq                  38          56                810             3976"
      ]
     },
     "execution_count": 9,
     "metadata": {},
     "output_type": "execute_result"
    }
   ],
   "source": [
    "# Describe the dataset with various summary and statistics\n",
    "ticket.describe()"
   ]
  },
  {
   "cell_type": "code",
   "execution_count": 10,
   "metadata": {
    "colab": {
     "base_uri": "https://localhost:8080/",
     "height": 197
    },
    "colab_type": "code",
    "executionInfo": {
     "elapsed": 10577,
     "status": "ok",
     "timestamp": 1581763588236,
     "user": {
      "displayName": "Akshaya Kumar Das",
      "photoUrl": "https://lh3.googleusercontent.com/a-/AAuE7mDs6ySnlrHQHuOg_R9k9-7RhVHCirW6cJVee9fP9w=s64",
      "userId": "00274796301986976222"
     },
     "user_tz": -330
    },
    "id": "B60zhFrDWHI-",
    "outputId": "953667b3-2e70-45f2-9deb-988b0041ff27"
   },
   "outputs": [
    {
     "data": {
      "text/html": [
       "<div>\n",
       "<style scoped>\n",
       "    .dataframe tbody tr th:only-of-type {\n",
       "        vertical-align: middle;\n",
       "    }\n",
       "\n",
       "    .dataframe tbody tr th {\n",
       "        vertical-align: top;\n",
       "    }\n",
       "\n",
       "    .dataframe thead th {\n",
       "        text-align: right;\n",
       "    }\n",
       "</style>\n",
       "<table border=\"1\" class=\"dataframe\">\n",
       "  <thead>\n",
       "    <tr style=\"text-align: right;\">\n",
       "      <th></th>\n",
       "      <th>Short description</th>\n",
       "      <th>Description</th>\n",
       "      <th>Caller</th>\n",
       "      <th>Assignment group</th>\n",
       "    </tr>\n",
       "  </thead>\n",
       "  <tbody>\n",
       "    <tr>\n",
       "      <th>1049</th>\n",
       "      <td>reset passwords for soldfnbq uhnbsvqd using pa...</td>\n",
       "      <td>the</td>\n",
       "      <td>soldfnbq uhnbsvqd</td>\n",
       "      <td>GRP_17</td>\n",
       "    </tr>\n",
       "    <tr>\n",
       "      <th>1054</th>\n",
       "      <td>reset passwords for fygrwuna gomcekzi using pa...</td>\n",
       "      <td>the</td>\n",
       "      <td>fygrwuna gomcekzi</td>\n",
       "      <td>GRP_17</td>\n",
       "    </tr>\n",
       "    <tr>\n",
       "      <th>1144</th>\n",
       "      <td>reset passwords for wvdxnkhf jirecvta using pa...</td>\n",
       "      <td>the</td>\n",
       "      <td>wvdxnkhf jirecvta</td>\n",
       "      <td>GRP_17</td>\n",
       "    </tr>\n",
       "    <tr>\n",
       "      <th>1184</th>\n",
       "      <td>reset passwords for pxvjczdt kizsjfpq using pa...</td>\n",
       "      <td>the</td>\n",
       "      <td>pxvjczdt kizsjfpq</td>\n",
       "      <td>GRP_17</td>\n",
       "    </tr>\n",
       "    <tr>\n",
       "      <th>1292</th>\n",
       "      <td>reset passwords for cubdsrml znewqgop using pa...</td>\n",
       "      <td>the</td>\n",
       "      <td>cubdsrml znewqgop</td>\n",
       "      <td>GRP_17</td>\n",
       "    </tr>\n",
       "  </tbody>\n",
       "</table>\n",
       "</div>"
      ],
      "text/plain": [
       "                                      Short description Description  \\\n",
       "1049  reset passwords for soldfnbq uhnbsvqd using pa...         the   \n",
       "1054  reset passwords for fygrwuna gomcekzi using pa...         the   \n",
       "1144  reset passwords for wvdxnkhf jirecvta using pa...         the   \n",
       "1184  reset passwords for pxvjczdt kizsjfpq using pa...         the   \n",
       "1292  reset passwords for cubdsrml znewqgop using pa...         the   \n",
       "\n",
       "                 Caller Assignment group  \n",
       "1049  soldfnbq uhnbsvqd           GRP_17  \n",
       "1054  fygrwuna gomcekzi           GRP_17  \n",
       "1144  wvdxnkhf jirecvta           GRP_17  \n",
       "1184  pxvjczdt kizsjfpq           GRP_17  \n",
       "1292  cubdsrml znewqgop           GRP_17  "
      ]
     },
     "execution_count": 10,
     "metadata": {},
     "output_type": "execute_result"
    }
   ],
   "source": [
    "# Check the Short description of tickets having Description as only 'the'\n",
    "ticket[ticket.Description == 'the'].head()"
   ]
  },
  {
   "cell_type": "code",
   "execution_count": 11,
   "metadata": {
    "colab": {
     "base_uri": "https://localhost:8080/",
     "height": 105
    },
    "colab_type": "code",
    "executionInfo": {
     "elapsed": 10564,
     "status": "ok",
     "timestamp": 1581763588236,
     "user": {
      "displayName": "Akshaya Kumar Das",
      "photoUrl": "https://lh3.googleusercontent.com/a-/AAuE7mDs6ySnlrHQHuOg_R9k9-7RhVHCirW6cJVee9fP9w=s64",
      "userId": "00274796301986976222"
     },
     "user_tz": -330
    },
    "id": "GD7r8zXgWHJA",
    "outputId": "36dc96d7-866a-422e-8dd6-b3f50a49a405"
   },
   "outputs": [
    {
     "data": {
      "text/plain": [
       "Short description    8\n",
       "Description          1\n",
       "Caller               0\n",
       "Assignment group     0\n",
       "dtype: int64"
      ]
     },
     "execution_count": 11,
     "metadata": {},
     "output_type": "execute_result"
    }
   ],
   "source": [
    "# Find out the null value counts in each column\n",
    "ticket.isnull().sum()"
   ]
  },
  {
   "cell_type": "markdown",
   "metadata": {
    "colab_type": "text",
    "id": "8zMIhgDbWHJD"
   },
   "source": [
    "**Observations**\n",
    "- The dataset comprises of **8500 rows** and **4 columns**\n",
    "- All columns are of type object containing textual information.\n",
    "- There are **8 null/missing values** present in the Short description and **1 null/missing values** present in the description column\n",
    "- **Password reset** is one of the most occuring tickets which reflects in the Short description column.\n",
    "- The top occuring Description in the dataset is only the text **'the'**, which absolutely doesn't make any sense. hence by looking at the Short description of such rows reveals that these are also a category of Password reset.\n",
    "\n",
    "### <u>NULL treatment</u>"
   ]
  },
  {
   "cell_type": "code",
   "execution_count": 12,
   "metadata": {
    "colab": {
     "base_uri": "https://localhost:8080/",
     "height": 317
    },
    "colab_type": "code",
    "executionInfo": {
     "elapsed": 10557,
     "status": "ok",
     "timestamp": 1581763588237,
     "user": {
      "displayName": "Akshaya Kumar Das",
      "photoUrl": "https://lh3.googleusercontent.com/a-/AAuE7mDs6ySnlrHQHuOg_R9k9-7RhVHCirW6cJVee9fP9w=s64",
      "userId": "00274796301986976222"
     },
     "user_tz": -330
    },
    "id": "e3e7whWlWHJE",
    "outputId": "88893360-8d2d-4c35-b171-9cb1c2f8bc96"
   },
   "outputs": [
    {
     "data": {
      "text/html": [
       "<div>\n",
       "<style scoped>\n",
       "    .dataframe tbody tr th:only-of-type {\n",
       "        vertical-align: middle;\n",
       "    }\n",
       "\n",
       "    .dataframe tbody tr th {\n",
       "        vertical-align: top;\n",
       "    }\n",
       "\n",
       "    .dataframe thead th {\n",
       "        text-align: right;\n",
       "    }\n",
       "</style>\n",
       "<table border=\"1\" class=\"dataframe\">\n",
       "  <thead>\n",
       "    <tr style=\"text-align: right;\">\n",
       "      <th></th>\n",
       "      <th>Short description</th>\n",
       "      <th>Description</th>\n",
       "      <th>Caller</th>\n",
       "      <th>Assignment group</th>\n",
       "    </tr>\n",
       "  </thead>\n",
       "  <tbody>\n",
       "    <tr>\n",
       "      <th>2604</th>\n",
       "      <td>NaN</td>\n",
       "      <td>\\r\\n\\r\\nreceived from: ohdrnswl.rezuibdt@gmail...</td>\n",
       "      <td>ohdrnswl rezuibdt</td>\n",
       "      <td>GRP_34</td>\n",
       "    </tr>\n",
       "    <tr>\n",
       "      <th>3383</th>\n",
       "      <td>NaN</td>\n",
       "      <td>\\r\\n-connected to the user system using teamvi...</td>\n",
       "      <td>qftpazns fxpnytmk</td>\n",
       "      <td>GRP_0</td>\n",
       "    </tr>\n",
       "    <tr>\n",
       "      <th>3906</th>\n",
       "      <td>NaN</td>\n",
       "      <td>-user unable  tologin to vpn.\\r\\n-connected to...</td>\n",
       "      <td>awpcmsey ctdiuqwe</td>\n",
       "      <td>GRP_0</td>\n",
       "    </tr>\n",
       "    <tr>\n",
       "      <th>3910</th>\n",
       "      <td>NaN</td>\n",
       "      <td>-user unable  tologin to vpn.\\r\\n-connected to...</td>\n",
       "      <td>rhwsmefo tvphyura</td>\n",
       "      <td>GRP_0</td>\n",
       "    </tr>\n",
       "    <tr>\n",
       "      <th>3915</th>\n",
       "      <td>NaN</td>\n",
       "      <td>-user unable  tologin to vpn.\\r\\n-connected to...</td>\n",
       "      <td>hxripljo efzounig</td>\n",
       "      <td>GRP_0</td>\n",
       "    </tr>\n",
       "    <tr>\n",
       "      <th>3921</th>\n",
       "      <td>NaN</td>\n",
       "      <td>-user unable  tologin to vpn.\\r\\n-connected to...</td>\n",
       "      <td>cziadygo veiosxby</td>\n",
       "      <td>GRP_0</td>\n",
       "    </tr>\n",
       "    <tr>\n",
       "      <th>3924</th>\n",
       "      <td>NaN</td>\n",
       "      <td>name:wvqgbdhm fwchqjor\\nlanguage:\\nbrowser:mic...</td>\n",
       "      <td>wvqgbdhm fwchqjor</td>\n",
       "      <td>GRP_0</td>\n",
       "    </tr>\n",
       "    <tr>\n",
       "      <th>4341</th>\n",
       "      <td>NaN</td>\n",
       "      <td>\\r\\n\\r\\nreceived from: eqmuniov.ehxkcbgj@gmail...</td>\n",
       "      <td>eqmuniov ehxkcbgj</td>\n",
       "      <td>GRP_0</td>\n",
       "    </tr>\n",
       "    <tr>\n",
       "      <th>4395</th>\n",
       "      <td>i am locked out of skype</td>\n",
       "      <td>NaN</td>\n",
       "      <td>viyglzfo ajtfzpkb</td>\n",
       "      <td>GRP_0</td>\n",
       "    </tr>\n",
       "  </tbody>\n",
       "</table>\n",
       "</div>"
      ],
      "text/plain": [
       "             Short description  \\\n",
       "2604                       NaN   \n",
       "3383                       NaN   \n",
       "3906                       NaN   \n",
       "3910                       NaN   \n",
       "3915                       NaN   \n",
       "3921                       NaN   \n",
       "3924                       NaN   \n",
       "4341                       NaN   \n",
       "4395  i am locked out of skype   \n",
       "\n",
       "                                            Description             Caller  \\\n",
       "2604  \\r\\n\\r\\nreceived from: ohdrnswl.rezuibdt@gmail...  ohdrnswl rezuibdt   \n",
       "3383  \\r\\n-connected to the user system using teamvi...  qftpazns fxpnytmk   \n",
       "3906  -user unable  tologin to vpn.\\r\\n-connected to...  awpcmsey ctdiuqwe   \n",
       "3910  -user unable  tologin to vpn.\\r\\n-connected to...  rhwsmefo tvphyura   \n",
       "3915  -user unable  tologin to vpn.\\r\\n-connected to...  hxripljo efzounig   \n",
       "3921  -user unable  tologin to vpn.\\r\\n-connected to...  cziadygo veiosxby   \n",
       "3924  name:wvqgbdhm fwchqjor\\nlanguage:\\nbrowser:mic...  wvqgbdhm fwchqjor   \n",
       "4341  \\r\\n\\r\\nreceived from: eqmuniov.ehxkcbgj@gmail...  eqmuniov ehxkcbgj   \n",
       "4395                                                NaN  viyglzfo ajtfzpkb   \n",
       "\n",
       "     Assignment group  \n",
       "2604           GRP_34  \n",
       "3383            GRP_0  \n",
       "3906            GRP_0  \n",
       "3910            GRP_0  \n",
       "3915            GRP_0  \n",
       "3921            GRP_0  \n",
       "3924            GRP_0  \n",
       "4341            GRP_0  \n",
       "4395            GRP_0  "
      ]
     },
     "execution_count": 12,
     "metadata": {},
     "output_type": "execute_result"
    }
   ],
   "source": [
    "# Let's look at the rows with null values\n",
    "ticket[pd.isnull(ticket).any(axis=1)]"
   ]
  },
  {
   "cell_type": "code",
   "execution_count": 13,
   "metadata": {
    "colab": {
     "base_uri": "https://localhost:8080/",
     "height": 47
    },
    "colab_type": "code",
    "executionInfo": {
     "elapsed": 10551,
     "status": "ok",
     "timestamp": 1581763588237,
     "user": {
      "displayName": "Akshaya Kumar Das",
      "photoUrl": "https://lh3.googleusercontent.com/a-/AAuE7mDs6ySnlrHQHuOg_R9k9-7RhVHCirW6cJVee9fP9w=s64",
      "userId": "00274796301986976222"
     },
     "user_tz": -330
    },
    "id": "E9_ArfPHWHJG",
    "outputId": "99fa5b28-8553-4ce8-ea86-a85fbc6aa21c"
   },
   "outputs": [
    {
     "data": {
      "text/html": [
       "<div>\n",
       "<style scoped>\n",
       "    .dataframe tbody tr th:only-of-type {\n",
       "        vertical-align: middle;\n",
       "    }\n",
       "\n",
       "    .dataframe tbody tr th {\n",
       "        vertical-align: top;\n",
       "    }\n",
       "\n",
       "    .dataframe thead th {\n",
       "        text-align: right;\n",
       "    }\n",
       "</style>\n",
       "<table border=\"1\" class=\"dataframe\">\n",
       "  <thead>\n",
       "    <tr style=\"text-align: right;\">\n",
       "      <th></th>\n",
       "      <th>Short description</th>\n",
       "      <th>Description</th>\n",
       "      <th>Caller</th>\n",
       "      <th>Assignment group</th>\n",
       "    </tr>\n",
       "  </thead>\n",
       "  <tbody>\n",
       "  </tbody>\n",
       "</table>\n",
       "</div>"
      ],
      "text/plain": [
       "Empty DataFrame\n",
       "Columns: [Short description, Description, Caller, Assignment group]\n",
       "Index: []"
      ]
     },
     "execution_count": 13,
     "metadata": {},
     "output_type": "execute_result"
    }
   ],
   "source": [
    "# NULL replacement\n",
    "ticket.fillna(str(), inplace=True)\n",
    "ticket[pd.isnull(ticket).any(axis=1)]"
   ]
  },
  {
   "cell_type": "code",
   "execution_count": 14,
   "metadata": {
    "colab": {
     "base_uri": "https://localhost:8080/",
     "height": 105
    },
    "colab_type": "code",
    "executionInfo": {
     "elapsed": 10546,
     "status": "ok",
     "timestamp": 1581763588238,
     "user": {
      "displayName": "Akshaya Kumar Das",
      "photoUrl": "https://lh3.googleusercontent.com/a-/AAuE7mDs6ySnlrHQHuOg_R9k9-7RhVHCirW6cJVee9fP9w=s64",
      "userId": "00274796301986976222"
     },
     "user_tz": -330
    },
    "id": "0g6jMS-JWHJJ",
    "outputId": "a90611b9-5d55-4b39-a715-8138f1423734"
   },
   "outputs": [
    {
     "data": {
      "text/plain": [
       "Short description    0\n",
       "Description          0\n",
       "Caller               0\n",
       "Assignment group     0\n",
       "dtype: int64"
      ]
     },
     "execution_count": 14,
     "metadata": {},
     "output_type": "execute_result"
    }
   ],
   "source": [
    "# verify the replacement\n",
    "ticket.isnull().sum()"
   ]
  },
  {
   "cell_type": "markdown",
   "metadata": {
    "colab_type": "text",
    "id": "YxoaibJiWHJM"
   },
   "source": [
    "**Comments**:\n",
    "- We have various ways of treating the NULL/Missing values in the dataset such as \n",
    "    - Replacing them with empty string \n",
    "    - Replacing them with some default values\n",
    "    - Duplicating the Short description and Description values wherever one of them is Null\n",
    "    - Dropping the records with null/missing values completely.\n",
    "- We're not choosing to drop any record as we don't want to loose any information. And as we're going to concatenate the Short description and Description columns for each record while feeding them into NLP, we neither want to pollute the data by introducing any default values nor bias it by duplicating the description colomns.\n",
    "- Hence our NULL/Missing value treatment replaces the NaN cells with just empty string.\n",
    "\n",
    "### <u>Mojibake </u>\n",
    "[Mojibake](https://en.wikipedia.org/wiki/Mojibake) is the garbled text that is the result of text being decoded using an unintended character encoding. The result is a systematic replacement of symbols with completely unrelated ones, often from a different writing system.<br/>\n",
    "This display may include the generic replacement character (\"�\") in places where the binary representation is considered invalid. A replacement can also involve multiple consecutive symbols, as viewed in one encoding, when the same binary code constitutes one symbol in the other encoding. This is either because of differing constant length encoding (as in Asian 16-bit encodings vs European 8-bit encodings), or the use of variable length encodings (notably UTF-8 and UTF-16). Few such Mojibakes are **¶**, **ç**, **å**, **€**, **æ**, **œ**, **º**, **‡**, **¼**, **¥** etc.\n",
    "\n",
    "As we're dealing with Natural Language and the source of the data is unknown to us, let's run the encoding check to figure out if the dataset is Mojibake impacted.\n",
    "\n",
    "The library **ftfy** (Fixes Text For You) has a greater ability to detect, fix and deal with such Mojibakes. It fixes Unicode that’s broken in various ways. The goal of ftfy is to take in bad Unicode and output good Unicode.\n",
    "\n",
    "Installation:<br/>\n",
    "using pypi: **`!pip install ftfy`**<br/>\n",
    "using conda: **`conda install -c conda-forge ftfy`**"
   ]
  },
  {
   "cell_type": "code",
   "execution_count": 15,
   "metadata": {
    "colab": {
     "base_uri": "https://localhost:8080/",
     "height": 406
    },
    "colab_type": "code",
    "executionInfo": {
     "elapsed": 11343,
     "status": "ok",
     "timestamp": 1581763589043,
     "user": {
      "displayName": "Akshaya Kumar Das",
      "photoUrl": "https://lh3.googleusercontent.com/a-/AAuE7mDs6ySnlrHQHuOg_R9k9-7RhVHCirW6cJVee9fP9w=s64",
      "userId": "00274796301986976222"
     },
     "user_tz": -330
    },
    "id": "GlqmSEyKWHJN",
    "outputId": "a5b97fe4-d867-4cbf-cbe7-588248d55981"
   },
   "outputs": [
    {
     "data": {
      "text/html": [
       "<div>\n",
       "<style scoped>\n",
       "    .dataframe tbody tr th:only-of-type {\n",
       "        vertical-align: middle;\n",
       "    }\n",
       "\n",
       "    .dataframe tbody tr th {\n",
       "        vertical-align: top;\n",
       "    }\n",
       "\n",
       "    .dataframe thead th {\n",
       "        text-align: right;\n",
       "    }\n",
       "</style>\n",
       "<table border=\"1\" class=\"dataframe\">\n",
       "  <thead>\n",
       "    <tr style=\"text-align: right;\">\n",
       "      <th></th>\n",
       "      <th>Short description</th>\n",
       "      <th>Description</th>\n",
       "      <th>Caller</th>\n",
       "      <th>Assignment group</th>\n",
       "    </tr>\n",
       "  </thead>\n",
       "  <tbody>\n",
       "    <tr>\n",
       "      <th>99</th>\n",
       "      <td>password expiry tomorrow</td>\n",
       "      <td>\\n\\nreceived from: ecprjbod.litmjwsy@gmail.com...</td>\n",
       "      <td>ecprjbod litmjwsy</td>\n",
       "      <td>GRP_0</td>\n",
       "    </tr>\n",
       "    <tr>\n",
       "      <th>116</th>\n",
       "      <td>server issues</td>\n",
       "      <td>\\r\\n\\r\\nreceived from: bgqpotek.cuxakvml@gmail...</td>\n",
       "      <td>bgqpotek cuxakvml</td>\n",
       "      <td>GRP_0</td>\n",
       "    </tr>\n",
       "    <tr>\n",
       "      <th>124</th>\n",
       "      <td>mobile device activation</td>\n",
       "      <td>from: tvcdfqgp nrbcqwgj \\nsent: friday, octobe...</td>\n",
       "      <td>tvcdfqgp nrbcqwgj</td>\n",
       "      <td>GRP_0</td>\n",
       "    </tr>\n",
       "    <tr>\n",
       "      <th>164</th>\n",
       "      <td>æ’¤å›ž: ticket_no1564867 -- comments added</td>\n",
       "      <td>\\n\\nreceived from: abcdri@company.com\\n\\nwindy...</td>\n",
       "      <td>tycludks cjofwigv</td>\n",
       "      <td>GRP_0</td>\n",
       "    </tr>\n",
       "    <tr>\n",
       "      <th>170</th>\n",
       "      <td>[urgent!!] delivery note creation request!!</td>\n",
       "      <td>\\n\\nreceived from: fbvpcytz.nokypgvx@gmail.com...</td>\n",
       "      <td>fbvpcytz nokypgvx</td>\n",
       "      <td>GRP_18</td>\n",
       "    </tr>\n",
       "    <tr>\n",
       "      <th>...</th>\n",
       "      <td>...</td>\n",
       "      <td>...</td>\n",
       "      <td>...</td>\n",
       "      <td>...</td>\n",
       "    </tr>\n",
       "    <tr>\n",
       "      <th>8470</th>\n",
       "      <td>please review your recent ticketing_tool ticke...</td>\n",
       "      <td>from: mikhghytr wafglhdrhjop \\nsent: thursday,...</td>\n",
       "      <td>azxhejvq fyemlavd</td>\n",
       "      <td>GRP_16</td>\n",
       "    </tr>\n",
       "    <tr>\n",
       "      <th>8471</th>\n",
       "      <td>ç”µè„‘å¼€æœºå¼€ä¸å‡ºæ¥</td>\n",
       "      <td>to å°è´ºï¼Œæ—©ä¸Šç”µè„‘å¼€æœºå¼€ä¸å‡ºæ¥</td>\n",
       "      <td>xqyjztnm onfusvlz</td>\n",
       "      <td>GRP_30</td>\n",
       "    </tr>\n",
       "    <tr>\n",
       "      <th>8480</th>\n",
       "      <td>customer group enhanced field</td>\n",
       "      <td>\\r\\n\\r\\nreceived from: nlearzwi.ukdzstwi@gmail...</td>\n",
       "      <td>nlearzwi ukdzstwi</td>\n",
       "      <td>GRP_9</td>\n",
       "    </tr>\n",
       "    <tr>\n",
       "      <th>8498</th>\n",
       "      <td>machine nÃ£o estÃ¡ funcionando</td>\n",
       "      <td>i am unable to access the machine utilities to...</td>\n",
       "      <td>ufawcgob aowhxjky</td>\n",
       "      <td>GRP_62</td>\n",
       "    </tr>\n",
       "    <tr>\n",
       "      <th>8499</th>\n",
       "      <td>an mehreren pc`s lassen sich verschiedene prgr...</td>\n",
       "      <td>an mehreren pc`s lassen sich verschiedene prgr...</td>\n",
       "      <td>kqvbrspl jyzoklfx</td>\n",
       "      <td>GRP_49</td>\n",
       "    </tr>\n",
       "  </tbody>\n",
       "</table>\n",
       "<p>828 rows × 4 columns</p>\n",
       "</div>"
      ],
      "text/plain": [
       "                                      Short description  \\\n",
       "99                             password expiry tomorrow   \n",
       "116                                       server issues   \n",
       "124                            mobile device activation   \n",
       "164          æ’¤å›ž: ticket_no1564867 -- comments added   \n",
       "170        [urgent!!] delivery note creation request!!    \n",
       "...                                                 ...   \n",
       "8470  please review your recent ticketing_tool ticke...   \n",
       "8471                           ç”µè„‘å¼€æœºå¼€ä¸å‡ºæ¥   \n",
       "8480                      customer group enhanced field   \n",
       "8498                     machine nÃ£o estÃ¡ funcionando   \n",
       "8499  an mehreren pc`s lassen sich verschiedene prgr...   \n",
       "\n",
       "                                            Description             Caller  \\\n",
       "99    \\n\\nreceived from: ecprjbod.litmjwsy@gmail.com...  ecprjbod litmjwsy   \n",
       "116   \\r\\n\\r\\nreceived from: bgqpotek.cuxakvml@gmail...  bgqpotek cuxakvml   \n",
       "124   from: tvcdfqgp nrbcqwgj \\nsent: friday, octobe...  tvcdfqgp nrbcqwgj   \n",
       "164   \\n\\nreceived from: abcdri@company.com\\n\\nwindy...  tycludks cjofwigv   \n",
       "170   \\n\\nreceived from: fbvpcytz.nokypgvx@gmail.com...  fbvpcytz nokypgvx   \n",
       "...                                                 ...                ...   \n",
       "8470  from: mikhghytr wafglhdrhjop \\nsent: thursday,...  azxhejvq fyemlavd   \n",
       "8471         to å°è´ºï¼Œæ—©ä¸Šç”µè„‘å¼€æœºå¼€ä¸å‡ºæ¥  xqyjztnm onfusvlz   \n",
       "8480  \\r\\n\\r\\nreceived from: nlearzwi.ukdzstwi@gmail...  nlearzwi ukdzstwi   \n",
       "8498  i am unable to access the machine utilities to...  ufawcgob aowhxjky   \n",
       "8499  an mehreren pc`s lassen sich verschiedene prgr...  kqvbrspl jyzoklfx   \n",
       "\n",
       "     Assignment group  \n",
       "99              GRP_0  \n",
       "116             GRP_0  \n",
       "124             GRP_0  \n",
       "164             GRP_0  \n",
       "170            GRP_18  \n",
       "...               ...  \n",
       "8470           GRP_16  \n",
       "8471           GRP_30  \n",
       "8480            GRP_9  \n",
       "8498           GRP_62  \n",
       "8499           GRP_49  \n",
       "\n",
       "[828 rows x 4 columns]"
      ]
     },
     "execution_count": 15,
     "metadata": {},
     "output_type": "execute_result"
    }
   ],
   "source": [
    "# Write a function to apply to the dataset to detect Mojibakes\n",
    "def is_mojibake_impacted(text):\n",
    "    if not badness.sequence_weirdness(text):\n",
    "        # nothing weird, should be okay\n",
    "        return True\n",
    "    try:\n",
    "        text.encode('sloppy-windows-1252')\n",
    "    except UnicodeEncodeError:\n",
    "        # Not CP-1252 encodable, probably fine\n",
    "        return True\n",
    "    else:\n",
    "        # Encodable as CP-1252, Mojibake alert level high\n",
    "        return False\n",
    "    \n",
    "# Check the dataset for mojibake impact\n",
    "ticket[~ticket.iloc[:,:-1].applymap(is_mojibake_impacted).all(1)]"
   ]
  },
  {
   "cell_type": "code",
   "execution_count": 16,
   "metadata": {
    "colab": {
     "base_uri": "https://localhost:8080/",
     "height": 105
    },
    "colab_type": "code",
    "executionInfo": {
     "elapsed": 11338,
     "status": "ok",
     "timestamp": 1581763589043,
     "user": {
      "displayName": "Akshaya Kumar Das",
      "photoUrl": "https://lh3.googleusercontent.com/a-/AAuE7mDs6ySnlrHQHuOg_R9k9-7RhVHCirW6cJVee9fP9w=s64",
      "userId": "00274796301986976222"
     },
     "user_tz": -330
    },
    "id": "QfbSL07CWHJQ",
    "outputId": "d79d0980-4b62-417a-a38d-afc84030535d"
   },
   "outputs": [
    {
     "name": "stdout",
     "output_type": "stream",
     "text": [
      "Grabled text: \u001b[1mç”µè„‘å¼€æœºå¼€ä¸å‡ºæ¥\u001b[0m\n",
      "Fixed text: \u001b[1m电脑开机开不出来\u001b[0m\n",
      "\n",
      "Mojibake Symbol RegEx:\n",
      " [ÂÃĂ][-€ƒ‚„†‡ˆ‰‹Œ“•˜œŸ¡¢£¤¥¦§¨ª«¬¯°±²³µ¶·¸¹º¼½¾¿ˇ˘˝]|[ÂÃĂ][›»‘”©™]\\w|[¬√][ÄÅÇÉÑÖÜáàâäãåçéèêëíìîïñúùûü†¢£§¶ß®©™≠ÆØ¥ªæø≤≥]|\\w√[±∂]\\w|[ðđ][Ÿ]|â€|вЂ[љћ¦°№™ќ“”]\n"
     ]
    }
   ],
   "source": [
    "# Take an example of row# 8471 Short Desc and fix it\n",
    "print('Grabled text: \\033[1m%s\\033[0m\\nFixed text: \\033[1m%s\\033[0m' % (ticket['Short description'][8471], \n",
    "                                                                        fix_text(ticket['Short description'][8471])))\n",
    "\n",
    "# List all mojibakes defined in ftfy library\n",
    "print('\\nMojibake Symbol RegEx:\\n', badness.MOJIBAKE_SYMBOL_RE.pattern)"
   ]
  },
  {
   "cell_type": "code",
   "execution_count": 17,
   "metadata": {
    "colab": {
     "base_uri": "https://localhost:8080/",
     "height": 105
    },
    "colab_type": "code",
    "executionInfo": {
     "elapsed": 13890,
     "status": "ok",
     "timestamp": 1581763591601,
     "user": {
      "displayName": "Akshaya Kumar Das",
      "photoUrl": "https://lh3.googleusercontent.com/a-/AAuE7mDs6ySnlrHQHuOg_R9k9-7RhVHCirW6cJVee9fP9w=s64",
      "userId": "00274796301986976222"
     },
     "user_tz": -330
    },
    "id": "-QooBMXvWHJS",
    "outputId": "1cbe7ec1-0706-49cc-e744-9696ed8d6b00"
   },
   "outputs": [
    {
     "data": {
      "text/plain": [
       "Short description             电脑开机开不出来\n",
       "Description           to 小贺,早上电脑开机开不出来\n",
       "Caller               xqyjztnm onfusvlz\n",
       "Assignment group                GRP_30\n",
       "Name: 8471, dtype: object"
      ]
     },
     "execution_count": 17,
     "metadata": {},
     "output_type": "execute_result"
    }
   ],
   "source": [
    "# Sanitize the dataset from Mojibakes\n",
    "ticket['Short description'] = ticket['Short description'].apply(fix_text)\n",
    "ticket['Description'] = ticket['Description'].apply(fix_text)\n",
    "\n",
    "# Visualize that row# 8471\n",
    "ticket.iloc[8471,:]"
   ]
  },
  {
   "cell_type": "code",
   "execution_count": 18,
   "metadata": {
    "colab": {},
    "colab_type": "code",
    "id": "1i6HOJPWWHJX"
   },
   "outputs": [],
   "source": [
    "# Serialize the mojibake treated dataset\n",
    "ticket.to_csv('mojibake_encoded.csv', index=False, encoding='utf_8_sig')\n",
    "with open('mojibake_treated.pkl', 'wb') as handle:\n",
    "    pickle.dump(ticket, handle, protocol=pickle.HIGHEST_PROTOCOL)"
   ]
  },
  {
   "cell_type": "markdown",
   "metadata": {
    "colab_type": "text",
    "id": "VIAsgbkZWHJa"
   },
   "source": [
    "**Comments:**\n",
    "- `badness.sequence_weirdness()` determines how often a text has unexpected characters or sequences of characters. This metric is used to disambiguate when text should be re-decoded or left as is.\n",
    "- We're successfuly able to get the grabled characters back into their original form using **ftfy.fix_text()``**, however it is observed that the row# 8471 is not English but Mandarine.\n",
    "- So the data in our hand is multilingual and it is quite not possible to derive embeddings for mix of multiple languages. We're going to translate the entire dataset into a single language of English.\n",
    "\n",
    "### <u>Language Translation (Goslate: Free Google Translate API)</u>\n",
    "Goslate is an open source python library that implemented Google Translate API. This uses the [Google Translate Ajax API](https://translate.google.com/) to make calls to such methods as detect and translate. It is choosen over another library Googletrans from Google as Goslate is developed to bypass the ticketing mechanism to prevent simple crawler program to access the Ajax API. Hence Goslate with multiple service urls is able to translate the entire dataset in very few iterations without blocking the user's IP address.\n",
    "\n",
    "Installation:<br/>\n",
    "using pypi: **`!pip install goslate`**<br/>\n",
    "using conda: **`conda install -c conda-forge goslate`**\n",
    "\n",
    "Servicce Urls used:\n",
    "**``translate.google.com``**, **``translate.google.com.au``**, **``translate.google.com.ar``**, **``translate.google.co.kr``**, **``translate.google.co.in``**, **``translate.google.co.jp``**, **``translate.google.at``**, **``translate.google.de``**, **``translate.google.ru``**, **``translate.google.ch``**, **``translate.google.fr``**, **``translate.google.es``**, **``translate.google.ae``**"
   ]
  },
  {
   "cell_type": "code",
   "execution_count": 19,
   "metadata": {
    "colab": {
     "base_uri": "https://localhost:8080/",
     "height": 52
    },
    "colab_type": "code",
    "executionInfo": {
     "elapsed": 14586,
     "status": "ok",
     "timestamp": 1581763592308,
     "user": {
      "displayName": "Akshaya Kumar Das",
      "photoUrl": "https://lh3.googleusercontent.com/a-/AAuE7mDs6ySnlrHQHuOg_R9k9-7RhVHCirW6cJVee9fP9w=s64",
      "userId": "00274796301986976222"
     },
     "user_tz": -330
    },
    "id": "PvitgqP1WHJa",
    "outputId": "a368f8ee-4598-442c-f3bd-3d3320647270"
   },
   "outputs": [
    {
     "name": "stdout",
     "output_type": "stream",
     "text": [
      "Original text: \u001b[1m电脑开机开不出来\u001b[0m\n",
      "Fixed text: \u001b[1mBoot the computer does not really come out\u001b[0m\n"
     ]
    }
   ],
   "source": [
    "# Define and construct the service urls\n",
    "svc_domains = ['.com','.com.au','.com.ar','.co.kr','.co.in','.co.jp','.at','.de','.ru','.ch','.fr','.es','.ae']\n",
    "svc_urls = ['http://translate.google' + domain for domain in svc_domains]\n",
    "\n",
    "# Take an example of row# 8471 Short Desc and fix it\n",
    "gs = Goslate(service_urls=svc_urls)\n",
    "trans_8471 = gs.translate(ticket['Short description'][8471], target_language='en', source_language='auto')\n",
    "print('Original text: \\033[1m%s\\033[0m\\nFixed text: \\033[1m%s\\033[0m' % (ticket['Short description'][8471], trans_8471))"
   ]
  },
  {
   "cell_type": "code",
   "execution_count": 20,
   "metadata": {
    "colab": {},
    "colab_type": "code",
    "id": "78YfunbPWHJd"
   },
   "outputs": [],
   "source": [
    "# # List of column data to consider for translation\n",
    "# trans_cols = ['Short description','Description']\n",
    "# for idx in range(ticket.shape[0]):\n",
    "#     # Instantiate Goslate class in each iteration\n",
    "#     gs = Goslate(service_urls=svc_urls)\n",
    "#     row_iter = gs.translate(ticket.loc[idx, trans_cols].tolist(), \n",
    "#                             target_language='en', \n",
    "#                             source_language='auto')\n",
    "#     ticket.loc[idx, trans_cols] = list(row_iter)"
   ]
  },
  {
   "cell_type": "code",
   "execution_count": 21,
   "metadata": {
    "colab": {},
    "colab_type": "code",
    "id": "jHeU63qrWHJf"
   },
   "outputs": [],
   "source": [
    "# # Serialize the translated dataset\n",
    "# ticket.to_csv('translated_ticket.csv', index=False, encoding='utf_8_sig')\n",
    "# with open('translated_ticket.pkl','wb') as f:\n",
    "#     pickle.dump(ticket, f, pickle.HIGHEST_PROTOCOL)"
   ]
  },
  {
   "cell_type": "code",
   "execution_count": 22,
   "metadata": {},
   "outputs": [],
   "source": [
    "# DELETE THIS CELL BEFORE SUBMITTING\n",
    "ticket = pd.read_csv('translated_ticket.csv')"
   ]
  },
  {
   "cell_type": "markdown",
   "metadata": {},
   "source": [
    "**Comments**:\n",
    "- Unless paid service is used, Google blocks repetative hits to its Ajax API either via Googletrans or Goslate after certain iterations by cloagging the IP address.\n",
    "- Using these list of various domains of translation API as service urls helped the traffic being patched among themselves, in turn allowing a longer buffer before the IP gets blocked.\n",
    "\n",
    "### <u>Text Preprocessing</u>\n",
    "Text preprocessing is the process of transferring text from human language to machine-readable format for further processing. After a text is obtained, we start with text normalization. Text normalization includes:\n",
    "- converting all letters to lower or upper case\n",
    "- converting numbers into words or removing numbers\n",
    "- removing punctuations, accent marks and other diacritics\n",
    "- removing white spaces\n",
    "- removing stop words, sparse terms, and particular words\n",
    "- text canonicalization\n",
    "\n",
    "Numbers are converted to their corresponding word representation using a open source library called *inflect*\n",
    "\n",
    "Installation:<br/>\n",
    "using pypi: **`!pip install inflect`**<br/>\n",
    "using conda: **`conda install -c conda-forge inflect`**"
   ]
  },
  {
   "cell_type": "code",
   "execution_count": 23,
   "metadata": {},
   "outputs": [],
   "source": [
    "# Define regex patterns\n",
    "EMAIL_PATTERN = r\"[\\w.+-]+@[a-z\\d-]+\\.[a-z\\d.-]+\"\n",
    "PUNCT_PATTERN = r\"[,|@|\\|?|\\\\|$&*|%|\\r|\\n|.:|\\s+|/|//|\\\\|/|\\||-|<|>|;|(|)|=|+|#|-|\\\"|[-\\]]|{|}]\"\n",
    "NUMER_PATTERN = r'(\\d+(?:\\.\\d+)?)'\n",
    "\n",
    "# Define a function to treat the texts\n",
    "def cleanseText(text):\n",
    "    # Make the text unicase (lower) \n",
    "    text = str(text).lower()\n",
    "    # Remove email adresses\n",
    "    text = re.sub(EMAIL_PATTERN, '', text, flags=re.IGNORECASE)\n",
    "    # Replace all numbers to their word representation\n",
    "    text = re.sub(NUMER_PATTERN, lambda x: inflect.engine().number_to_words(x.group()), text)\n",
    "    # Replace all punctuations with blank space\n",
    "    text = re.sub(PUNCT_PATTERN, \" \", text, flags=re.MULTILINE)\n",
    "    # text = text.translate(str.maketrans(\"\",\"\", string.punctuation))\n",
    "    # Replace multiple spaces from prev step to single\n",
    "    text = re.sub(r' {2,}', \" \", text, flags=re.MULTILINE)\n",
    "    text = text.replace('`',\"'\")\n",
    "    return text.strip()"
   ]
  },
  {
   "cell_type": "code",
   "execution_count": 24,
   "metadata": {},
   "outputs": [
    {
     "name": "stdout",
     "output_type": "stream",
     "text": [
      "\u001b[1mOriginal text:\u001b[0m\n",
      "received from: kxsceyzo.naokumlb@gmail.com\n",
      "\n",
      "gentles,\n",
      "\n",
      "i have two devices that are trying to share an ip address. they are trying to share 96.26.27.9619. one is a printer with the hostname of prtjc0074, and the other is a new display for erp. the display is using dhcp to get its address assigned and the printer is hard coded.\n",
      "\n",
      "my guess is that the address 96.26.27.9619 did not get set to a static address in dhcp. i need this corrected so the display will pick up another address.\n",
      "____________________________________________________________________________________________________\n",
      "\u001b[1mCleaned text:\u001b[0m\n",
      "received from gentles i have two devices that are trying to share an ip address they are trying to share ninety-six point two six twenty-seven point nine six one nine one is a printer with the hostname of prtjcseventy-four and the other is a new display for erp the display is using dhcp to get its address assigned and the printer is hard coded my guess is that the address ninety-six point two six twenty-seven point nine six one nine did not get set to a static address in dhcp i need this corrected so the display will pick up another address\n"
     ]
    }
   ],
   "source": [
    "# Take an example of row# 32 Description and fix it\n",
    "print('\\033[1mOriginal text:\\033[0m')\n",
    "print(ticket['Description'][32])\n",
    "print('_'*100)\n",
    "print('\\033[1mCleaned text:\\033[0m')\n",
    "print(cleanseText(ticket['Description'][32]))"
   ]
  },
  {
   "cell_type": "code",
   "execution_count": 25,
   "metadata": {},
   "outputs": [
    {
     "data": {
      "text/html": [
       "<div>\n",
       "<style scoped>\n",
       "    .dataframe tbody tr th:only-of-type {\n",
       "        vertical-align: middle;\n",
       "    }\n",
       "\n",
       "    .dataframe tbody tr th {\n",
       "        vertical-align: top;\n",
       "    }\n",
       "\n",
       "    .dataframe thead th {\n",
       "        text-align: right;\n",
       "    }\n",
       "</style>\n",
       "<table border=\"1\" class=\"dataframe\">\n",
       "  <thead>\n",
       "    <tr style=\"text-align: right;\">\n",
       "      <th></th>\n",
       "      <th>Short description</th>\n",
       "      <th>Description</th>\n",
       "      <th>Caller</th>\n",
       "      <th>Assignment group</th>\n",
       "    </tr>\n",
       "  </thead>\n",
       "  <tbody>\n",
       "    <tr>\n",
       "      <th>8495</th>\n",
       "      <td>emails not coming in from zz mail</td>\n",
       "      <td>received from good afternoon i am not receivin...</td>\n",
       "      <td>avglmrts vhqmtiua</td>\n",
       "      <td>GRP_29</td>\n",
       "    </tr>\n",
       "    <tr>\n",
       "      <th>8496</th>\n",
       "      <td>telephony_software issue</td>\n",
       "      <td>telephony_software issue</td>\n",
       "      <td>rbozivdq gmlhrtvp</td>\n",
       "      <td>GRP_0</td>\n",
       "    </tr>\n",
       "    <tr>\n",
       "      <th>8497</th>\n",
       "      <td>viptwo windows password reset for tifpdchb ped...</td>\n",
       "      <td>viptwo windows password reset for tifpdchb ped...</td>\n",
       "      <td>oybwdsgx oxyhwrfz</td>\n",
       "      <td>GRP_0</td>\n",
       "    </tr>\n",
       "    <tr>\n",
       "      <th>8498</th>\n",
       "      <td>machine is not working</td>\n",
       "      <td>i am unable to access the machine utilities to...</td>\n",
       "      <td>ufawcgob aowhxjky</td>\n",
       "      <td>GRP_62</td>\n",
       "    </tr>\n",
       "    <tr>\n",
       "      <th>8499</th>\n",
       "      <td>various prgramdntyme can not be opened on mult...</td>\n",
       "      <td>various prgramdntyme can not be opened on mult...</td>\n",
       "      <td>kqvbrspl jyzoklfx</td>\n",
       "      <td>GRP_49</td>\n",
       "    </tr>\n",
       "  </tbody>\n",
       "</table>\n",
       "</div>"
      ],
      "text/plain": [
       "                                      Short description  \\\n",
       "8495                  emails not coming in from zz mail   \n",
       "8496                           telephony_software issue   \n",
       "8497  viptwo windows password reset for tifpdchb ped...   \n",
       "8498                             machine is not working   \n",
       "8499  various prgramdntyme can not be opened on mult...   \n",
       "\n",
       "                                            Description             Caller  \\\n",
       "8495  received from good afternoon i am not receivin...  avglmrts vhqmtiua   \n",
       "8496                           telephony_software issue  rbozivdq gmlhrtvp   \n",
       "8497  viptwo windows password reset for tifpdchb ped...  oybwdsgx oxyhwrfz   \n",
       "8498  i am unable to access the machine utilities to...  ufawcgob aowhxjky   \n",
       "8499  various prgramdntyme can not be opened on mult...  kqvbrspl jyzoklfx   \n",
       "\n",
       "     Assignment group  \n",
       "8495           GRP_29  \n",
       "8496            GRP_0  \n",
       "8497            GRP_0  \n",
       "8498           GRP_62  \n",
       "8499           GRP_49  "
      ]
     },
     "execution_count": 25,
     "metadata": {},
     "output_type": "execute_result"
    }
   ],
   "source": [
    "# Apply the cleaning function to entire dataset\n",
    "ticket['Description'] = ticket['Description'].apply(cleanseText)\n",
    "ticket['Short description'] = ticket['Short description'].apply(cleanseText)\n",
    "\n",
    "# Verify the data\n",
    "ticket.tail()"
   ]
  },
  {
   "cell_type": "markdown",
   "metadata": {},
   "source": [
    "**Comments:**\n",
    "- Entire dataset is converted into lower case\n",
    "- Users email addresses will add NO value to our analysis, despite the fact that user id is given in the caller column. So all email adresses are removed from the dataset\n",
    "- All numerals are converted into their word representation. Such as `error_23` becomes `error_twenty three`\n",
    "- All punctuation marks are removed which used to be a hindrance in lemmatization.\n",
    "- All occurances of more than one blank spaces, horizontal tab spaces, new line breaks etc. have been replaced with single blank space.\n",
    "\n",
    "Now with a nice and cleaner data in our hand let's proceed towards Lemmatization.\n",
    "### <u>Stemming and Lemmatization</u>\n",
    "Stemming and Lemmatization are Text Normalization (or sometimes called Word Normalization) techniques in the field of Natural Language Processing that are used to prepare text, words, and documents for further processing.<br/>\n",
    "In grammar, inflection is known as the modification of a word to express different grammatical categories such as tense, case, voice, aspect, person, number, gender, and mood. An inflection expresses one or more grammatical categories with a prefix, suffix or infix, or another internal modification such as a vowel change.\n",
    "\n",
    "**Stemming**<br/>\n",
    "Stemming is the process of reducing inflection in words to their root forms such as mapping a group of words to the same stem even if the stem itself is not a valid word in the Language.\n",
    "\n",
    "**Lemmatization**<br/>\n",
    "Lemmatization, unlike Stemming, reduces the inflected words properly ensuring that the root word belongs to the language. In Lemmatization root word is called Lemma. A lemma (plural lemmas or lemmata) is the canonical form, dictionary form, or citation form of a set of words.\n",
    "\n",
    "### spaCy\n",
    "The [spaCy](https://spacy.io/) library is one of the most popular NLP libraries along with NLTK which contains only one, but the best algorithm to solve any Natural Language problem. Once it is downloaded and installed, the next step is to download the language model, which is used to perform a variety of NLP tasks.\n",
    "\n",
    "Installation:<br/>\n",
    "using pypi: **`!pip install spacy`**<br/>\n",
    "using conda: **`conda install -c conda-forge spacy`**\n",
    "\n",
    "Language Model Download:<br/>\n",
    "**``$ python -m spacy download en_core_web_md``**"
   ]
  },
  {
   "cell_type": "code",
   "execution_count": 26,
   "metadata": {},
   "outputs": [],
   "source": [
    "# Initialize spacy 'en' medium model, keeping only tagger component needed for lemmatization\n",
    "nlp = spacy.load('en_core_web_md', disable=['parser', 'ner'])\n",
    "\n",
    "# Define a function to lemmatize the descriptions\n",
    "def lemmatizer(sentence):\n",
    "    # Parse the sentence using the loaded 'en' model object `nlp`\n",
    "    doc = nlp(sentence)\n",
    "    return \" \".join([token.lemma_ for token in doc if token.lemma_ !='-PRON-'])"
   ]
  },
  {
   "cell_type": "code",
   "execution_count": 27,
   "metadata": {},
   "outputs": [
    {
     "name": "stdout",
     "output_type": "stream",
     "text": [
      "\u001b[1mOriginal text:\u001b[0m\n",
      "received from hi - the printerone printer is not working and needs a part replaced can you reroute the jobs in queue to printer printertwo wihuyjdo qpogfwkb has indicated that prqosone needs a new part and it may not deliver for a few days so the inwarehouse_tools will need to print on printertwo for now this needs to be taken care of today since the inwarehouse_tools are printed and are picked up by an outside vendor at two thirty pm in usa on a daily basis please contact dkmcfreg anwmfvlgenkataramdntyana if you have questions about the jobs in queue for today\n",
      "____________________________________________________________________________________________________\n",
      "\u001b[1mLemmatized text:\u001b[0m\n",
      "receive from hi - the printerone printer be not work and need a part replace can reroute the job in queue to printer printertwo wihuyjdo qpogfwkb have indicate that prqosone need a new part and may not deliver for a few day so the inwarehouse_tools will need to print on printertwo for now this need to be take care of today since the inwarehouse_tools be print and be pick up by an outside vendor at two thirty pm in usa on a daily basis please contact dkmcfreg anwmfvlgenkataramdntyana if have question about the job in queue for today\n"
     ]
    }
   ],
   "source": [
    "# Take an example of row# 43 Description and lemmatize it\n",
    "print('\\033[1mOriginal text:\\033[0m')\n",
    "print(ticket['Description'][43])\n",
    "print('_'*100)\n",
    "print('\\033[1mLemmatized text:\\033[0m')\n",
    "print(lemmatizer(ticket['Description'][43]))"
   ]
  },
  {
   "cell_type": "code",
   "execution_count": 28,
   "metadata": {},
   "outputs": [
    {
     "data": {
      "text/html": [
       "<div>\n",
       "<style scoped>\n",
       "    .dataframe tbody tr th:only-of-type {\n",
       "        vertical-align: middle;\n",
       "    }\n",
       "\n",
       "    .dataframe tbody tr th {\n",
       "        vertical-align: top;\n",
       "    }\n",
       "\n",
       "    .dataframe thead th {\n",
       "        text-align: right;\n",
       "    }\n",
       "</style>\n",
       "<table border=\"1\" class=\"dataframe\">\n",
       "  <thead>\n",
       "    <tr style=\"text-align: right;\">\n",
       "      <th></th>\n",
       "      <th>Short description</th>\n",
       "      <th>Description</th>\n",
       "      <th>Caller</th>\n",
       "      <th>Assignment group</th>\n",
       "    </tr>\n",
       "  </thead>\n",
       "  <tbody>\n",
       "    <tr>\n",
       "      <th>8495</th>\n",
       "      <td>email not come in from zz mail</td>\n",
       "      <td>receive from good afternoon i be not receive t...</td>\n",
       "      <td>avglmrts vhqmtiua</td>\n",
       "      <td>GRP_29</td>\n",
       "    </tr>\n",
       "    <tr>\n",
       "      <th>8496</th>\n",
       "      <td>telephony_software issue</td>\n",
       "      <td>telephony_software issue</td>\n",
       "      <td>rbozivdq gmlhrtvp</td>\n",
       "      <td>GRP_0</td>\n",
       "    </tr>\n",
       "    <tr>\n",
       "      <th>8497</th>\n",
       "      <td>viptwo windows password reset for tifpdchb ped...</td>\n",
       "      <td>viptwo windows password reset for tifpdchb ped...</td>\n",
       "      <td>oybwdsgx oxyhwrfz</td>\n",
       "      <td>GRP_0</td>\n",
       "    </tr>\n",
       "    <tr>\n",
       "      <th>8498</th>\n",
       "      <td>machine be not work</td>\n",
       "      <td>i be unable to access the machine utility to f...</td>\n",
       "      <td>ufawcgob aowhxjky</td>\n",
       "      <td>GRP_62</td>\n",
       "    </tr>\n",
       "    <tr>\n",
       "      <th>8499</th>\n",
       "      <td>various prgramdntyme can not be open on multip...</td>\n",
       "      <td>various prgramdntyme can not be open on multip...</td>\n",
       "      <td>kqvbrspl jyzoklfx</td>\n",
       "      <td>GRP_49</td>\n",
       "    </tr>\n",
       "  </tbody>\n",
       "</table>\n",
       "</div>"
      ],
      "text/plain": [
       "                                      Short description  \\\n",
       "8495                     email not come in from zz mail   \n",
       "8496                           telephony_software issue   \n",
       "8497  viptwo windows password reset for tifpdchb ped...   \n",
       "8498                                machine be not work   \n",
       "8499  various prgramdntyme can not be open on multip...   \n",
       "\n",
       "                                            Description             Caller  \\\n",
       "8495  receive from good afternoon i be not receive t...  avglmrts vhqmtiua   \n",
       "8496                           telephony_software issue  rbozivdq gmlhrtvp   \n",
       "8497  viptwo windows password reset for tifpdchb ped...  oybwdsgx oxyhwrfz   \n",
       "8498  i be unable to access the machine utility to f...  ufawcgob aowhxjky   \n",
       "8499  various prgramdntyme can not be open on multip...  kqvbrspl jyzoklfx   \n",
       "\n",
       "     Assignment group  \n",
       "8495           GRP_29  \n",
       "8496            GRP_0  \n",
       "8497            GRP_0  \n",
       "8498           GRP_62  \n",
       "8499           GRP_49  "
      ]
     },
     "execution_count": 28,
     "metadata": {},
     "output_type": "execute_result"
    }
   ],
   "source": [
    "# Apply the Lemmatization to entire dataset\n",
    "ticket['Description'] = ticket['Description'].apply(lemmatizer)\n",
    "ticket['Short description'] = ticket['Short description'].apply(lemmatizer)\n",
    "\n",
    "# Verify the data\n",
    "ticket.tail()"
   ]
  },
  {
   "cell_type": "code",
   "execution_count": 29,
   "metadata": {},
   "outputs": [],
   "source": [
    "# Serialize the preprocessed dataset\n",
    "ticket.to_csv('preprocessed_ticket.csv', index=False, encoding='utf_8_sig')\n",
    "with open('preprocessed_ticket.pkl','wb') as f:\n",
    "    pickle.dump(ticket, f, pickle.HIGHEST_PROTOCOL)"
   ]
  }
 ],
 "metadata": {
  "accelerator": "TPU",
  "colab": {
   "collapsed_sections": [],
   "name": "Automatic_Ticket_neptune.ipynb",
   "provenance": []
  },
  "kernelspec": {
   "display_name": "Python 3",
   "language": "python",
   "name": "python3"
  },
  "language_info": {
   "codemirror_mode": {
    "name": "ipython",
    "version": 3
   },
   "file_extension": ".py",
   "mimetype": "text/x-python",
   "name": "python",
   "nbconvert_exporter": "python",
   "pygments_lexer": "ipython3",
   "version": "3.7.3"
  }
 },
 "nbformat": 4,
 "nbformat_minor": 1
}
